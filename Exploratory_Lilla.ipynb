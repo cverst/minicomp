{
 "cells": [
  {
   "cell_type": "code",
   "execution_count": 1,
   "id": "76273743",
   "metadata": {},
   "outputs": [
    {
     "name": "stderr",
     "output_type": "stream",
     "text": [
      "/opt/anaconda3/lib/python3.8/site-packages/IPython/core/interactiveshell.py:3441: DtypeWarning: Columns (7) have mixed types.Specify dtype option on import or set low_memory=False.\n",
      "  exec(code_obj, self.user_global_ns, self.user_ns)\n"
     ]
    }
   ],
   "source": [
    "import pandas as pd\n",
    "import numpy as np\n",
    "\n",
    "store_data = pd.read_csv(\"./data/store.csv\")\n",
    "\n",
    "train_data = pd.read_csv(\"./data/train.csv\")"
   ]
  },
  {
   "cell_type": "code",
   "execution_count": 2,
   "id": "4fff23e8",
   "metadata": {
    "scrolled": true
   },
   "outputs": [
    {
     "data": {
      "text/html": [
       "<div>\n",
       "<style scoped>\n",
       "    .dataframe tbody tr th:only-of-type {\n",
       "        vertical-align: middle;\n",
       "    }\n",
       "\n",
       "    .dataframe tbody tr th {\n",
       "        vertical-align: top;\n",
       "    }\n",
       "\n",
       "    .dataframe thead th {\n",
       "        text-align: right;\n",
       "    }\n",
       "</style>\n",
       "<table border=\"1\" class=\"dataframe\">\n",
       "  <thead>\n",
       "    <tr style=\"text-align: right;\">\n",
       "      <th></th>\n",
       "      <th>Date</th>\n",
       "      <th>Store</th>\n",
       "      <th>DayOfWeek</th>\n",
       "      <th>Sales</th>\n",
       "      <th>Customers</th>\n",
       "      <th>Open</th>\n",
       "      <th>Promo</th>\n",
       "      <th>StateHoliday</th>\n",
       "      <th>SchoolHoliday</th>\n",
       "    </tr>\n",
       "  </thead>\n",
       "  <tbody>\n",
       "    <tr>\n",
       "      <th>0</th>\n",
       "      <td>2013-01-01</td>\n",
       "      <td>1115.0</td>\n",
       "      <td>2.0</td>\n",
       "      <td>0.0</td>\n",
       "      <td>0.0</td>\n",
       "      <td>0.0</td>\n",
       "      <td>0.0</td>\n",
       "      <td>a</td>\n",
       "      <td>1.0</td>\n",
       "    </tr>\n",
       "    <tr>\n",
       "      <th>1</th>\n",
       "      <td>2013-01-01</td>\n",
       "      <td>379.0</td>\n",
       "      <td>2.0</td>\n",
       "      <td>0.0</td>\n",
       "      <td>0.0</td>\n",
       "      <td>0.0</td>\n",
       "      <td>0.0</td>\n",
       "      <td>a</td>\n",
       "      <td>1.0</td>\n",
       "    </tr>\n",
       "    <tr>\n",
       "      <th>2</th>\n",
       "      <td>2013-01-01</td>\n",
       "      <td>378.0</td>\n",
       "      <td>2.0</td>\n",
       "      <td>0.0</td>\n",
       "      <td>0.0</td>\n",
       "      <td>0.0</td>\n",
       "      <td>0.0</td>\n",
       "      <td>a</td>\n",
       "      <td>1.0</td>\n",
       "    </tr>\n",
       "    <tr>\n",
       "      <th>3</th>\n",
       "      <td>2013-01-01</td>\n",
       "      <td>377.0</td>\n",
       "      <td>2.0</td>\n",
       "      <td>0.0</td>\n",
       "      <td>0.0</td>\n",
       "      <td>0.0</td>\n",
       "      <td>0.0</td>\n",
       "      <td>a</td>\n",
       "      <td>1.0</td>\n",
       "    </tr>\n",
       "    <tr>\n",
       "      <th>4</th>\n",
       "      <td>2013-01-01</td>\n",
       "      <td>376.0</td>\n",
       "      <td>2.0</td>\n",
       "      <td>0.0</td>\n",
       "      <td>0.0</td>\n",
       "      <td>0.0</td>\n",
       "      <td>0.0</td>\n",
       "      <td>a</td>\n",
       "      <td>1.0</td>\n",
       "    </tr>\n",
       "  </tbody>\n",
       "</table>\n",
       "</div>"
      ],
      "text/plain": [
       "         Date   Store  DayOfWeek  Sales  Customers  Open  Promo StateHoliday  \\\n",
       "0  2013-01-01  1115.0        2.0    0.0        0.0   0.0    0.0            a   \n",
       "1  2013-01-01   379.0        2.0    0.0        0.0   0.0    0.0            a   \n",
       "2  2013-01-01   378.0        2.0    0.0        0.0   0.0    0.0            a   \n",
       "3  2013-01-01   377.0        2.0    0.0        0.0   0.0    0.0            a   \n",
       "4  2013-01-01   376.0        2.0    0.0        0.0   0.0    0.0            a   \n",
       "\n",
       "   SchoolHoliday  \n",
       "0            1.0  \n",
       "1            1.0  \n",
       "2            1.0  \n",
       "3            1.0  \n",
       "4            1.0  "
      ]
     },
     "execution_count": 2,
     "metadata": {},
     "output_type": "execute_result"
    }
   ],
   "source": [
    "train_data.head()"
   ]
  },
  {
   "cell_type": "code",
   "execution_count": 3,
   "id": "1671e61b",
   "metadata": {
    "scrolled": false
   },
   "outputs": [],
   "source": [
    "merged_no_drop = train_data.merge(store_data, how=\"left\", on=\"Store\")"
   ]
  },
  {
   "cell_type": "code",
   "execution_count": 4,
   "id": "8b0ebe08",
   "metadata": {},
   "outputs": [
    {
     "data": {
      "text/plain": [
       "(637774, 18)"
      ]
     },
     "execution_count": 4,
     "metadata": {},
     "output_type": "execute_result"
    }
   ],
   "source": [
    "merged_no_drop.shape"
   ]
  },
  {
   "cell_type": "code",
   "execution_count": 5,
   "id": "a6976b38",
   "metadata": {
    "scrolled": true
   },
   "outputs": [],
   "source": [
    "#bmerged_data.loc[:, merged_data.isna().any()]"
   ]
  },
  {
   "cell_type": "code",
   "execution_count": 25,
   "id": "8d3ca4b8",
   "metadata": {},
   "outputs": [],
   "source": [
    "merged_data_missing = merged_no_drop[merged_no_drop.isna().any(axis=1)]\n",
    "promo_merged_data_missing = merged_data_missing[merged_data_missing['PromoInterval'].isnull()]\n",
    "store_and_promo = merged_data_missing[merged_data_missing['Store'].isnull()]\n",
    "store_and_promo.to_csv(\"./data/store_and_promo.csv\")"
   ]
  },
  {
   "cell_type": "code",
   "execution_count": 26,
   "id": "565c3877",
   "metadata": {},
   "outputs": [
    {
     "data": {
      "text/html": [
       "<div>\n",
       "<style scoped>\n",
       "    .dataframe tbody tr th:only-of-type {\n",
       "        vertical-align: middle;\n",
       "    }\n",
       "\n",
       "    .dataframe tbody tr th {\n",
       "        vertical-align: top;\n",
       "    }\n",
       "\n",
       "    .dataframe thead th {\n",
       "        text-align: right;\n",
       "    }\n",
       "</style>\n",
       "<table border=\"1\" class=\"dataframe\">\n",
       "  <thead>\n",
       "    <tr style=\"text-align: right;\">\n",
       "      <th></th>\n",
       "      <th>Date</th>\n",
       "      <th>Store</th>\n",
       "      <th>DayOfWeek</th>\n",
       "      <th>Sales</th>\n",
       "      <th>Customers</th>\n",
       "      <th>Open</th>\n",
       "      <th>Promo</th>\n",
       "      <th>StateHoliday</th>\n",
       "      <th>SchoolHoliday</th>\n",
       "      <th>StoreType</th>\n",
       "      <th>Assortment</th>\n",
       "      <th>CompetitionDistance</th>\n",
       "      <th>CompetitionOpenSinceMonth</th>\n",
       "      <th>CompetitionOpenSinceYear</th>\n",
       "      <th>Promo2</th>\n",
       "      <th>Promo2SinceWeek</th>\n",
       "      <th>Promo2SinceYear</th>\n",
       "      <th>PromoInterval</th>\n",
       "    </tr>\n",
       "  </thead>\n",
       "  <tbody>\n",
       "    <tr>\n",
       "      <th>136</th>\n",
       "      <td>2013-01-01</td>\n",
       "      <td>NaN</td>\n",
       "      <td>2.0</td>\n",
       "      <td>0.0</td>\n",
       "      <td>0.0</td>\n",
       "      <td>0.0</td>\n",
       "      <td>0.0</td>\n",
       "      <td>a</td>\n",
       "      <td>1.0</td>\n",
       "      <td>NaN</td>\n",
       "      <td>NaN</td>\n",
       "      <td>NaN</td>\n",
       "      <td>NaN</td>\n",
       "      <td>NaN</td>\n",
       "      <td>NaN</td>\n",
       "      <td>NaN</td>\n",
       "      <td>NaN</td>\n",
       "      <td>NaN</td>\n",
       "    </tr>\n",
       "    <tr>\n",
       "      <th>138</th>\n",
       "      <td>2013-01-01</td>\n",
       "      <td>NaN</td>\n",
       "      <td>2.0</td>\n",
       "      <td>0.0</td>\n",
       "      <td>0.0</td>\n",
       "      <td>0.0</td>\n",
       "      <td>0.0</td>\n",
       "      <td>a</td>\n",
       "      <td>1.0</td>\n",
       "      <td>NaN</td>\n",
       "      <td>NaN</td>\n",
       "      <td>NaN</td>\n",
       "      <td>NaN</td>\n",
       "      <td>NaN</td>\n",
       "      <td>NaN</td>\n",
       "      <td>NaN</td>\n",
       "      <td>NaN</td>\n",
       "      <td>NaN</td>\n",
       "    </tr>\n",
       "    <tr>\n",
       "      <th>178</th>\n",
       "      <td>2013-01-01</td>\n",
       "      <td>NaN</td>\n",
       "      <td>2.0</td>\n",
       "      <td>0.0</td>\n",
       "      <td>0.0</td>\n",
       "      <td>0.0</td>\n",
       "      <td>0.0</td>\n",
       "      <td>a</td>\n",
       "      <td>1.0</td>\n",
       "      <td>NaN</td>\n",
       "      <td>NaN</td>\n",
       "      <td>NaN</td>\n",
       "      <td>NaN</td>\n",
       "      <td>NaN</td>\n",
       "      <td>NaN</td>\n",
       "      <td>NaN</td>\n",
       "      <td>NaN</td>\n",
       "      <td>NaN</td>\n",
       "    </tr>\n",
       "    <tr>\n",
       "      <th>183</th>\n",
       "      <td>2013-01-01</td>\n",
       "      <td>NaN</td>\n",
       "      <td>2.0</td>\n",
       "      <td>NaN</td>\n",
       "      <td>0.0</td>\n",
       "      <td>0.0</td>\n",
       "      <td>0.0</td>\n",
       "      <td>a</td>\n",
       "      <td>1.0</td>\n",
       "      <td>NaN</td>\n",
       "      <td>NaN</td>\n",
       "      <td>NaN</td>\n",
       "      <td>NaN</td>\n",
       "      <td>NaN</td>\n",
       "      <td>NaN</td>\n",
       "      <td>NaN</td>\n",
       "      <td>NaN</td>\n",
       "      <td>NaN</td>\n",
       "    </tr>\n",
       "    <tr>\n",
       "      <th>198</th>\n",
       "      <td>2013-01-01</td>\n",
       "      <td>NaN</td>\n",
       "      <td>2.0</td>\n",
       "      <td>0.0</td>\n",
       "      <td>0.0</td>\n",
       "      <td>0.0</td>\n",
       "      <td>0.0</td>\n",
       "      <td>a</td>\n",
       "      <td>NaN</td>\n",
       "      <td>NaN</td>\n",
       "      <td>NaN</td>\n",
       "      <td>NaN</td>\n",
       "      <td>NaN</td>\n",
       "      <td>NaN</td>\n",
       "      <td>NaN</td>\n",
       "      <td>NaN</td>\n",
       "      <td>NaN</td>\n",
       "      <td>NaN</td>\n",
       "    </tr>\n",
       "    <tr>\n",
       "      <th>...</th>\n",
       "      <td>...</td>\n",
       "      <td>...</td>\n",
       "      <td>...</td>\n",
       "      <td>...</td>\n",
       "      <td>...</td>\n",
       "      <td>...</td>\n",
       "      <td>...</td>\n",
       "      <td>...</td>\n",
       "      <td>...</td>\n",
       "      <td>...</td>\n",
       "      <td>...</td>\n",
       "      <td>...</td>\n",
       "      <td>...</td>\n",
       "      <td>...</td>\n",
       "      <td>...</td>\n",
       "      <td>...</td>\n",
       "      <td>...</td>\n",
       "      <td>...</td>\n",
       "    </tr>\n",
       "    <tr>\n",
       "      <th>637707</th>\n",
       "      <td>2014-07-31</td>\n",
       "      <td>NaN</td>\n",
       "      <td>4.0</td>\n",
       "      <td>7619.0</td>\n",
       "      <td>625.0</td>\n",
       "      <td>1.0</td>\n",
       "      <td>1.0</td>\n",
       "      <td>0</td>\n",
       "      <td>1.0</td>\n",
       "      <td>NaN</td>\n",
       "      <td>NaN</td>\n",
       "      <td>NaN</td>\n",
       "      <td>NaN</td>\n",
       "      <td>NaN</td>\n",
       "      <td>NaN</td>\n",
       "      <td>NaN</td>\n",
       "      <td>NaN</td>\n",
       "      <td>NaN</td>\n",
       "    </tr>\n",
       "    <tr>\n",
       "      <th>637708</th>\n",
       "      <td>2014-07-31</td>\n",
       "      <td>NaN</td>\n",
       "      <td>NaN</td>\n",
       "      <td>7801.0</td>\n",
       "      <td>758.0</td>\n",
       "      <td>1.0</td>\n",
       "      <td>1.0</td>\n",
       "      <td>0</td>\n",
       "      <td>0.0</td>\n",
       "      <td>NaN</td>\n",
       "      <td>NaN</td>\n",
       "      <td>NaN</td>\n",
       "      <td>NaN</td>\n",
       "      <td>NaN</td>\n",
       "      <td>NaN</td>\n",
       "      <td>NaN</td>\n",
       "      <td>NaN</td>\n",
       "      <td>NaN</td>\n",
       "    </tr>\n",
       "    <tr>\n",
       "      <th>637722</th>\n",
       "      <td>2014-07-31</td>\n",
       "      <td>NaN</td>\n",
       "      <td>4.0</td>\n",
       "      <td>10468.0</td>\n",
       "      <td>1137.0</td>\n",
       "      <td>1.0</td>\n",
       "      <td>1.0</td>\n",
       "      <td>0</td>\n",
       "      <td>1.0</td>\n",
       "      <td>NaN</td>\n",
       "      <td>NaN</td>\n",
       "      <td>NaN</td>\n",
       "      <td>NaN</td>\n",
       "      <td>NaN</td>\n",
       "      <td>NaN</td>\n",
       "      <td>NaN</td>\n",
       "      <td>NaN</td>\n",
       "      <td>NaN</td>\n",
       "    </tr>\n",
       "    <tr>\n",
       "      <th>637732</th>\n",
       "      <td>2014-07-31</td>\n",
       "      <td>NaN</td>\n",
       "      <td>4.0</td>\n",
       "      <td>13183.0</td>\n",
       "      <td>1964.0</td>\n",
       "      <td>1.0</td>\n",
       "      <td>1.0</td>\n",
       "      <td>0</td>\n",
       "      <td>1.0</td>\n",
       "      <td>NaN</td>\n",
       "      <td>NaN</td>\n",
       "      <td>NaN</td>\n",
       "      <td>NaN</td>\n",
       "      <td>NaN</td>\n",
       "      <td>NaN</td>\n",
       "      <td>NaN</td>\n",
       "      <td>NaN</td>\n",
       "      <td>NaN</td>\n",
       "    </tr>\n",
       "    <tr>\n",
       "      <th>637763</th>\n",
       "      <td>2014-07-31</td>\n",
       "      <td>NaN</td>\n",
       "      <td>4.0</td>\n",
       "      <td>9486.0</td>\n",
       "      <td>NaN</td>\n",
       "      <td>1.0</td>\n",
       "      <td>1.0</td>\n",
       "      <td>0</td>\n",
       "      <td>1.0</td>\n",
       "      <td>NaN</td>\n",
       "      <td>NaN</td>\n",
       "      <td>NaN</td>\n",
       "      <td>NaN</td>\n",
       "      <td>NaN</td>\n",
       "      <td>NaN</td>\n",
       "      <td>NaN</td>\n",
       "      <td>NaN</td>\n",
       "      <td>NaN</td>\n",
       "    </tr>\n",
       "  </tbody>\n",
       "</table>\n",
       "<p>19301 rows × 18 columns</p>\n",
       "</div>"
      ],
      "text/plain": [
       "              Date  Store  DayOfWeek    Sales  Customers  Open  Promo  \\\n",
       "136     2013-01-01    NaN        2.0      0.0        0.0   0.0    0.0   \n",
       "138     2013-01-01    NaN        2.0      0.0        0.0   0.0    0.0   \n",
       "178     2013-01-01    NaN        2.0      0.0        0.0   0.0    0.0   \n",
       "183     2013-01-01    NaN        2.0      NaN        0.0   0.0    0.0   \n",
       "198     2013-01-01    NaN        2.0      0.0        0.0   0.0    0.0   \n",
       "...            ...    ...        ...      ...        ...   ...    ...   \n",
       "637707  2014-07-31    NaN        4.0   7619.0      625.0   1.0    1.0   \n",
       "637708  2014-07-31    NaN        NaN   7801.0      758.0   1.0    1.0   \n",
       "637722  2014-07-31    NaN        4.0  10468.0     1137.0   1.0    1.0   \n",
       "637732  2014-07-31    NaN        4.0  13183.0     1964.0   1.0    1.0   \n",
       "637763  2014-07-31    NaN        4.0   9486.0        NaN   1.0    1.0   \n",
       "\n",
       "       StateHoliday  SchoolHoliday StoreType Assortment  CompetitionDistance  \\\n",
       "136               a            1.0       NaN        NaN                  NaN   \n",
       "138               a            1.0       NaN        NaN                  NaN   \n",
       "178               a            1.0       NaN        NaN                  NaN   \n",
       "183               a            1.0       NaN        NaN                  NaN   \n",
       "198               a            NaN       NaN        NaN                  NaN   \n",
       "...             ...            ...       ...        ...                  ...   \n",
       "637707            0            1.0       NaN        NaN                  NaN   \n",
       "637708            0            0.0       NaN        NaN                  NaN   \n",
       "637722            0            1.0       NaN        NaN                  NaN   \n",
       "637732            0            1.0       NaN        NaN                  NaN   \n",
       "637763            0            1.0       NaN        NaN                  NaN   \n",
       "\n",
       "        CompetitionOpenSinceMonth  CompetitionOpenSinceYear  Promo2  \\\n",
       "136                           NaN                       NaN     NaN   \n",
       "138                           NaN                       NaN     NaN   \n",
       "178                           NaN                       NaN     NaN   \n",
       "183                           NaN                       NaN     NaN   \n",
       "198                           NaN                       NaN     NaN   \n",
       "...                           ...                       ...     ...   \n",
       "637707                        NaN                       NaN     NaN   \n",
       "637708                        NaN                       NaN     NaN   \n",
       "637722                        NaN                       NaN     NaN   \n",
       "637732                        NaN                       NaN     NaN   \n",
       "637763                        NaN                       NaN     NaN   \n",
       "\n",
       "        Promo2SinceWeek  Promo2SinceYear PromoInterval  \n",
       "136                 NaN              NaN           NaN  \n",
       "138                 NaN              NaN           NaN  \n",
       "178                 NaN              NaN           NaN  \n",
       "183                 NaN              NaN           NaN  \n",
       "198                 NaN              NaN           NaN  \n",
       "...                 ...              ...           ...  \n",
       "637707              NaN              NaN           NaN  \n",
       "637708              NaN              NaN           NaN  \n",
       "637722              NaN              NaN           NaN  \n",
       "637732              NaN              NaN           NaN  \n",
       "637763              NaN              NaN           NaN  \n",
       "\n",
       "[19301 rows x 18 columns]"
      ]
     },
     "execution_count": 26,
     "metadata": {},
     "output_type": "execute_result"
    }
   ],
   "source": [
    "store_and_promo"
   ]
  },
  {
   "cell_type": "markdown",
   "id": "194f492d",
   "metadata": {},
   "source": [
    "merged_data.lo\n",
    "[:, merged_data.isna().any()]"
   ]
  },
  {
   "cell_type": "code",
   "execution_count": null,
   "id": "f6b3fd49",
   "metadata": {},
   "outputs": [],
   "source": [
    "print(len(train_data))"
   ]
  },
  {
   "cell_type": "code",
   "execution_count": null,
   "id": "2258f05b",
   "metadata": {},
   "outputs": [],
   "source": [
    "print(len(store_data))"
   ]
  },
  {
   "cell_type": "code",
   "execution_count": null,
   "id": "2518658d",
   "metadata": {},
   "outputs": [],
   "source": [
    "train_data.dropna(subset=[\"Sales\"], inplace=True)"
   ]
  },
  {
   "cell_type": "code",
   "execution_count": null,
   "id": "38520f55",
   "metadata": {},
   "outputs": [],
   "source": [
    "# drop customers, not used\n",
    "train_data.drop(\"Customers\", axis=1, inplace=True)"
   ]
  },
  {
   "cell_type": "code",
   "execution_count": null,
   "id": "97e0ebf7",
   "metadata": {},
   "outputs": [],
   "source": [
    "train_data.dtypes"
   ]
  },
  {
   "cell_type": "code",
   "execution_count": null,
   "id": "f7736293",
   "metadata": {
    "scrolled": true
   },
   "outputs": [],
   "source": [
    "store_data.dtypes"
   ]
  },
  {
   "cell_type": "code",
   "execution_count": null,
   "id": "507c386e",
   "metadata": {
    "scrolled": false
   },
   "outputs": [],
   "source": [
    "# removing duplicats\n",
    "duped_mask = train_data.duplicated()\n",
    "duplicated_data = train_data.loc[duped_mask, :]\n",
    "duplicated_data"
   ]
  },
  {
   "cell_type": "code",
   "execution_count": null,
   "id": "b02bdbac",
   "metadata": {},
   "outputs": [],
   "source": [
    "train_data.drop_duplicates(inplace=True)"
   ]
  },
  {
   "cell_type": "code",
   "execution_count": null,
   "id": "e51f6de4",
   "metadata": {},
   "outputs": [],
   "source": [
    "# There's NaNs in the store ID\n",
    "\n",
    "store_data.loc[:, \"Store\"].min()"
   ]
  },
  {
   "cell_type": "code",
   "execution_count": null,
   "id": "46b55141",
   "metadata": {},
   "outputs": [],
   "source": [
    "train_data = train_data.fillna({\"Store\": 0})"
   ]
  },
  {
   "cell_type": "code",
   "execution_count": null,
   "id": "037a1e54",
   "metadata": {
    "scrolled": true
   },
   "outputs": [],
   "source": [
    "train_data = train_data.astype({\"Store\": int})"
   ]
  },
  {
   "cell_type": "code",
   "execution_count": null,
   "id": "06b7f37d",
   "metadata": {},
   "outputs": [],
   "source": [
    "merged_data = train_data.merge(store_data, how=\"left\", on=\"Store\")"
   ]
  },
  {
   "cell_type": "code",
   "execution_count": null,
   "id": "407858d4",
   "metadata": {},
   "outputs": [],
   "source": [
    "merged_data.head()"
   ]
  },
  {
   "cell_type": "code",
   "execution_count": null,
   "id": "c02b1cad",
   "metadata": {},
   "outputs": [],
   "source": [
    "len(merged_data)"
   ]
  },
  {
   "cell_type": "code",
   "execution_count": null,
   "id": "9406d8df",
   "metadata": {},
   "outputs": [],
   "source": [
    "from sklearn.model_selection import train_test_split\n",
    "\n",
    "X = merged_data.loc[:, ~merged_data.columns.isin([\"Sales\"])]\n",
    "y = merged_data.loc[:, \"Sales\"]\n",
    "\n",
    "X_train, X_test, y_train, y_test = train_test_split(X, y, random_state=42, train_size=.8)"
   ]
  },
  {
   "cell_type": "code",
   "execution_count": null,
   "id": "730dd320",
   "metadata": {
    "scrolled": true
   },
   "outputs": [],
   "source": [
    "X_train.head()"
   ]
  },
  {
   "cell_type": "code",
   "execution_count": null,
   "id": "a5ae5601",
   "metadata": {
    "scrolled": true
   },
   "outputs": [],
   "source": [
    "len(X_train)"
   ]
  },
  {
   "cell_type": "code",
   "execution_count": null,
   "id": "d02fd627",
   "metadata": {},
   "outputs": [],
   "source": [
    "len(X_test)"
   ]
  },
  {
   "cell_type": "code",
   "execution_count": null,
   "id": "72d7282a",
   "metadata": {},
   "outputs": [],
   "source": [
    "# from pandas_profiling import ProfileReport\n",
    "\n",
    "# profile = ProfileReport(X_train)\n",
    "# profile.to_file(output_file=\"rossman_profile_report.html\")"
   ]
  },
  {
   "cell_type": "code",
   "execution_count": null,
   "id": "c4ca63dd",
   "metadata": {},
   "outputs": [],
   "source": [
    "X_train.columns"
   ]
  },
  {
   "cell_type": "markdown",
   "id": "dc8db653",
   "metadata": {},
   "source": [
    "Check amount of features missing per sample. If 4 or more, meaning about 50%, try dropping entire row.\n",
    "\n",
    "**Lilla**\n",
    "\n",
    "    Date -> datetime\n",
    "    split in year, month, week, day of week; drop the original\n",
    "    make sure weekday matches weekday from date; check for missing values and impute where necessary\n",
    "    encode all except year with sine+cosine! https://ianlondon.github.io/blog/encoding-cyclical-features-24hour-time/\n",
    "\n",
    "    DayOfWeek\n",
    "    drop, replace with values derived from Date\n",
    "\n",
    "    CompetitionDistance -> float\n",
    "    Try: median imputation\n",
    "    Try also: KNNImputer (sklearn)\n",
    "\n",
    "**Corstiaen**\n",
    "\n",
    "    Store\n",
    "    3 options:\n",
    "    * drop\n",
    "    * target encoding -> float\n",
    "    * frequency encoding -> int\n",
    "    test model to see what works best\n",
    "\n",
    "    Open -> one-hot encode\n",
    "    3 categories, meaning 2 one-hot columns\n",
    "    \n",
    "    Promo -> one-hot encode\n",
    "    3 categories, meaning 2 one-hot columns\n",
    "    \n",
    "    StateHoliday -> one-hot encode\n",
    "    5 categories, meaning 4 one-hot columns\n",
    "    turn 0.0 into 0\n",
    "    ['0', 0.0, 'c', nan, 'a', 'b']\n",
    "    \n",
    "    SchoolHoliday -> one-hot encode\n",
    "    3 categories, meaning 2 one-hot columns\n",
    "    \n",
    "    StoreType -> one-hot encode\n",
    "    5 categories, meaning 4 one-hot columns\n",
    "    \n",
    "    Assortment -> one-hot encode\n",
    "    4 categories, meaning 3 one-hot columns\n",
    "    \n",
    "    \n",
    "**SAM**\n",
    "\n",
    "    CompetitionOpenSinceMonth -> new int or float\n",
    "    CompetitionOpenSinceYear -> new int or float\n",
    "    Merge and create new feature, giving temporal distance from 2015-07-31 or 2015-08-31\n",
    "    potentially use datetime for these calculations?\n",
    "    Try: median imputation\n",
    "    Try also: KNNImputer (sklearn)\n",
    "    \n",
    "    Promo2 -> one-hot encode\n",
    "    3 categories including NaN, 2 columns\n",
    "    make sure all missing in other Promo2 features are described by these three categories!\n",
    "    \n",
    "    Promo2SinceWeek -> new int or float\n",
    "    Promo2SinceYear -> new int or float\n",
    "    Merge and create new feature, giving temporal distance from 2015-07-31 or 2015-08-31\n",
    "    potentially use datetime for these calculations?\n",
    "    imputation with any value, this is caught by the boolean from Promo2 feature\n",
    "    \n",
    "    PromoInterval -> one-hot encode\n",
    "    3 categories, NaNs can be added to the mode category, these will again be described by the Promo2 feature\n",
    "    "
   ]
  },
  {
   "cell_type": "code",
   "execution_count": null,
   "id": "366fe307",
   "metadata": {},
   "outputs": [],
   "source": [
    "X_train.loc[:, \"Store\"].value_counts()"
   ]
  },
  {
   "cell_type": "code",
   "execution_count": null,
   "id": "85891e96",
   "metadata": {},
   "outputs": [],
   "source": []
  },
  {
   "cell_type": "code",
   "execution_count": null,
   "id": "a258d5f8",
   "metadata": {},
   "outputs": [],
   "source": []
  },
  {
   "cell_type": "code",
   "execution_count": null,
   "id": "52ce86c0",
   "metadata": {
    "scrolled": true
   },
   "outputs": [],
   "source": [
    "X_train.loc[:, \"SchoolHoliday\"].unique()"
   ]
  },
  {
   "cell_type": "code",
   "execution_count": null,
   "id": "79b741a7",
   "metadata": {},
   "outputs": [],
   "source": [
    "def date_cleaning(X_train):\n",
    "    \"\"\"this function splits the Date column into Year, Month, Day of the week and adds it's sin/cos features\n",
    "    \"\"\"\n",
    "    # change to datetime\n",
    "    X_train.loc[:,\"Date\"] = pd.to_datetime(X_train.loc[:,\"Date\"])\n",
    "    \n",
    "    # helper function\n",
    "    def encode(X_train, col, max_val):\n",
    "        X_train[col + '_sin'] = np.sin(2 * np.pi * X_train[col]/max_val)\n",
    "        X_train[col + '_cos'] = np.cos(2 * np.pi * X_train[col]/max_val)\n",
    "        return X_train\n",
    "    \n",
    "    # datetime split in year, month, week, day of week and adding sin/cos\n",
    "    X_train[\"Year\"] = pd.DatetimeIndex(X_train.loc[:,\"Date\"]).year\n",
    "    X_train[\"Month\"] = pd.DatetimeIndex(X_train.loc[:,\"Date\"]).month\n",
    "    X_train = encode(X_train, \"Month\", 12)\n",
    "    X_train[\"Day_of_the_week\"] = X_train.loc[:,\"Date\"].dt.dayofweek\n",
    "    X_train = encode(X_train, \"Day_of_the_week\", 365)\n",
    "\n",
    "    #ready to drop DayofWeek and Date\n",
    "    drop_columns = [\"DayOfWeek\", \"Date\"]\n",
    "    X_train.drop(drop_columns, axis=1, inplace=True)\n",
    "    \n",
    "    return X_train"
   ]
  },
  {
   "cell_type": "code",
   "execution_count": null,
   "id": "e2718230",
   "metadata": {},
   "outputs": [],
   "source": [
    "X_train = date_cleaning(X_train)"
   ]
  },
  {
   "cell_type": "code",
   "execution_count": null,
   "id": "89a5ebbc",
   "metadata": {
    "scrolled": true
   },
   "outputs": [],
   "source": [
    "X_train"
   ]
  },
  {
   "cell_type": "code",
   "execution_count": null,
   "id": "3ca1e128",
   "metadata": {},
   "outputs": [],
   "source": [
    "X_train.StateHoliday.value_counts()"
   ]
  },
  {
   "cell_type": "code",
   "execution_count": null,
   "id": "402d766d",
   "metadata": {},
   "outputs": [],
   "source": []
  },
  {
   "cell_type": "code",
   "execution_count": null,
   "id": "330a4593",
   "metadata": {
    "scrolled": true
   },
   "outputs": [],
   "source": [
    "#X_train['StateHoliday'] = X_train['StateHoliday'].map({0.0: 0})\n",
    "#X_train.StateHoliday.replace(to_replace=dict(0.0==0), inplace=True)\n",
    "X_train.StateHoliday.replace([0.0], [0], inplace=True)\n",
    "                \n",
    "# change to int\n",
    "X_train['StateHoliday'] = X_train['StateHoliday'].astype(int)"
   ]
  },
  {
   "cell_type": "code",
   "execution_count": null,
   "id": "a8d3ba84",
   "metadata": {
    "scrolled": true
   },
   "outputs": [],
   "source": [
    "X_train.loc[:, \"StateHoliday\"].value_counts()"
   ]
  },
  {
   "cell_type": "code",
   "execution_count": null,
   "id": "a705cf8d",
   "metadata": {},
   "outputs": [],
   "source": [
    "X_train[\"StateHoliday\"].dtype()"
   ]
  },
  {
   "cell_type": "code",
   "execution_count": null,
   "id": "e5d691e6",
   "metadata": {},
   "outputs": [],
   "source": [
    "# CompetitionDistance -> float and median imputation\n",
    "X_train.loc[:, \"CompetitionDistance\"] = X_train.loc[:, \"CompetitionDistance\"].astype(float).fillna((X_train.loc[:, \"CompetitionDistance\"].median()))"
   ]
  },
  {
   "cell_type": "markdown",
   "id": "d5444df5",
   "metadata": {},
   "source": [
    "Open -> one-hot encode\n",
    "3 categories, meaning 2 one-hot columns\n",
    "\n",
    "Promo -> one-hot encode\n",
    "3 categories, meaning 2 one-hot columns\n",
    "\n",
    "StateHoliday -> one-hot encode\n",
    "5 categories, meaning 4 one-hot columns\n",
    "turn 0.0 into 0\n",
    "['0', 0.0, 'c', nan, 'a', 'b']\n",
    "\n",
    "SchoolHoliday -> one-hot encode\n",
    "3 categories, meaning 2 one-hot columns\n",
    "\n",
    "StoreType -> one-hot encode\n",
    "5 categories, meaning 4 one-hot columns\n",
    "\n",
    "Assortment -> one-hot encode\n",
    "4 categories, meaning 3 one-hot columns"
   ]
  },
  {
   "cell_type": "code",
   "execution_count": null,
   "id": "368e9ab5",
   "metadata": {},
   "outputs": [],
   "source": [
    "# take the missing values in each category and fill them in with an additional category \n",
    "#X_train[X_train.iloc[:, \"Open\"]==\"NaN\"]\n",
    "X_train = X_train.fillna({\"Open\": 2, \"Promo\": 2, \"SchoolHoliday\": 2,})"
   ]
  },
  {
   "cell_type": "code",
   "execution_count": null,
   "id": "6f0445b8",
   "metadata": {},
   "outputs": [],
   "source": []
  },
  {
   "cell_type": "code",
   "execution_count": null,
   "id": "e527d501",
   "metadata": {},
   "outputs": [],
   "source": [
    "### Pipelines"
   ]
  },
  {
   "cell_type": "code",
   "execution_count": null,
   "id": "215b2364",
   "metadata": {},
   "outputs": [],
   "source": [
    "from sklearn.preprocessing import OneHotEncoder\n",
    "cat_encoder = OneHotEncoder()\n",
    "airbnb_cat_hot_encoded = cat_encoder.fit_transform(airbnb_cat)\n",
    "airbnb_cat_hot_encoded"
   ]
  },
  {
   "cell_type": "code",
   "execution_count": null,
   "id": "7bb964a1",
   "metadata": {},
   "outputs": [],
   "source": [
    "from sklearn.pipeline import Pipeline\n",
    "\n",
    "num_pipeline = Pipeline([\n",
    "    ('imputer', SimpleImputer(strategy='median')),\n",
    "    ('add_variables', NewVariablesAdder()),\n",
    "    ('std_scaler', StandardScaler())\n",
    "])\n",
    "\n",
    "num_transformed = num_pipeline.fit_transform(airbnb_num)"
   ]
  },
  {
   "cell_type": "code",
   "execution_count": null,
   "id": "8fe248d1",
   "metadata": {},
   "outputs": [],
   "source": [
    "from sklearn.compose import ColumnTransformer\n",
    "\n",
    "data_pipeline = ColumnTransformer([\n",
    "    ('numerical', num_pipeline, num_vars),\n",
    "    ('categorical', OneHotEncoder(), cat_vars),\n",
    "    \n",
    "])\n",
    "\n",
    "airbnb_processed = data_pipeline.fit_transform(airbnb_data)"
   ]
  }
 ],
 "metadata": {
  "kernelspec": {
   "display_name": "Python 3 (ipykernel)",
   "language": "python",
   "name": "python3"
  },
  "language_info": {
   "codemirror_mode": {
    "name": "ipython",
    "version": 3
   },
   "file_extension": ".py",
   "mimetype": "text/x-python",
   "name": "python",
   "nbconvert_exporter": "python",
   "pygments_lexer": "ipython3",
   "version": "3.8.11"
  }
 },
 "nbformat": 4,
 "nbformat_minor": 5
}
