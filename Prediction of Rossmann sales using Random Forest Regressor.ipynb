{
 "cells": [
  {
   "cell_type": "markdown",
   "id": "50606e04",
   "metadata": {},
   "source": [
    "# Import libraries"
   ]
  },
  {
   "cell_type": "code",
   "execution_count": 1,
   "id": "76273743",
   "metadata": {
    "scrolled": true
   },
   "outputs": [],
   "source": [
    "# general\n",
    "import pandas as pd\n",
    "import numpy as np\n",
    "from pandas_profiling import ProfileReport\n",
    "# sklearn\n",
    "from sklearn.model_selection import train_test_split\n",
    "from sklearn.pipeline import Pipeline\n",
    "from sklearn.ensemble import RandomForestRegressor\n",
    "# encoders\n",
    "from category_encoders.target_encoder import TargetEncoder\n",
    "from category_encoders.ordinal import OrdinalEncoder\n",
    "from category_encoders.one_hot import OneHotEncoder\n",
    "# custom classes\n",
    "from preprocessing import Merger, Imputer, Cleaner\n",
    "# plotting\n",
    "import matplotlib.pyplot as plt\n",
    "%matplotlib inline"
   ]
  },
  {
   "cell_type": "markdown",
   "id": "097dc5ca",
   "metadata": {},
   "source": [
    "# Load data"
   ]
  },
  {
   "cell_type": "code",
   "execution_count": 2,
   "id": "8ffc0062",
   "metadata": {
    "scrolled": true
   },
   "outputs": [
    {
     "name": "stderr",
     "output_type": "stream",
     "text": [
      "/Users/corstiaen/opt/anaconda3/envs/minicomp_env/lib/python3.8/site-packages/IPython/core/interactiveshell.py:3444: DtypeWarning: Columns (7) have mixed types.Specify dtype option on import or set low_memory=False.\n",
      "  exec(code_obj, self.user_global_ns, self.user_ns)\n"
     ]
    }
   ],
   "source": [
    "store_data = pd.read_csv(\"./data/store.csv\")\n",
    "sales_data = pd.read_csv(\"./data/train.csv\")\n",
    "holdout_data = pd.read_csv(\"./data/holdout.csv\")"
   ]
  },
  {
   "cell_type": "markdown",
   "id": "2b54bb91",
   "metadata": {},
   "source": [
    "We will use the holdout data as our test set."
   ]
  },
  {
   "cell_type": "markdown",
   "id": "1c1efe20",
   "metadata": {},
   "source": [
    "# Preprocessing of data"
   ]
  },
  {
   "cell_type": "markdown",
   "id": "02712bec",
   "metadata": {},
   "source": [
    "## Merging tables"
   ]
  },
  {
   "cell_type": "markdown",
   "id": "b62433ef",
   "metadata": {},
   "source": [
    "Our store information is separate from our sales information. In our Merger object we perform multiple operations:\n",
    "* Drop sales data where sales is NaN or 0.\n",
    "* Drop the customers column because of its direct relation to sales and its unknown value when predicting the future.\n",
    "* Combine sales and store data into a single table by joining on the store ID.\n",
    "* All stores without and ID, i.e., the NaNs, are given the label 0. This label was not in use as a store ID."
   ]
  },
  {
   "cell_type": "code",
   "execution_count": 3,
   "id": "5672dbd5",
   "metadata": {},
   "outputs": [
    {
     "name": "stderr",
     "output_type": "stream",
     "text": [
      "/Users/corstiaen/opt/anaconda3/envs/minicomp_env/lib/python3.8/site-packages/pandas/core/frame.py:4901: SettingWithCopyWarning: \n",
      "A value is trying to be set on a copy of a slice from a DataFrame\n",
      "\n",
      "See the caveats in the documentation: https://pandas.pydata.org/pandas-docs/stable/user_guide/indexing.html#returning-a-view-versus-a-copy\n",
      "  return super().drop(\n"
     ]
    }
   ],
   "source": [
    "mrg = Merger()\n",
    "mrg.merge(sales_data, store_data)\n",
    "merged_data = mrg.merged_data"
   ]
  },
  {
   "cell_type": "code",
   "execution_count": 4,
   "id": "e0a704bf",
   "metadata": {},
   "outputs": [],
   "source": [
    "mrg = Merger()\n",
    "mrg.merge(holdout_data, store_data)\n",
    "merged_holdout_data = mrg.merged_data"
   ]
  },
  {
   "cell_type": "code",
   "execution_count": 5,
   "id": "416039f0",
   "metadata": {
    "scrolled": true
   },
   "outputs": [
    {
     "name": "stdout",
     "output_type": "stream",
     "text": [
      "We have 512956 samples to work with.\n"
     ]
    },
    {
     "data": {
      "text/html": [
       "<div>\n",
       "<style scoped>\n",
       "    .dataframe tbody tr th:only-of-type {\n",
       "        vertical-align: middle;\n",
       "    }\n",
       "\n",
       "    .dataframe tbody tr th {\n",
       "        vertical-align: top;\n",
       "    }\n",
       "\n",
       "    .dataframe thead th {\n",
       "        text-align: right;\n",
       "    }\n",
       "</style>\n",
       "<table border=\"1\" class=\"dataframe\">\n",
       "  <thead>\n",
       "    <tr style=\"text-align: right;\">\n",
       "      <th></th>\n",
       "      <th>Date</th>\n",
       "      <th>Store</th>\n",
       "      <th>DayOfWeek</th>\n",
       "      <th>Sales</th>\n",
       "      <th>Open</th>\n",
       "      <th>Promo</th>\n",
       "      <th>StateHoliday</th>\n",
       "      <th>SchoolHoliday</th>\n",
       "      <th>StoreType</th>\n",
       "      <th>Assortment</th>\n",
       "      <th>CompetitionDistance</th>\n",
       "      <th>CompetitionOpenSinceMonth</th>\n",
       "      <th>CompetitionOpenSinceYear</th>\n",
       "      <th>Promo2</th>\n",
       "      <th>Promo2SinceWeek</th>\n",
       "      <th>Promo2SinceYear</th>\n",
       "      <th>PromoInterval</th>\n",
       "    </tr>\n",
       "  </thead>\n",
       "  <tbody>\n",
       "    <tr>\n",
       "      <th>54329</th>\n",
       "      <td>2013-03-01</td>\n",
       "      <td>211</td>\n",
       "      <td>5.0</td>\n",
       "      <td>13571.0</td>\n",
       "      <td>1.0</td>\n",
       "      <td>0.0</td>\n",
       "      <td>0</td>\n",
       "      <td>0.0</td>\n",
       "      <td>a</td>\n",
       "      <td>c</td>\n",
       "      <td>350.0</td>\n",
       "      <td>11.0</td>\n",
       "      <td>2006.0</td>\n",
       "      <td>0.0</td>\n",
       "      <td>NaN</td>\n",
       "      <td>NaN</td>\n",
       "      <td>NaN</td>\n",
       "    </tr>\n",
       "    <tr>\n",
       "      <th>34233</th>\n",
       "      <td>2013-02-07</td>\n",
       "      <td>633</td>\n",
       "      <td>4.0</td>\n",
       "      <td>5455.0</td>\n",
       "      <td>1.0</td>\n",
       "      <td>1.0</td>\n",
       "      <td>0</td>\n",
       "      <td>0.0</td>\n",
       "      <td>d</td>\n",
       "      <td>a</td>\n",
       "      <td>11640.0</td>\n",
       "      <td>4.0</td>\n",
       "      <td>2005.0</td>\n",
       "      <td>1.0</td>\n",
       "      <td>22.0</td>\n",
       "      <td>2011.0</td>\n",
       "      <td>Jan,Apr,Jul,Oct</td>\n",
       "    </tr>\n",
       "    <tr>\n",
       "      <th>338252</th>\n",
       "      <td>2014-01-13</td>\n",
       "      <td>804</td>\n",
       "      <td>1.0</td>\n",
       "      <td>3797.0</td>\n",
       "      <td>1.0</td>\n",
       "      <td>0.0</td>\n",
       "      <td>0</td>\n",
       "      <td>0.0</td>\n",
       "      <td>c</td>\n",
       "      <td>c</td>\n",
       "      <td>2100.0</td>\n",
       "      <td>NaN</td>\n",
       "      <td>NaN</td>\n",
       "      <td>1.0</td>\n",
       "      <td>1.0</td>\n",
       "      <td>2013.0</td>\n",
       "      <td>Jan,Apr,Jul,Oct</td>\n",
       "    </tr>\n",
       "    <tr>\n",
       "      <th>206957</th>\n",
       "      <td>2013-08-20</td>\n",
       "      <td>400</td>\n",
       "      <td>2.0</td>\n",
       "      <td>6334.0</td>\n",
       "      <td>1.0</td>\n",
       "      <td>0.0</td>\n",
       "      <td>0</td>\n",
       "      <td>1.0</td>\n",
       "      <td>a</td>\n",
       "      <td>a</td>\n",
       "      <td>70.0</td>\n",
       "      <td>11.0</td>\n",
       "      <td>2004.0</td>\n",
       "      <td>1.0</td>\n",
       "      <td>14.0</td>\n",
       "      <td>2011.0</td>\n",
       "      <td>Jan,Apr,Jul,Oct</td>\n",
       "    </tr>\n",
       "    <tr>\n",
       "      <th>345184</th>\n",
       "      <td>2014-01-21</td>\n",
       "      <td>27</td>\n",
       "      <td>2.0</td>\n",
       "      <td>11751.0</td>\n",
       "      <td>1.0</td>\n",
       "      <td>1.0</td>\n",
       "      <td>0</td>\n",
       "      <td>0.0</td>\n",
       "      <td>a</td>\n",
       "      <td>a</td>\n",
       "      <td>60.0</td>\n",
       "      <td>1.0</td>\n",
       "      <td>2005.0</td>\n",
       "      <td>1.0</td>\n",
       "      <td>5.0</td>\n",
       "      <td>2011.0</td>\n",
       "      <td>Jan,Apr,Jul,Oct</td>\n",
       "    </tr>\n",
       "  </tbody>\n",
       "</table>\n",
       "</div>"
      ],
      "text/plain": [
       "              Date  Store  DayOfWeek    Sales  Open  Promo StateHoliday  \\\n",
       "54329   2013-03-01    211        5.0  13571.0   1.0    0.0            0   \n",
       "34233   2013-02-07    633        4.0   5455.0   1.0    1.0            0   \n",
       "338252  2014-01-13    804        1.0   3797.0   1.0    0.0            0   \n",
       "206957  2013-08-20    400        2.0   6334.0   1.0    0.0            0   \n",
       "345184  2014-01-21     27        2.0  11751.0   1.0    1.0            0   \n",
       "\n",
       "        SchoolHoliday StoreType Assortment  CompetitionDistance  \\\n",
       "54329             0.0         a          c                350.0   \n",
       "34233             0.0         d          a              11640.0   \n",
       "338252            0.0         c          c               2100.0   \n",
       "206957            1.0         a          a                 70.0   \n",
       "345184            0.0         a          a                 60.0   \n",
       "\n",
       "        CompetitionOpenSinceMonth  CompetitionOpenSinceYear  Promo2  \\\n",
       "54329                        11.0                    2006.0     0.0   \n",
       "34233                         4.0                    2005.0     1.0   \n",
       "338252                        NaN                       NaN     1.0   \n",
       "206957                       11.0                    2004.0     1.0   \n",
       "345184                        1.0                    2005.0     1.0   \n",
       "\n",
       "        Promo2SinceWeek  Promo2SinceYear    PromoInterval  \n",
       "54329               NaN              NaN              NaN  \n",
       "34233              22.0           2011.0  Jan,Apr,Jul,Oct  \n",
       "338252              1.0           2013.0  Jan,Apr,Jul,Oct  \n",
       "206957             14.0           2011.0  Jan,Apr,Jul,Oct  \n",
       "345184              5.0           2011.0  Jan,Apr,Jul,Oct  "
      ]
     },
     "execution_count": 5,
     "metadata": {},
     "output_type": "execute_result"
    }
   ],
   "source": [
    "print(f\"We have {len(merged_data)} samples to work with.\")\n",
    "merged_data.sample(5)"
   ]
  },
  {
   "cell_type": "code",
   "execution_count": 6,
   "id": "1aae8949",
   "metadata": {},
   "outputs": [
    {
     "name": "stdout",
     "output_type": "stream",
     "text": [
      "We have 315540 samples in out test set.\n"
     ]
    }
   ],
   "source": [
    "print(f\"We have {len(merged_holdout_data)} samples in out test set.\")"
   ]
  },
  {
   "cell_type": "code",
   "execution_count": 7,
   "id": "c45d804b",
   "metadata": {
    "scrolled": true
   },
   "outputs": [
    {
     "name": "stdout",
     "output_type": "stream",
     "text": [
      "There are 30 duplicated values in our dataset.\n",
      "This is a low number compared to the 512956 samples in our dataset.\n",
      "These duplicates are not necessarily 'true' because the store ID is not known.\n",
      "Therefore these duplicates may actually be two shops having the exact same sales on a single day.\n",
      "Because of this uncertainty we are keeping the duplicates in our dataset.\n"
     ]
    }
   ],
   "source": [
    "duped_mask = merged_data.duplicated()\n",
    "duplicated_data = merged_data.loc[duped_mask, :]\n",
    "\n",
    "print(f\"There are {len(duplicated_data)} duplicated values in our dataset.\")\n",
    "print(f\"This is a low number compared to the {len(merged_data)} samples in our dataset.\")\n",
    "print(\"These duplicates are not necessarily 'true' because the store ID is not known.\")\n",
    "print(\"Therefore these duplicates may actually be two shops having the exact same sales on a single day.\")\n",
    "print(\"Because of this uncertainty we are keeping the duplicates in our dataset.\")"
   ]
  },
  {
   "cell_type": "markdown",
   "id": "2ee344df",
   "metadata": {},
   "source": [
    "## Splitting data"
   ]
  },
  {
   "cell_type": "markdown",
   "id": "1c169e7d",
   "metadata": {},
   "source": [
    "Because we are using the holdout data as our test data, we have no need to split or data further. We are dealing with time-series data and our test data follows our train chronologically."
   ]
  },
  {
   "cell_type": "code",
   "execution_count": 8,
   "id": "55b2e353",
   "metadata": {},
   "outputs": [
    {
     "name": "stdout",
     "output_type": "stream",
     "text": [
      "The last day in our train data is 2014-07-31\n"
     ]
    }
   ],
   "source": [
    "print(f\"The last day in our train data is {merged_data['Date'].max()}\")"
   ]
  },
  {
   "cell_type": "code",
   "execution_count": 9,
   "id": "1d670b58",
   "metadata": {},
   "outputs": [
    {
     "name": "stdout",
     "output_type": "stream",
     "text": [
      "The first day in our test data is 2014-08-01\n"
     ]
    }
   ],
   "source": [
    "print(f\"The first day in our test data is {merged_holdout_data['Date'].min()}\")"
   ]
  },
  {
   "cell_type": "markdown",
   "id": "eda9aa4b",
   "metadata": {},
   "source": [
    "We do need to split our feature and target data."
   ]
  },
  {
   "cell_type": "code",
   "execution_count": 10,
   "id": "0650ad75",
   "metadata": {},
   "outputs": [],
   "source": [
    "X_train = merged_data.loc[:, ~merged_data.columns.isin([\"Sales\"])]\n",
    "y_train = merged_data.loc[:, \"Sales\"]\n",
    "\n",
    "X_test = merged_holdout_data.loc[:, ~merged_holdout_data.columns.isin([\"Sales\"])]\n",
    "y_test = merged_holdout_data.loc[:, \"Sales\"]"
   ]
  },
  {
   "cell_type": "markdown",
   "id": "6c553c4c",
   "metadata": {},
   "source": [
    "Splitting results."
   ]
  },
  {
   "cell_type": "code",
   "execution_count": 11,
   "id": "1fa88da8",
   "metadata": {
    "scrolled": true
   },
   "outputs": [
    {
     "name": "stdout",
     "output_type": "stream",
     "text": [
      "Our train set has 512956 samples\n",
      "Our test set has 315540 samples\n"
     ]
    }
   ],
   "source": [
    "print(f\"Our train set has {len(X_train)} samples\")\n",
    "print(f\"Our test set has {len(X_test)} samples\")"
   ]
  },
  {
   "cell_type": "markdown",
   "id": "cf21e03e",
   "metadata": {},
   "source": [
    "## Data profiling"
   ]
  },
  {
   "cell_type": "markdown",
   "id": "86db13fe",
   "metadata": {},
   "source": [
    "The cell below creates an html file that describes the characteristics of the features of our dataset. The resulting profile report can be opened by following the link below:\n",
    "\n",
    "**[Rossmann profile report](files/rossmann_profile_report.html)**"
   ]
  },
  {
   "cell_type": "code",
   "execution_count": 12,
   "id": "87d8ff25",
   "metadata": {},
   "outputs": [],
   "source": [
    "profile = ProfileReport(X_train)\n",
    "profile.to_file(output_file=\"rossmann_profile_report.html\")"
   ]
  },
  {
   "cell_type": "markdown",
   "id": "b1d7c9ca",
   "metadata": {},
   "source": [
    "## Feature engineering"
   ]
  },
  {
   "cell_type": "markdown",
   "id": "3b0cd147",
   "metadata": {},
   "source": [
    "For each feature we applied the following changes:\n",
    "\n",
    "**Date**\n",
    "* Split feature into four features: year, month, day of week. A week-feature would have high correlation with a month-feature and is therefore not desired.\n",
    "* Encode month, week, and day of week with sine+cosine for circularity\n",
    "* Drop the original feature\n",
    "\n",
    "**DayOfWeek**\n",
    "* Drop feature, will be replaced with values derived from Date\n",
    "\n",
    "**Store**\n",
    "* Applying target encoding\n",
    "* Considered frequency encoding, but target encoding seemed good enough.\n",
    "\n",
    "**Open**\n",
    "* Two values available: 1 (True) and NaN. Therefore using zero imputation.\n",
    "* If feature turns out to be unimportant (likely with ~3% NaNs), drop feature after first tests\n",
    "\n",
    "**Promo**\n",
    "* Mode imputing ~3% of NaNs\n",
    "\n",
    "**StateHoliday**\n",
    "* Four categories\n",
    "* Category 0.0 needs to be changed to \"0\"\n",
    "* Mode imputing ~3% of NaNs\n",
    "* Apply ordinal encoding because number of stores open is in goes in descending order: 0>a>b>c. This likely reflects overall store opening in the nation.\n",
    "\n",
    "**SchoolHoliday**\n",
    "* Mode imputing ~3% of NaNs\n",
    "\n",
    "**StoreType**\n",
    "* Mode imputing ~3%\n",
    "* Ordinal encoding because 4 models, a-d, may very well relate to store size, e.g., large shopping mall store vs. small train station store.\n",
    "\n",
    "**Assortment**\n",
    "* Mode imputing ~3%\n",
    "* Apply ordinal encoding because assortment is an ordinate: a = basic, b = extra, c = extended    \n",
    "    \n",
    "**CompetitionDistance**\n",
    "* Applying median imputation to ~3% missing values\n",
    "\n",
    "**CompetitionOpenSinceMonth** and **CompetitionOpenSinceYear**\n",
    "* Merge and create new feature, giving temporal distance in days from sales date, and drop the original features\n",
    "* Set negative days, i.e., days before competition opened, to 0\n",
    "* First imputation: set NaNs to -1\n",
    "\n",
    "**Promo2**\n",
    "* Mode imputing ~3%\n",
    "* All 1s (True) also have other information on Promo2\n",
    "* When there is a NaN there is no information on a possible promotion. Though a promotion is not likely and 0 imputation could be good, we still choose mode imputation due to a lack of information.\n",
    "\n",
    "**Promo2SinceWeek** and **Promo2SinceYear**\n",
    "* Merge and create new feature, giving temporal distance in days from sales date, and drop the original features\n",
    "* Set negative days, i.e., days before Promo2 started, to 0\n",
    "* First imputation: set NaNs to -1\n",
    "\n",
    "**PromoInterval**\n",
    "* Mode imputed\n",
    "* Apply one-hot encoding"
   ]
  },
  {
   "cell_type": "markdown",
   "id": "893b7db4",
   "metadata": {},
   "source": [
    "## Impute missing values"
   ]
  },
  {
   "cell_type": "markdown",
   "id": "37b47d76",
   "metadata": {},
   "source": [
    "Following the considerations and strategies above, we first impute missing values."
   ]
  },
  {
   "cell_type": "code",
   "execution_count": 13,
   "id": "d3fefde3",
   "metadata": {},
   "outputs": [],
   "source": [
    "imp = Imputer()\n",
    "imp.define_imputers()\n",
    "imp.fit(X_train)\n",
    "X_train_transf = imp.transform_reconstruct(X_train)\n",
    "X_test_transf = imp.transform_reconstruct(X_test)"
   ]
  },
  {
   "cell_type": "markdown",
   "id": "3f0c0e23",
   "metadata": {},
   "source": [
    "## Clean data"
   ]
  },
  {
   "cell_type": "markdown",
   "id": "1145478b",
   "metadata": {},
   "source": [
    "With most values imputed, we follow the above considerations and strategies for further cleaning"
   ]
  },
  {
   "cell_type": "code",
   "execution_count": 14,
   "id": "d44c2c4c",
   "metadata": {},
   "outputs": [],
   "source": [
    "clnr = Cleaner()\n",
    "clnr.clean(X_train_transf)\n",
    "X_train_clean = clnr.data\n",
    "\n",
    "clnr = Cleaner()\n",
    "clnr.clean(X_test_transf)\n",
    "X_test_clean = clnr.data"
   ]
  },
  {
   "cell_type": "markdown",
   "id": "86b88a0a",
   "metadata": {},
   "source": [
    "## Cleaned data"
   ]
  },
  {
   "cell_type": "markdown",
   "id": "cfc76104",
   "metadata": {},
   "source": [
    "After the above steps, our data looks as follows."
   ]
  },
  {
   "cell_type": "code",
   "execution_count": 15,
   "id": "c3092719",
   "metadata": {
    "scrolled": true
   },
   "outputs": [
    {
     "data": {
      "text/html": [
       "<div>\n",
       "<style scoped>\n",
       "    .dataframe tbody tr th:only-of-type {\n",
       "        vertical-align: middle;\n",
       "    }\n",
       "\n",
       "    .dataframe tbody tr th {\n",
       "        vertical-align: top;\n",
       "    }\n",
       "\n",
       "    .dataframe thead th {\n",
       "        text-align: right;\n",
       "    }\n",
       "</style>\n",
       "<table border=\"1\" class=\"dataframe\">\n",
       "  <thead>\n",
       "    <tr style=\"text-align: right;\">\n",
       "      <th></th>\n",
       "      <th>Store</th>\n",
       "      <th>Open</th>\n",
       "      <th>Promo</th>\n",
       "      <th>StateHoliday</th>\n",
       "      <th>SchoolHoliday</th>\n",
       "      <th>StoreType</th>\n",
       "      <th>Assortment</th>\n",
       "      <th>CompetitionDistance</th>\n",
       "      <th>Promo2</th>\n",
       "      <th>PromoInterval</th>\n",
       "      <th>Year</th>\n",
       "      <th>Month_sin</th>\n",
       "      <th>Month_cos</th>\n",
       "      <th>Weekday_sin</th>\n",
       "      <th>Weekday_cos</th>\n",
       "      <th>SalesCompetitionLag</th>\n",
       "      <th>Promo2Lag</th>\n",
       "    </tr>\n",
       "  </thead>\n",
       "  <tbody>\n",
       "    <tr>\n",
       "      <th>141218</th>\n",
       "      <td>470</td>\n",
       "      <td>1.0</td>\n",
       "      <td>0.0</td>\n",
       "      <td>0</td>\n",
       "      <td>0.0</td>\n",
       "      <td>a</td>\n",
       "      <td>c</td>\n",
       "      <td>50.0</td>\n",
       "      <td>0.0</td>\n",
       "      <td>Jan,Apr,Jul,Oct</td>\n",
       "      <td>2013</td>\n",
       "      <td>1.224647e-16</td>\n",
       "      <td>-1.000000</td>\n",
       "      <td>0.000000</td>\n",
       "      <td>1.000000</td>\n",
       "      <td>-1.0</td>\n",
       "      <td>-1.0</td>\n",
       "    </tr>\n",
       "    <tr>\n",
       "      <th>84444</th>\n",
       "      <td>468</td>\n",
       "      <td>1.0</td>\n",
       "      <td>0.0</td>\n",
       "      <td>0</td>\n",
       "      <td>1.0</td>\n",
       "      <td>c</td>\n",
       "      <td>c</td>\n",
       "      <td>5260.0</td>\n",
       "      <td>0.0</td>\n",
       "      <td>Jan,Apr,Jul,Oct</td>\n",
       "      <td>2013</td>\n",
       "      <td>8.660254e-01</td>\n",
       "      <td>-0.500000</td>\n",
       "      <td>0.068802</td>\n",
       "      <td>0.997630</td>\n",
       "      <td>216.0</td>\n",
       "      <td>-1.0</td>\n",
       "    </tr>\n",
       "    <tr>\n",
       "      <th>323206</th>\n",
       "      <td>624</td>\n",
       "      <td>1.0</td>\n",
       "      <td>0.0</td>\n",
       "      <td>0</td>\n",
       "      <td>1.0</td>\n",
       "      <td>a</td>\n",
       "      <td>c</td>\n",
       "      <td>6920.0</td>\n",
       "      <td>0.0</td>\n",
       "      <td>Jan,Apr,Jul,Oct</td>\n",
       "      <td>2013</td>\n",
       "      <td>-2.449294e-16</td>\n",
       "      <td>1.000000</td>\n",
       "      <td>0.017213</td>\n",
       "      <td>0.999852</td>\n",
       "      <td>845.0</td>\n",
       "      <td>-1.0</td>\n",
       "    </tr>\n",
       "    <tr>\n",
       "      <th>272980</th>\n",
       "      <td>622</td>\n",
       "      <td>1.0</td>\n",
       "      <td>0.0</td>\n",
       "      <td>0</td>\n",
       "      <td>0.0</td>\n",
       "      <td>a</td>\n",
       "      <td>c</td>\n",
       "      <td>2320.0</td>\n",
       "      <td>0.0</td>\n",
       "      <td>Jan,Apr,Jul,Oct</td>\n",
       "      <td>2013</td>\n",
       "      <td>-8.660254e-01</td>\n",
       "      <td>0.500000</td>\n",
       "      <td>0.034422</td>\n",
       "      <td>0.999407</td>\n",
       "      <td>-1.0</td>\n",
       "      <td>-1.0</td>\n",
       "    </tr>\n",
       "    <tr>\n",
       "      <th>16142</th>\n",
       "      <td>0</td>\n",
       "      <td>1.0</td>\n",
       "      <td>0.0</td>\n",
       "      <td>0</td>\n",
       "      <td>0.0</td>\n",
       "      <td>a</td>\n",
       "      <td>a</td>\n",
       "      <td>2320.0</td>\n",
       "      <td>1.0</td>\n",
       "      <td>Jan,Apr,Jul,Oct</td>\n",
       "      <td>2013</td>\n",
       "      <td>5.000000e-01</td>\n",
       "      <td>0.866025</td>\n",
       "      <td>0.068802</td>\n",
       "      <td>0.997630</td>\n",
       "      <td>-1.0</td>\n",
       "      <td>-1.0</td>\n",
       "    </tr>\n",
       "    <tr>\n",
       "      <th>181492</th>\n",
       "      <td>253</td>\n",
       "      <td>1.0</td>\n",
       "      <td>0.0</td>\n",
       "      <td>0</td>\n",
       "      <td>1.0</td>\n",
       "      <td>a</td>\n",
       "      <td>c</td>\n",
       "      <td>250.0</td>\n",
       "      <td>1.0</td>\n",
       "      <td>Feb,May,Aug,Nov</td>\n",
       "      <td>2013</td>\n",
       "      <td>-5.000000e-01</td>\n",
       "      <td>-0.866025</td>\n",
       "      <td>0.017213</td>\n",
       "      <td>0.999852</td>\n",
       "      <td>-1.0</td>\n",
       "      <td>170.0</td>\n",
       "    </tr>\n",
       "    <tr>\n",
       "      <th>38130</th>\n",
       "      <td>211</td>\n",
       "      <td>0.0</td>\n",
       "      <td>0.0</td>\n",
       "      <td>0</td>\n",
       "      <td>0.0</td>\n",
       "      <td>a</td>\n",
       "      <td>c</td>\n",
       "      <td>350.0</td>\n",
       "      <td>0.0</td>\n",
       "      <td>Jan,Apr,Jul,Oct</td>\n",
       "      <td>2013</td>\n",
       "      <td>8.660254e-01</td>\n",
       "      <td>0.500000</td>\n",
       "      <td>0.017213</td>\n",
       "      <td>0.999852</td>\n",
       "      <td>2295.0</td>\n",
       "      <td>-1.0</td>\n",
       "    </tr>\n",
       "  </tbody>\n",
       "</table>\n",
       "</div>"
      ],
      "text/plain": [
       "        Store  Open  Promo StateHoliday  SchoolHoliday StoreType Assortment  \\\n",
       "141218    470   1.0    0.0            0            0.0         a          c   \n",
       "84444     468   1.0    0.0            0            1.0         c          c   \n",
       "323206    624   1.0    0.0            0            1.0         a          c   \n",
       "272980    622   1.0    0.0            0            0.0         a          c   \n",
       "16142       0   1.0    0.0            0            0.0         a          a   \n",
       "181492    253   1.0    0.0            0            1.0         a          c   \n",
       "38130     211   0.0    0.0            0            0.0         a          c   \n",
       "\n",
       "        CompetitionDistance  Promo2    PromoInterval  Year     Month_sin  \\\n",
       "141218                 50.0     0.0  Jan,Apr,Jul,Oct  2013  1.224647e-16   \n",
       "84444                5260.0     0.0  Jan,Apr,Jul,Oct  2013  8.660254e-01   \n",
       "323206               6920.0     0.0  Jan,Apr,Jul,Oct  2013 -2.449294e-16   \n",
       "272980               2320.0     0.0  Jan,Apr,Jul,Oct  2013 -8.660254e-01   \n",
       "16142                2320.0     1.0  Jan,Apr,Jul,Oct  2013  5.000000e-01   \n",
       "181492                250.0     1.0  Feb,May,Aug,Nov  2013 -5.000000e-01   \n",
       "38130                 350.0     0.0  Jan,Apr,Jul,Oct  2013  8.660254e-01   \n",
       "\n",
       "        Month_cos  Weekday_sin  Weekday_cos  SalesCompetitionLag  Promo2Lag  \n",
       "141218  -1.000000     0.000000     1.000000                 -1.0       -1.0  \n",
       "84444   -0.500000     0.068802     0.997630                216.0       -1.0  \n",
       "323206   1.000000     0.017213     0.999852                845.0       -1.0  \n",
       "272980   0.500000     0.034422     0.999407                 -1.0       -1.0  \n",
       "16142    0.866025     0.068802     0.997630                 -1.0       -1.0  \n",
       "181492  -0.866025     0.017213     0.999852                 -1.0      170.0  \n",
       "38130    0.500000     0.017213     0.999852               2295.0       -1.0  "
      ]
     },
     "execution_count": 15,
     "metadata": {},
     "output_type": "execute_result"
    }
   ],
   "source": [
    "X_train_clean.sample(7)"
   ]
  },
  {
   "cell_type": "markdown",
   "id": "f47f2306",
   "metadata": {},
   "source": [
    "## Correlation of features before modeling"
   ]
  },
  {
   "cell_type": "code",
   "execution_count": 16,
   "id": "af667a88",
   "metadata": {},
   "outputs": [
    {
     "data": {
      "image/png": "[encoded data removed]",
      "text/plain": [
       "<Figure size 1368x1080 with 2 Axes>"
      ]
     },
     "metadata": {
      "needs_background": "light"
     },
     "output_type": "display_data"
    }
   ],
   "source": [
    "f = plt.figure(figsize=(19, 15))\n",
    "\n",
    "plt.matshow(X_train_clean.corr(), fignum=f.number)\n",
    "\n",
    "plt.xticks(\n",
    "    range(X_train_clean.select_dtypes(['number']).shape[1]),\n",
    "    X_train_clean.select_dtypes(['number']).columns,\n",
    "    fontsize=14,\n",
    "    rotation=45)\n",
    "plt.yticks(\n",
    "    range(X_train_clean.select_dtypes(['number']).shape[1]),\n",
    "    X_train_clean.select_dtypes(['number']).columns,\n",
    "    fontsize=14)\n",
    "\n",
    "cb = plt.colorbar()\n",
    "cb.ax.tick_params(labelsize=14)\n",
    "\n",
    "plt.title('Correlation Matrix', fontsize=16);"
   ]
  },
  {
   "cell_type": "markdown",
   "id": "7cf3fe6d",
   "metadata": {},
   "source": [
    "# Modeling"
   ]
  },
  {
   "cell_type": "markdown",
   "id": "3a0abea2",
   "metadata": {},
   "source": [
    "## Performance metric"
   ]
  },
  {
   "cell_type": "markdown",
   "id": "62fa08d0",
   "metadata": {},
   "source": [
    "The function below calculates our model performance."
   ]
  },
  {
   "cell_type": "code",
   "execution_count": 17,
   "id": "0dbfa3f7",
   "metadata": {},
   "outputs": [],
   "source": [
    "def metric(preds, actuals):\n",
    "    preds = preds.reshape(-1)\n",
    "    actuals = actuals.values.reshape(-1)\n",
    "    assert preds.shape == actuals.shape\n",
    "    return 100 * np.linalg.norm((actuals - preds) / actuals) / np.sqrt(preds.shape[0])"
   ]
  },
  {
   "cell_type": "markdown",
   "id": "f77376e0",
   "metadata": {},
   "source": [
    "## Baseline performance\n",
    "Baseline performance is based on the average sales per store."
   ]
  },
  {
   "cell_type": "code",
   "execution_count": 18,
   "id": "ea7c5fec",
   "metadata": {},
   "outputs": [
    {
     "name": "stdout",
     "output_type": "stream",
     "text": [
      "Our baseline RMSPE is 43.83318407645237.\n"
     ]
    }
   ],
   "source": [
    "mean_df = merged_holdout_data.groupby('Store')['Sales'].mean()\n",
    "avg_sales = mean_df.reset_index()\n",
    "avg_sales_by_store = X_test_clean.merge(avg_sales, how='left', on='Store')\n",
    "base_score = metric(avg_sales_by_store.loc[:, 'Sales'].values, y_test)\n",
    "print(f\"Our baseline RMSPE is {base_score}.\")"
   ]
  },
  {
   "cell_type": "markdown",
   "id": "60e771ff",
   "metadata": {},
   "source": [
    "## Begin pipeline"
   ]
  },
  {
   "cell_type": "markdown",
   "id": "a49982f4",
   "metadata": {},
   "source": [
    "We start with building a base-pipeline on which we can build our models. This base pipeline takes care of data encoding."
   ]
  },
  {
   "cell_type": "code",
   "execution_count": 19,
   "id": "adb50e85",
   "metadata": {},
   "outputs": [],
   "source": [
    "def create_pipeline():\n",
    "    pipe = Pipeline([\n",
    "        (\"target_encoder\", TargetEncoder(cols=\"Store\")),\n",
    "        (\"ordinal_encoder\", OrdinalEncoder(cols=[\"StateHoliday\", \"StoreType\", \"Assortment\"])),\n",
    "        (\"one_hot_encoder\", OneHotEncoder(cols=[\"PromoInterval\"])),\n",
    "    ], verbose=True)\n",
    "    return pipe"
   ]
  },
  {
   "cell_type": "markdown",
   "id": "2b0dbec5",
   "metadata": {},
   "source": [
    "## Random forest"
   ]
  },
  {
   "cell_type": "markdown",
   "id": "b0691e25",
   "metadata": {},
   "source": [
    "In a large parameter space of n_estimators, max_depth, and min_samples_split we found the following train and test scores for a subset of our training data."
   ]
  },
  {
   "attachments": {
    "params_1.png": {
     "image/png": "[encoded data removed]"
    }
   },
   "cell_type": "markdown",
   "id": "a9a36b8a",
   "metadata": {},
   "source": [
    "![params_1.png](attachment:params_1.png)"
   ]
  },
  {
   "cell_type": "markdown",
   "id": "c38541ff",
   "metadata": {},
   "source": [
    "On the full dataset, we find the following hyperparameter space."
   ]
  },
  {
   "attachments": {
    "params_2.png": {
     "image/png": "[encoded data removed]"
    }
   },
   "cell_type": "markdown",
   "id": "e160fe4f",
   "metadata": {},
   "source": [
    "![params_2.png](attachment:params_2.png)"
   ]
  },
  {
   "cell_type": "markdown",
   "id": "67c99379",
   "metadata": {},
   "source": [
    "To speed up running of this notebook we removed the full parameter space exploration. We focus on the following hyperparameters:\n",
    "\n",
    "    n_estimators = [256, 512]\n",
    "    max_depth = [16, 32, 64]\n",
    "    min_samples_split = [32, 50, 100]\n",
    "    \n",
    "We recommen not running the cell below, and skip to the section \"Best model.\""
   ]
  },
  {
   "cell_type": "code",
   "execution_count": 20,
   "id": "a1454ace",
   "metadata": {
    "scrolled": true
   },
   "outputs": [
    {
     "name": "stdout",
     "output_type": "stream",
     "text": [
      "[Pipeline] .... (step 1 of 4) Processing target_encoder, total=   0.3s\n",
      "[Pipeline] ... (step 2 of 4) Processing ordinal_encoder, total=   0.1s\n",
      "[Pipeline] ... (step 3 of 4) Processing one_hot_encoder, total=   0.4s\n"
     ]
    },
    {
     "name": "stderr",
     "output_type": "stream",
     "text": [
      "[Parallel(n_jobs=-1)]: Using backend ThreadingBackend with 8 concurrent workers.\n",
      "[Parallel(n_jobs=-1)]: Done  34 tasks      | elapsed:   16.7s\n",
      "[Parallel(n_jobs=-1)]: Done 184 tasks      | elapsed:  1.7min\n",
      "[Parallel(n_jobs=-1)]: Done 256 out of 256 | elapsed:  2.3min finished\n"
     ]
    },
    {
     "name": "stdout",
     "output_type": "stream",
     "text": [
      "[Pipeline] ............... (step 4 of 4) Processing rfr, total= 2.3min\n"
     ]
    },
    {
     "name": "stderr",
     "output_type": "stream",
     "text": [
      "[Parallel(n_jobs=8)]: Using backend ThreadingBackend with 8 concurrent workers.\n",
      "[Parallel(n_jobs=8)]: Done  34 tasks      | elapsed:    0.5s\n",
      "[Parallel(n_jobs=8)]: Done 184 tasks      | elapsed:    2.6s\n",
      "[Parallel(n_jobs=8)]: Done 256 out of 256 | elapsed:    3.5s finished\n",
      "[Parallel(n_jobs=8)]: Using backend ThreadingBackend with 8 concurrent workers.\n",
      "[Parallel(n_jobs=8)]: Done  34 tasks      | elapsed:    0.3s\n",
      "[Parallel(n_jobs=8)]: Done 184 tasks      | elapsed:    1.6s\n",
      "[Parallel(n_jobs=8)]: Done 256 out of 256 | elapsed:    2.2s finished\n"
     ]
    },
    {
     "name": "stdout",
     "output_type": "stream",
     "text": [
      "[Pipeline] .... (step 1 of 4) Processing target_encoder, total=   0.3s\n",
      "[Pipeline] ... (step 2 of 4) Processing ordinal_encoder, total=   0.2s\n",
      "[Pipeline] ... (step 3 of 4) Processing one_hot_encoder, total=   0.5s\n"
     ]
    },
    {
     "name": "stderr",
     "output_type": "stream",
     "text": [
      "[Parallel(n_jobs=-1)]: Using backend ThreadingBackend with 8 concurrent workers.\n",
      "[Parallel(n_jobs=-1)]: Done  34 tasks      | elapsed:   15.6s\n",
      "[Parallel(n_jobs=-1)]: Done 184 tasks      | elapsed:  1.6min\n",
      "[Parallel(n_jobs=-1)]: Done 256 out of 256 | elapsed:  2.2min finished\n"
     ]
    },
    {
     "name": "stdout",
     "output_type": "stream",
     "text": [
      "[Pipeline] ............... (step 4 of 4) Processing rfr, total= 2.2min\n"
     ]
    },
    {
     "name": "stderr",
     "output_type": "stream",
     "text": [
      "[Parallel(n_jobs=8)]: Using backend ThreadingBackend with 8 concurrent workers.\n",
      "[Parallel(n_jobs=8)]: Done  34 tasks      | elapsed:    0.6s\n",
      "[Parallel(n_jobs=8)]: Done 184 tasks      | elapsed:    2.6s\n",
      "[Parallel(n_jobs=8)]: Done 256 out of 256 | elapsed:    3.6s finished\n",
      "[Parallel(n_jobs=8)]: Using backend ThreadingBackend with 8 concurrent workers.\n",
      "[Parallel(n_jobs=8)]: Done  34 tasks      | elapsed:    0.3s\n",
      "[Parallel(n_jobs=8)]: Done 184 tasks      | elapsed:    1.5s\n",
      "[Parallel(n_jobs=8)]: Done 256 out of 256 | elapsed:    2.1s finished\n"
     ]
    },
    {
     "name": "stdout",
     "output_type": "stream",
     "text": [
      "[Pipeline] .... (step 1 of 4) Processing target_encoder, total=   0.4s\n",
      "[Pipeline] ... (step 2 of 4) Processing ordinal_encoder, total=   0.2s\n",
      "[Pipeline] ... (step 3 of 4) Processing one_hot_encoder, total=   0.8s\n"
     ]
    },
    {
     "name": "stderr",
     "output_type": "stream",
     "text": [
      "[Parallel(n_jobs=-1)]: Using backend ThreadingBackend with 8 concurrent workers.\n",
      "[Parallel(n_jobs=-1)]: Done  34 tasks      | elapsed:   21.7s\n",
      "[Parallel(n_jobs=-1)]: Done 184 tasks      | elapsed:  1.5min\n",
      "[Parallel(n_jobs=-1)]: Done 256 out of 256 | elapsed:  2.2min finished\n"
     ]
    },
    {
     "name": "stdout",
     "output_type": "stream",
     "text": [
      "[Pipeline] ............... (step 4 of 4) Processing rfr, total= 2.2min\n"
     ]
    },
    {
     "name": "stderr",
     "output_type": "stream",
     "text": [
      "[Parallel(n_jobs=8)]: Using backend ThreadingBackend with 8 concurrent workers.\n",
      "[Parallel(n_jobs=8)]: Done  34 tasks      | elapsed:    0.5s\n",
      "[Parallel(n_jobs=8)]: Done 184 tasks      | elapsed:    2.5s\n",
      "[Parallel(n_jobs=8)]: Done 256 out of 256 | elapsed:    3.5s finished\n",
      "[Parallel(n_jobs=8)]: Using backend ThreadingBackend with 8 concurrent workers.\n",
      "[Parallel(n_jobs=8)]: Done  34 tasks      | elapsed:    0.3s\n",
      "[Parallel(n_jobs=8)]: Done 184 tasks      | elapsed:    1.4s\n",
      "[Parallel(n_jobs=8)]: Done 256 out of 256 | elapsed:    2.0s finished\n"
     ]
    },
    {
     "name": "stdout",
     "output_type": "stream",
     "text": [
      "[Pipeline] .... (step 1 of 4) Processing target_encoder, total=   0.4s\n",
      "[Pipeline] ... (step 2 of 4) Processing ordinal_encoder, total=   0.2s\n",
      "[Pipeline] ... (step 3 of 4) Processing one_hot_encoder, total=   0.7s\n"
     ]
    },
    {
     "name": "stderr",
     "output_type": "stream",
     "text": [
      "[Parallel(n_jobs=-1)]: Using backend ThreadingBackend with 8 concurrent workers.\n",
      "[Parallel(n_jobs=-1)]: Done  34 tasks      | elapsed:   24.5s\n",
      "[Parallel(n_jobs=-1)]: Done 184 tasks      | elapsed:  1.9min\n",
      "[Parallel(n_jobs=-1)]: Done 256 out of 256 | elapsed:  2.7min finished\n"
     ]
    },
    {
     "name": "stdout",
     "output_type": "stream",
     "text": [
      "[Pipeline] ............... (step 4 of 4) Processing rfr, total= 2.7min\n"
     ]
    },
    {
     "name": "stderr",
     "output_type": "stream",
     "text": [
      "[Parallel(n_jobs=8)]: Using backend ThreadingBackend with 8 concurrent workers.\n",
      "[Parallel(n_jobs=8)]: Done  34 tasks      | elapsed:    1.1s\n",
      "[Parallel(n_jobs=8)]: Done 184 tasks      | elapsed:    4.5s\n",
      "[Parallel(n_jobs=8)]: Done 256 out of 256 | elapsed:    6.0s finished\n",
      "[Parallel(n_jobs=8)]: Using backend ThreadingBackend with 8 concurrent workers.\n",
      "[Parallel(n_jobs=8)]: Done  34 tasks      | elapsed:    0.5s\n",
      "[Parallel(n_jobs=8)]: Done 184 tasks      | elapsed:    2.3s\n",
      "[Parallel(n_jobs=8)]: Done 256 out of 256 | elapsed:    3.2s finished\n"
     ]
    },
    {
     "name": "stdout",
     "output_type": "stream",
     "text": [
      "[Pipeline] .... (step 1 of 4) Processing target_encoder, total=   0.4s\n",
      "[Pipeline] ... (step 2 of 4) Processing ordinal_encoder, total=   0.2s\n",
      "[Pipeline] ... (step 3 of 4) Processing one_hot_encoder, total=   0.7s\n"
     ]
    },
    {
     "name": "stderr",
     "output_type": "stream",
     "text": [
      "[Parallel(n_jobs=-1)]: Using backend ThreadingBackend with 8 concurrent workers.\n",
      "[Parallel(n_jobs=-1)]: Done  34 tasks      | elapsed:   24.7s\n",
      "[Parallel(n_jobs=-1)]: Done 184 tasks      | elapsed:  2.0min\n",
      "[Parallel(n_jobs=-1)]: Done 256 out of 256 | elapsed:  2.5min finished\n"
     ]
    },
    {
     "name": "stdout",
     "output_type": "stream",
     "text": [
      "[Pipeline] ............... (step 4 of 4) Processing rfr, total= 2.5min\n"
     ]
    },
    {
     "name": "stderr",
     "output_type": "stream",
     "text": [
      "[Parallel(n_jobs=8)]: Using backend ThreadingBackend with 8 concurrent workers.\n",
      "[Parallel(n_jobs=8)]: Done  34 tasks      | elapsed:    0.7s\n",
      "[Parallel(n_jobs=8)]: Done 184 tasks      | elapsed:    2.9s\n",
      "[Parallel(n_jobs=8)]: Done 256 out of 256 | elapsed:    4.0s finished\n",
      "[Parallel(n_jobs=8)]: Using backend ThreadingBackend with 8 concurrent workers.\n",
      "[Parallel(n_jobs=8)]: Done  34 tasks      | elapsed:    0.3s\n",
      "[Parallel(n_jobs=8)]: Done 184 tasks      | elapsed:    1.6s\n",
      "[Parallel(n_jobs=8)]: Done 256 out of 256 | elapsed:    2.2s finished\n"
     ]
    },
    {
     "name": "stdout",
     "output_type": "stream",
     "text": [
      "[Pipeline] .... (step 1 of 4) Processing target_encoder, total=   0.3s\n",
      "[Pipeline] ... (step 2 of 4) Processing ordinal_encoder, total=   0.1s\n",
      "[Pipeline] ... (step 3 of 4) Processing one_hot_encoder, total=   0.5s\n"
     ]
    },
    {
     "name": "stderr",
     "output_type": "stream",
     "text": [
      "[Parallel(n_jobs=-1)]: Using backend ThreadingBackend with 8 concurrent workers.\n",
      "[Parallel(n_jobs=-1)]: Done  34 tasks      | elapsed:   16.5s\n",
      "[Parallel(n_jobs=-1)]: Done 184 tasks      | elapsed:  1.9min\n",
      "[Parallel(n_jobs=-1)]: Done 256 out of 256 | elapsed:  2.7min finished\n"
     ]
    },
    {
     "name": "stdout",
     "output_type": "stream",
     "text": [
      "[Pipeline] ............... (step 4 of 4) Processing rfr, total= 2.7min\n"
     ]
    },
    {
     "name": "stderr",
     "output_type": "stream",
     "text": [
      "[Parallel(n_jobs=8)]: Using backend ThreadingBackend with 8 concurrent workers.\n",
      "[Parallel(n_jobs=8)]: Done  34 tasks      | elapsed:    0.6s\n",
      "[Parallel(n_jobs=8)]: Done 184 tasks      | elapsed:    3.0s\n",
      "[Parallel(n_jobs=8)]: Done 256 out of 256 | elapsed:    4.2s finished\n",
      "[Parallel(n_jobs=8)]: Using backend ThreadingBackend with 8 concurrent workers.\n",
      "[Parallel(n_jobs=8)]: Done  34 tasks      | elapsed:    0.3s\n",
      "[Parallel(n_jobs=8)]: Done 184 tasks      | elapsed:    1.6s\n",
      "[Parallel(n_jobs=8)]: Done 256 out of 256 | elapsed:    2.2s finished\n"
     ]
    },
    {
     "name": "stdout",
     "output_type": "stream",
     "text": [
      "[Pipeline] .... (step 1 of 4) Processing target_encoder, total=   0.3s\n",
      "[Pipeline] ... (step 2 of 4) Processing ordinal_encoder, total=   0.1s\n",
      "[Pipeline] ... (step 3 of 4) Processing one_hot_encoder, total=   0.4s\n"
     ]
    },
    {
     "name": "stderr",
     "output_type": "stream",
     "text": [
      "[Parallel(n_jobs=-1)]: Using backend ThreadingBackend with 8 concurrent workers.\n",
      "[Parallel(n_jobs=-1)]: Done  34 tasks      | elapsed:   18.2s\n",
      "[Parallel(n_jobs=-1)]: Done 184 tasks      | elapsed:  2.1min\n",
      "[Parallel(n_jobs=-1)]: Done 256 out of 256 | elapsed:  3.0min finished\n"
     ]
    },
    {
     "name": "stdout",
     "output_type": "stream",
     "text": [
      "[Pipeline] ............... (step 4 of 4) Processing rfr, total= 3.0min\n"
     ]
    },
    {
     "name": "stderr",
     "output_type": "stream",
     "text": [
      "[Parallel(n_jobs=8)]: Using backend ThreadingBackend with 8 concurrent workers.\n",
      "[Parallel(n_jobs=8)]: Done  34 tasks      | elapsed:    0.9s\n",
      "[Parallel(n_jobs=8)]: Done 184 tasks      | elapsed:    4.3s\n",
      "[Parallel(n_jobs=8)]: Done 256 out of 256 | elapsed:    5.9s finished\n",
      "[Parallel(n_jobs=8)]: Using backend ThreadingBackend with 8 concurrent workers.\n",
      "[Parallel(n_jobs=8)]: Done  34 tasks      | elapsed:    0.5s\n",
      "[Parallel(n_jobs=8)]: Done 184 tasks      | elapsed:    2.4s\n",
      "[Parallel(n_jobs=8)]: Done 256 out of 256 | elapsed:    3.4s finished\n"
     ]
    },
    {
     "name": "stdout",
     "output_type": "stream",
     "text": [
      "[Pipeline] .... (step 1 of 4) Processing target_encoder, total=   0.4s\n",
      "[Pipeline] ... (step 2 of 4) Processing ordinal_encoder, total=   0.2s\n",
      "[Pipeline] ... (step 3 of 4) Processing one_hot_encoder, total=   0.7s\n"
     ]
    },
    {
     "name": "stderr",
     "output_type": "stream",
     "text": [
      "[Parallel(n_jobs=-1)]: Using backend ThreadingBackend with 8 concurrent workers.\n",
      "[Parallel(n_jobs=-1)]: Done  34 tasks      | elapsed:   28.8s\n",
      "[Parallel(n_jobs=-1)]: Done 184 tasks      | elapsed:  2.0min\n",
      "[Parallel(n_jobs=-1)]: Done 256 out of 256 | elapsed:  2.6min finished\n"
     ]
    },
    {
     "name": "stdout",
     "output_type": "stream",
     "text": [
      "[Pipeline] ............... (step 4 of 4) Processing rfr, total= 2.6min\n"
     ]
    },
    {
     "name": "stderr",
     "output_type": "stream",
     "text": [
      "[Parallel(n_jobs=8)]: Using backend ThreadingBackend with 8 concurrent workers.\n",
      "[Parallel(n_jobs=8)]: Done  34 tasks      | elapsed:    0.6s\n",
      "[Parallel(n_jobs=8)]: Done 184 tasks      | elapsed:    3.2s\n",
      "[Parallel(n_jobs=8)]: Done 256 out of 256 | elapsed:    4.5s finished\n",
      "[Parallel(n_jobs=8)]: Using backend ThreadingBackend with 8 concurrent workers.\n",
      "[Parallel(n_jobs=8)]: Done  34 tasks      | elapsed:    0.4s\n",
      "[Parallel(n_jobs=8)]: Done 184 tasks      | elapsed:    2.3s\n",
      "[Parallel(n_jobs=8)]: Done 256 out of 256 | elapsed:    2.9s finished\n"
     ]
    },
    {
     "name": "stdout",
     "output_type": "stream",
     "text": [
      "[Pipeline] .... (step 1 of 4) Processing target_encoder, total=   0.3s\n",
      "[Pipeline] ... (step 2 of 4) Processing ordinal_encoder, total=   0.1s\n",
      "[Pipeline] ... (step 3 of 4) Processing one_hot_encoder, total=   0.5s\n"
     ]
    },
    {
     "name": "stderr",
     "output_type": "stream",
     "text": [
      "[Parallel(n_jobs=-1)]: Using backend ThreadingBackend with 8 concurrent workers.\n",
      "[Parallel(n_jobs=-1)]: Done  34 tasks      | elapsed:   18.8s\n",
      "[Parallel(n_jobs=-1)]: Done 184 tasks      | elapsed:  1.8min\n",
      "[Parallel(n_jobs=-1)]: Done 256 out of 256 | elapsed:  2.4min finished\n"
     ]
    },
    {
     "name": "stdout",
     "output_type": "stream",
     "text": [
      "[Pipeline] ............... (step 4 of 4) Processing rfr, total= 2.4min\n"
     ]
    },
    {
     "name": "stderr",
     "output_type": "stream",
     "text": [
      "[Parallel(n_jobs=8)]: Using backend ThreadingBackend with 8 concurrent workers.\n",
      "[Parallel(n_jobs=8)]: Done  34 tasks      | elapsed:    0.6s\n",
      "[Parallel(n_jobs=8)]: Done 184 tasks      | elapsed:    2.9s\n",
      "[Parallel(n_jobs=8)]: Done 256 out of 256 | elapsed:    3.9s finished\n",
      "[Parallel(n_jobs=8)]: Using backend ThreadingBackend with 8 concurrent workers.\n",
      "[Parallel(n_jobs=8)]: Done  34 tasks      | elapsed:    0.3s\n",
      "[Parallel(n_jobs=8)]: Done 184 tasks      | elapsed:    1.6s\n",
      "[Parallel(n_jobs=8)]: Done 256 out of 256 | elapsed:    2.1s finished\n"
     ]
    },
    {
     "name": "stdout",
     "output_type": "stream",
     "text": [
      "[Pipeline] .... (step 1 of 4) Processing target_encoder, total=   0.3s\n",
      "[Pipeline] ... (step 2 of 4) Processing ordinal_encoder, total=   0.1s\n",
      "[Pipeline] ... (step 3 of 4) Processing one_hot_encoder, total=   0.5s\n"
     ]
    },
    {
     "name": "stderr",
     "output_type": "stream",
     "text": [
      "[Parallel(n_jobs=-1)]: Using backend ThreadingBackend with 8 concurrent workers.\n",
      "[Parallel(n_jobs=-1)]: Done  34 tasks      | elapsed:   22.5s\n",
      "[Parallel(n_jobs=-1)]: Done 184 tasks      | elapsed:  1.5min\n",
      "[Parallel(n_jobs=-1)]: Done 434 tasks      | elapsed:  4.3min\n",
      "[Parallel(n_jobs=-1)]: Done 512 out of 512 | elapsed:  4.9min finished\n"
     ]
    },
    {
     "name": "stdout",
     "output_type": "stream",
     "text": [
      "[Pipeline] ............... (step 4 of 4) Processing rfr, total= 4.9min\n"
     ]
    },
    {
     "name": "stderr",
     "output_type": "stream",
     "text": [
      "[Parallel(n_jobs=8)]: Using backend ThreadingBackend with 8 concurrent workers.\n",
      "[Parallel(n_jobs=8)]: Done  34 tasks      | elapsed:    0.5s\n",
      "[Parallel(n_jobs=8)]: Done 184 tasks      | elapsed:    2.5s\n",
      "[Parallel(n_jobs=8)]: Done 434 tasks      | elapsed:    6.3s\n",
      "[Parallel(n_jobs=8)]: Done 512 out of 512 | elapsed:    7.4s finished\n",
      "[Parallel(n_jobs=8)]: Using backend ThreadingBackend with 8 concurrent workers.\n",
      "[Parallel(n_jobs=8)]: Done  34 tasks      | elapsed:    0.4s\n",
      "[Parallel(n_jobs=8)]: Done 184 tasks      | elapsed:    1.9s\n",
      "[Parallel(n_jobs=8)]: Done 434 tasks      | elapsed:    4.5s\n",
      "[Parallel(n_jobs=8)]: Done 512 out of 512 | elapsed:    5.3s finished\n"
     ]
    },
    {
     "name": "stdout",
     "output_type": "stream",
     "text": [
      "[Pipeline] .... (step 1 of 4) Processing target_encoder, total=   0.3s\n",
      "[Pipeline] ... (step 2 of 4) Processing ordinal_encoder, total=   0.1s\n",
      "[Pipeline] ... (step 3 of 4) Processing one_hot_encoder, total=   0.6s\n"
     ]
    },
    {
     "name": "stderr",
     "output_type": "stream",
     "text": [
      "[Parallel(n_jobs=-1)]: Using backend ThreadingBackend with 8 concurrent workers.\n",
      "[Parallel(n_jobs=-1)]: Done  34 tasks      | elapsed:   19.0s\n",
      "[Parallel(n_jobs=-1)]: Done 184 tasks      | elapsed:  1.8min\n",
      "[Parallel(n_jobs=-1)]: Done 434 tasks      | elapsed:  3.7min\n",
      "[Parallel(n_jobs=-1)]: Done 512 out of 512 | elapsed:  4.6min finished\n"
     ]
    },
    {
     "name": "stdout",
     "output_type": "stream",
     "text": [
      "[Pipeline] ............... (step 4 of 4) Processing rfr, total= 4.6min\n"
     ]
    },
    {
     "name": "stderr",
     "output_type": "stream",
     "text": [
      "[Parallel(n_jobs=8)]: Using backend ThreadingBackend with 8 concurrent workers.\n",
      "[Parallel(n_jobs=8)]: Done  34 tasks      | elapsed:    0.9s\n",
      "[Parallel(n_jobs=8)]: Done 184 tasks      | elapsed:    4.1s\n",
      "[Parallel(n_jobs=8)]: Done 434 tasks      | elapsed:    8.7s\n",
      "[Parallel(n_jobs=8)]: Done 512 out of 512 | elapsed:   10.0s finished\n",
      "[Parallel(n_jobs=8)]: Using backend ThreadingBackend with 8 concurrent workers.\n",
      "[Parallel(n_jobs=8)]: Done  34 tasks      | elapsed:    0.4s\n",
      "[Parallel(n_jobs=8)]: Done 184 tasks      | elapsed:    1.8s\n",
      "[Parallel(n_jobs=8)]: Done 434 tasks      | elapsed:    4.4s\n",
      "[Parallel(n_jobs=8)]: Done 512 out of 512 | elapsed:    5.1s finished\n"
     ]
    },
    {
     "name": "stdout",
     "output_type": "stream",
     "text": [
      "[Pipeline] .... (step 1 of 4) Processing target_encoder, total=   0.4s\n",
      "[Pipeline] ... (step 2 of 4) Processing ordinal_encoder, total=   0.2s\n",
      "[Pipeline] ... (step 3 of 4) Processing one_hot_encoder, total=   0.7s\n"
     ]
    },
    {
     "name": "stderr",
     "output_type": "stream",
     "text": [
      "[Parallel(n_jobs=-1)]: Using backend ThreadingBackend with 8 concurrent workers.\n",
      "[Parallel(n_jobs=-1)]: Done  34 tasks      | elapsed:   27.2s\n",
      "[Parallel(n_jobs=-1)]: Done 184 tasks      | elapsed:  2.2min\n",
      "[Parallel(n_jobs=-1)]: Done 434 tasks      | elapsed:  5.2min\n",
      "[Parallel(n_jobs=-1)]: Done 512 out of 512 | elapsed:  6.0min finished\n"
     ]
    },
    {
     "name": "stdout",
     "output_type": "stream",
     "text": [
      "[Pipeline] ............... (step 4 of 4) Processing rfr, total= 6.0min\n"
     ]
    },
    {
     "name": "stderr",
     "output_type": "stream",
     "text": [
      "[Parallel(n_jobs=8)]: Using backend ThreadingBackend with 8 concurrent workers.\n",
      "[Parallel(n_jobs=8)]: Done  34 tasks      | elapsed:    0.6s\n",
      "[Parallel(n_jobs=8)]: Done 184 tasks      | elapsed:    2.8s\n",
      "[Parallel(n_jobs=8)]: Done 434 tasks      | elapsed:    6.6s\n",
      "[Parallel(n_jobs=8)]: Done 512 out of 512 | elapsed:    7.8s finished\n",
      "[Parallel(n_jobs=8)]: Using backend ThreadingBackend with 8 concurrent workers.\n",
      "[Parallel(n_jobs=8)]: Done  34 tasks      | elapsed:    0.4s\n",
      "[Parallel(n_jobs=8)]: Done 184 tasks      | elapsed:    2.4s\n",
      "[Parallel(n_jobs=8)]: Done 434 tasks      | elapsed:    5.6s\n",
      "[Parallel(n_jobs=8)]: Done 512 out of 512 | elapsed:    6.4s finished\n"
     ]
    },
    {
     "name": "stdout",
     "output_type": "stream",
     "text": [
      "[Pipeline] .... (step 1 of 4) Processing target_encoder, total=   0.4s\n",
      "[Pipeline] ... (step 2 of 4) Processing ordinal_encoder, total=   0.2s\n",
      "[Pipeline] ... (step 3 of 4) Processing one_hot_encoder, total=   0.7s\n"
     ]
    },
    {
     "name": "stderr",
     "output_type": "stream",
     "text": [
      "[Parallel(n_jobs=-1)]: Using backend ThreadingBackend with 8 concurrent workers.\n",
      "[Parallel(n_jobs=-1)]: Done  34 tasks      | elapsed:   28.4s\n",
      "[Parallel(n_jobs=-1)]: Done 184 tasks      | elapsed:  2.3min\n",
      "[Parallel(n_jobs=-1)]: Done 434 tasks      | elapsed:  5.8min\n",
      "[Parallel(n_jobs=-1)]: Done 512 out of 512 | elapsed:  6.9min finished\n"
     ]
    },
    {
     "name": "stdout",
     "output_type": "stream",
     "text": [
      "[Pipeline] ............... (step 4 of 4) Processing rfr, total= 6.9min\n"
     ]
    },
    {
     "name": "stderr",
     "output_type": "stream",
     "text": [
      "[Parallel(n_jobs=8)]: Using backend ThreadingBackend with 8 concurrent workers.\n",
      "[Parallel(n_jobs=8)]: Done  34 tasks      | elapsed:    1.2s\n",
      "[Parallel(n_jobs=8)]: Done 184 tasks      | elapsed:    5.6s\n",
      "[Parallel(n_jobs=8)]: Done 434 tasks      | elapsed:   11.8s\n",
      "[Parallel(n_jobs=8)]: Done 512 out of 512 | elapsed:   13.7s finished\n",
      "[Parallel(n_jobs=8)]: Using backend ThreadingBackend with 8 concurrent workers.\n",
      "[Parallel(n_jobs=8)]: Done  34 tasks      | elapsed:    0.5s\n",
      "[Parallel(n_jobs=8)]: Done 184 tasks      | elapsed:    2.5s\n",
      "[Parallel(n_jobs=8)]: Done 434 tasks      | elapsed:    6.1s\n",
      "[Parallel(n_jobs=8)]: Done 512 out of 512 | elapsed:    7.3s finished\n"
     ]
    },
    {
     "name": "stdout",
     "output_type": "stream",
     "text": [
      "[Pipeline] .... (step 1 of 4) Processing target_encoder, total=   0.4s\n",
      "[Pipeline] ... (step 2 of 4) Processing ordinal_encoder, total=   0.2s\n",
      "[Pipeline] ... (step 3 of 4) Processing one_hot_encoder, total=   0.8s\n"
     ]
    },
    {
     "name": "stderr",
     "output_type": "stream",
     "text": [
      "[Parallel(n_jobs=-1)]: Using backend ThreadingBackend with 8 concurrent workers.\n",
      "[Parallel(n_jobs=-1)]: Done  34 tasks      | elapsed:   36.5s\n",
      "[Parallel(n_jobs=-1)]: Done 184 tasks      | elapsed:  2.6min\n",
      "[Parallel(n_jobs=-1)]: Done 434 tasks      | elapsed:  6.0min\n",
      "[Parallel(n_jobs=-1)]: Done 512 out of 512 | elapsed:  6.7min finished\n"
     ]
    },
    {
     "name": "stdout",
     "output_type": "stream",
     "text": [
      "[Pipeline] ............... (step 4 of 4) Processing rfr, total= 6.7min\n"
     ]
    },
    {
     "name": "stderr",
     "output_type": "stream",
     "text": [
      "[Parallel(n_jobs=8)]: Using backend ThreadingBackend with 8 concurrent workers.\n",
      "[Parallel(n_jobs=8)]: Done  34 tasks      | elapsed:    0.7s\n",
      "[Parallel(n_jobs=8)]: Done 184 tasks      | elapsed:    2.9s\n",
      "[Parallel(n_jobs=8)]: Done 434 tasks      | elapsed:    6.8s\n",
      "[Parallel(n_jobs=8)]: Done 512 out of 512 | elapsed:    8.0s finished\n",
      "[Parallel(n_jobs=8)]: Using backend ThreadingBackend with 8 concurrent workers.\n",
      "[Parallel(n_jobs=8)]: Done  34 tasks      | elapsed:    0.3s\n",
      "[Parallel(n_jobs=8)]: Done 184 tasks      | elapsed:    1.6s\n",
      "[Parallel(n_jobs=8)]: Done 434 tasks      | elapsed:    3.7s\n",
      "[Parallel(n_jobs=8)]: Done 512 out of 512 | elapsed:    4.4s finished\n"
     ]
    },
    {
     "name": "stdout",
     "output_type": "stream",
     "text": [
      "[Pipeline] .... (step 1 of 4) Processing target_encoder, total=   0.3s\n",
      "[Pipeline] ... (step 2 of 4) Processing ordinal_encoder, total=   0.1s\n",
      "[Pipeline] ... (step 3 of 4) Processing one_hot_encoder, total=   0.4s\n"
     ]
    },
    {
     "name": "stderr",
     "output_type": "stream",
     "text": [
      "[Parallel(n_jobs=-1)]: Using backend ThreadingBackend with 8 concurrent workers.\n",
      "[Parallel(n_jobs=-1)]: Done  34 tasks      | elapsed:   17.7s\n",
      "[Parallel(n_jobs=-1)]: Done 184 tasks      | elapsed:  1.3min\n",
      "[Parallel(n_jobs=-1)]: Done 434 tasks      | elapsed:  3.2min\n",
      "[Parallel(n_jobs=-1)]: Done 512 out of 512 | elapsed:  3.8min finished\n"
     ]
    },
    {
     "name": "stdout",
     "output_type": "stream",
     "text": [
      "[Pipeline] ............... (step 4 of 4) Processing rfr, total= 3.8min\n"
     ]
    },
    {
     "name": "stderr",
     "output_type": "stream",
     "text": [
      "[Parallel(n_jobs=8)]: Using backend ThreadingBackend with 8 concurrent workers.\n",
      "[Parallel(n_jobs=8)]: Done  34 tasks      | elapsed:    0.5s\n",
      "[Parallel(n_jobs=8)]: Done 184 tasks      | elapsed:    2.2s\n",
      "[Parallel(n_jobs=8)]: Done 434 tasks      | elapsed:    5.3s\n",
      "[Parallel(n_jobs=8)]: Done 512 out of 512 | elapsed:    6.2s finished\n",
      "[Parallel(n_jobs=8)]: Using backend ThreadingBackend with 8 concurrent workers.\n",
      "[Parallel(n_jobs=8)]: Done  34 tasks      | elapsed:    0.3s\n",
      "[Parallel(n_jobs=8)]: Done 184 tasks      | elapsed:    1.3s\n",
      "[Parallel(n_jobs=8)]: Done 434 tasks      | elapsed:    3.0s\n",
      "[Parallel(n_jobs=8)]: Done 512 out of 512 | elapsed:    3.6s finished\n"
     ]
    },
    {
     "name": "stdout",
     "output_type": "stream",
     "text": [
      "[Pipeline] .... (step 1 of 4) Processing target_encoder, total=   0.3s\n",
      "[Pipeline] ... (step 2 of 4) Processing ordinal_encoder, total=   0.1s\n",
      "[Pipeline] ... (step 3 of 4) Processing one_hot_encoder, total=   0.5s\n"
     ]
    },
    {
     "name": "stderr",
     "output_type": "stream",
     "text": [
      "[Parallel(n_jobs=-1)]: Using backend ThreadingBackend with 8 concurrent workers.\n",
      "[Parallel(n_jobs=-1)]: Done  34 tasks      | elapsed:   27.7s\n",
      "[Parallel(n_jobs=-1)]: Done 184 tasks      | elapsed:  2.1min\n",
      "[Parallel(n_jobs=-1)]: Done 434 tasks      | elapsed:  4.7min\n",
      "[Parallel(n_jobs=-1)]: Done 512 out of 512 | elapsed:  5.5min finished\n"
     ]
    },
    {
     "name": "stdout",
     "output_type": "stream",
     "text": [
      "[Pipeline] ............... (step 4 of 4) Processing rfr, total= 5.5min\n"
     ]
    },
    {
     "name": "stderr",
     "output_type": "stream",
     "text": [
      "[Parallel(n_jobs=8)]: Using backend ThreadingBackend with 8 concurrent workers.\n",
      "[Parallel(n_jobs=8)]: Done  34 tasks      | elapsed:    0.8s\n",
      "[Parallel(n_jobs=8)]: Done 184 tasks      | elapsed:    4.1s\n",
      "[Parallel(n_jobs=8)]: Done 434 tasks      | elapsed:    9.9s\n",
      "[Parallel(n_jobs=8)]: Done 512 out of 512 | elapsed:   11.6s finished\n",
      "[Parallel(n_jobs=8)]: Using backend ThreadingBackend with 8 concurrent workers.\n",
      "[Parallel(n_jobs=8)]: Done  34 tasks      | elapsed:    0.5s\n",
      "[Parallel(n_jobs=8)]: Done 184 tasks      | elapsed:    2.4s\n",
      "[Parallel(n_jobs=8)]: Done 434 tasks      | elapsed:    5.8s\n",
      "[Parallel(n_jobs=8)]: Done 512 out of 512 | elapsed:    7.0s finished\n"
     ]
    },
    {
     "name": "stdout",
     "output_type": "stream",
     "text": [
      "[Pipeline] .... (step 1 of 4) Processing target_encoder, total=   0.4s\n",
      "[Pipeline] ... (step 2 of 4) Processing ordinal_encoder, total=   0.2s\n",
      "[Pipeline] ... (step 3 of 4) Processing one_hot_encoder, total=   0.8s\n"
     ]
    },
    {
     "name": "stderr",
     "output_type": "stream",
     "text": [
      "[Parallel(n_jobs=-1)]: Using backend ThreadingBackend with 8 concurrent workers.\n",
      "[Parallel(n_jobs=-1)]: Done  34 tasks      | elapsed:   29.7s\n",
      "[Parallel(n_jobs=-1)]: Done 184 tasks      | elapsed:  1.9min\n",
      "[Parallel(n_jobs=-1)]: Done 434 tasks      | elapsed:  3.9min\n",
      "[Parallel(n_jobs=-1)]: Done 512 out of 512 | elapsed:  4.9min finished\n"
     ]
    },
    {
     "name": "stdout",
     "output_type": "stream",
     "text": [
      "[Pipeline] ............... (step 4 of 4) Processing rfr, total= 4.9min\n"
     ]
    },
    {
     "name": "stderr",
     "output_type": "stream",
     "text": [
      "[Parallel(n_jobs=8)]: Using backend ThreadingBackend with 8 concurrent workers.\n",
      "[Parallel(n_jobs=8)]: Done  34 tasks      | elapsed:    0.6s\n",
      "[Parallel(n_jobs=8)]: Done 184 tasks      | elapsed:    2.7s\n",
      "[Parallel(n_jobs=8)]: Done 434 tasks      | elapsed:    7.2s\n",
      "[Parallel(n_jobs=8)]: Done 512 out of 512 | elapsed:    8.4s finished\n",
      "[Parallel(n_jobs=8)]: Using backend ThreadingBackend with 8 concurrent workers.\n",
      "[Parallel(n_jobs=8)]: Done  34 tasks      | elapsed:    0.4s\n",
      "[Parallel(n_jobs=8)]: Done 184 tasks      | elapsed:    1.6s\n",
      "[Parallel(n_jobs=8)]: Done 434 tasks      | elapsed:    3.7s\n",
      "[Parallel(n_jobs=8)]: Done 512 out of 512 | elapsed:    4.4s finished\n"
     ]
    },
    {
     "name": "stdout",
     "output_type": "stream",
     "text": [
      "[Pipeline] .... (step 1 of 4) Processing target_encoder, total=   0.3s\n",
      "[Pipeline] ... (step 2 of 4) Processing ordinal_encoder, total=   0.1s\n",
      "[Pipeline] ... (step 3 of 4) Processing one_hot_encoder, total=   0.4s\n"
     ]
    },
    {
     "name": "stderr",
     "output_type": "stream",
     "text": [
      "[Parallel(n_jobs=-1)]: Using backend ThreadingBackend with 8 concurrent workers.\n",
      "[Parallel(n_jobs=-1)]: Done  34 tasks      | elapsed:   19.4s\n",
      "[Parallel(n_jobs=-1)]: Done 184 tasks      | elapsed:  1.9min\n",
      "[Parallel(n_jobs=-1)]: Done 434 tasks      | elapsed:  4.5min\n",
      "[Parallel(n_jobs=-1)]: Done 512 out of 512 | elapsed:  5.2min finished\n"
     ]
    },
    {
     "name": "stdout",
     "output_type": "stream",
     "text": [
      "[Pipeline] ............... (step 4 of 4) Processing rfr, total= 5.2min\n"
     ]
    },
    {
     "name": "stderr",
     "output_type": "stream",
     "text": [
      "[Parallel(n_jobs=8)]: Using backend ThreadingBackend with 8 concurrent workers.\n",
      "[Parallel(n_jobs=8)]: Done  34 tasks      | elapsed:    0.6s\n",
      "[Parallel(n_jobs=8)]: Done 184 tasks      | elapsed:    3.2s\n",
      "[Parallel(n_jobs=8)]: Done 434 tasks      | elapsed:    7.0s\n",
      "[Parallel(n_jobs=8)]: Done 512 out of 512 | elapsed:    8.2s finished\n",
      "[Parallel(n_jobs=8)]: Using backend ThreadingBackend with 8 concurrent workers.\n",
      "[Parallel(n_jobs=8)]: Done  34 tasks      | elapsed:    0.3s\n",
      "[Parallel(n_jobs=8)]: Done 184 tasks      | elapsed:    1.3s\n",
      "[Parallel(n_jobs=8)]: Done 434 tasks      | elapsed:    3.2s\n",
      "[Parallel(n_jobs=8)]: Done 512 out of 512 | elapsed:    3.9s finished\n"
     ]
    }
   ],
   "source": [
    "n_estimators = [256, 512]\n",
    "max_depth = [16, 32, 64]\n",
    "min_samples_split = [32, 50, 100]\n",
    "\n",
    "params = pd.DataFrame()\n",
    "best_test_score = np.inf\n",
    "for ne in n_estimators:\n",
    "    for md in max_depth:\n",
    "        for mss in min_samples_split:\n",
    "            # Create random forest\n",
    "            rfr = RandomForestRegressor(\n",
    "                n_estimators=ne,\n",
    "                max_depth=md,\n",
    "                min_samples_split=mss,\n",
    "                n_jobs=-1,\n",
    "                verbose=1,\n",
    "            )\n",
    "\n",
    "            # Create pipeline and fit model\n",
    "            pipe = create_pipeline()\n",
    "            pipe.steps.append(['rfr', rfr])\n",
    "            pipe.fit(X_train_clean, y_train)\n",
    "\n",
    "            # Predictions\n",
    "            y_pred_train = pipe.predict(X_train_clean)\n",
    "            y_pred_test = pipe.predict(X_test_clean)\n",
    "            train_score = metric(y_pred_train, y_train)\n",
    "            test_score = metric(y_pred_test, y_test)\n",
    "\n",
    "            # Save model scores\n",
    "            params = params.append(pd.Series({\n",
    "                \"n_estimators\": ne,\n",
    "                \"max_depth\": md,\n",
    "                \"min_samples_split\": mss,\n",
    "                \"train_score\": train_score,\n",
    "                \"test_score\": test_score,\n",
    "            }), ignore_index=True)\n",
    "            \n",
    "            # Save best model\n",
    "            if test_score < best_test_score:\n",
    "                best_model = pipe\n"
   ]
  },
  {
   "cell_type": "markdown",
   "id": "558b89e0",
   "metadata": {},
   "source": [
    "Train and test scores:"
   ]
  },
  {
   "cell_type": "code",
   "execution_count": 21,
   "id": "16669b9a",
   "metadata": {
    "scrolled": true
   },
   "outputs": [
    {
     "data": {
      "text/html": [
       "<div>\n",
       "<style scoped>\n",
       "    .dataframe tbody tr th:only-of-type {\n",
       "        vertical-align: middle;\n",
       "    }\n",
       "\n",
       "    .dataframe tbody tr th {\n",
       "        vertical-align: top;\n",
       "    }\n",
       "\n",
       "    .dataframe thead th {\n",
       "        text-align: right;\n",
       "    }\n",
       "</style>\n",
       "<table border=\"1\" class=\"dataframe\">\n",
       "  <thead>\n",
       "    <tr style=\"text-align: right;\">\n",
       "      <th></th>\n",
       "      <th>n_estimators</th>\n",
       "      <th>max_depth</th>\n",
       "      <th>min_samples_split</th>\n",
       "      <th>train_score</th>\n",
       "      <th>test_score</th>\n",
       "    </tr>\n",
       "  </thead>\n",
       "  <tbody>\n",
       "    <tr>\n",
       "      <th>0</th>\n",
       "      <td>256.0</td>\n",
       "      <td>16.0</td>\n",
       "      <td>32.0</td>\n",
       "      <td>19.964764</td>\n",
       "      <td>25.536484</td>\n",
       "    </tr>\n",
       "    <tr>\n",
       "      <th>1</th>\n",
       "      <td>256.0</td>\n",
       "      <td>16.0</td>\n",
       "      <td>50.0</td>\n",
       "      <td>20.496920</td>\n",
       "      <td>25.253304</td>\n",
       "    </tr>\n",
       "    <tr>\n",
       "      <th>2</th>\n",
       "      <td>256.0</td>\n",
       "      <td>16.0</td>\n",
       "      <td>100.0</td>\n",
       "      <td>21.215599</td>\n",
       "      <td>25.572251</td>\n",
       "    </tr>\n",
       "    <tr>\n",
       "      <th>3</th>\n",
       "      <td>256.0</td>\n",
       "      <td>32.0</td>\n",
       "      <td>32.0</td>\n",
       "      <td>18.682230</td>\n",
       "      <td>25.316945</td>\n",
       "    </tr>\n",
       "    <tr>\n",
       "      <th>4</th>\n",
       "      <td>256.0</td>\n",
       "      <td>32.0</td>\n",
       "      <td>50.0</td>\n",
       "      <td>19.524072</td>\n",
       "      <td>25.085698</td>\n",
       "    </tr>\n",
       "    <tr>\n",
       "      <th>5</th>\n",
       "      <td>256.0</td>\n",
       "      <td>32.0</td>\n",
       "      <td>100.0</td>\n",
       "      <td>20.748013</td>\n",
       "      <td>25.511716</td>\n",
       "    </tr>\n",
       "    <tr>\n",
       "      <th>6</th>\n",
       "      <td>256.0</td>\n",
       "      <td>64.0</td>\n",
       "      <td>32.0</td>\n",
       "      <td>18.596334</td>\n",
       "      <td>25.359010</td>\n",
       "    </tr>\n",
       "    <tr>\n",
       "      <th>7</th>\n",
       "      <td>256.0</td>\n",
       "      <td>64.0</td>\n",
       "      <td>50.0</td>\n",
       "      <td>19.555860</td>\n",
       "      <td>25.041480</td>\n",
       "    </tr>\n",
       "    <tr>\n",
       "      <th>8</th>\n",
       "      <td>256.0</td>\n",
       "      <td>64.0</td>\n",
       "      <td>100.0</td>\n",
       "      <td>20.765268</td>\n",
       "      <td>25.496036</td>\n",
       "    </tr>\n",
       "    <tr>\n",
       "      <th>9</th>\n",
       "      <td>512.0</td>\n",
       "      <td>16.0</td>\n",
       "      <td>32.0</td>\n",
       "      <td>19.924029</td>\n",
       "      <td>25.553654</td>\n",
       "    </tr>\n",
       "    <tr>\n",
       "      <th>10</th>\n",
       "      <td>512.0</td>\n",
       "      <td>16.0</td>\n",
       "      <td>50.0</td>\n",
       "      <td>20.455425</td>\n",
       "      <td>25.258433</td>\n",
       "    </tr>\n",
       "    <tr>\n",
       "      <th>11</th>\n",
       "      <td>512.0</td>\n",
       "      <td>16.0</td>\n",
       "      <td>100.0</td>\n",
       "      <td>21.214573</td>\n",
       "      <td>25.598953</td>\n",
       "    </tr>\n",
       "    <tr>\n",
       "      <th>12</th>\n",
       "      <td>512.0</td>\n",
       "      <td>32.0</td>\n",
       "      <td>32.0</td>\n",
       "      <td>18.534994</td>\n",
       "      <td>25.361617</td>\n",
       "    </tr>\n",
       "    <tr>\n",
       "      <th>13</th>\n",
       "      <td>512.0</td>\n",
       "      <td>32.0</td>\n",
       "      <td>50.0</td>\n",
       "      <td>19.590307</td>\n",
       "      <td>25.029344</td>\n",
       "    </tr>\n",
       "    <tr>\n",
       "      <th>14</th>\n",
       "      <td>512.0</td>\n",
       "      <td>32.0</td>\n",
       "      <td>100.0</td>\n",
       "      <td>20.744963</td>\n",
       "      <td>25.408172</td>\n",
       "    </tr>\n",
       "    <tr>\n",
       "      <th>15</th>\n",
       "      <td>512.0</td>\n",
       "      <td>64.0</td>\n",
       "      <td>32.0</td>\n",
       "      <td>18.539711</td>\n",
       "      <td>25.303521</td>\n",
       "    </tr>\n",
       "    <tr>\n",
       "      <th>16</th>\n",
       "      <td>512.0</td>\n",
       "      <td>64.0</td>\n",
       "      <td>50.0</td>\n",
       "      <td>19.549905</td>\n",
       "      <td>25.039902</td>\n",
       "    </tr>\n",
       "    <tr>\n",
       "      <th>17</th>\n",
       "      <td>512.0</td>\n",
       "      <td>64.0</td>\n",
       "      <td>100.0</td>\n",
       "      <td>20.745331</td>\n",
       "      <td>25.445359</td>\n",
       "    </tr>\n",
       "  </tbody>\n",
       "</table>\n",
       "</div>"
      ],
      "text/plain": [
       "    n_estimators  max_depth  min_samples_split  train_score  test_score\n",
       "0          256.0       16.0               32.0    19.964764   25.536484\n",
       "1          256.0       16.0               50.0    20.496920   25.253304\n",
       "2          256.0       16.0              100.0    21.215599   25.572251\n",
       "3          256.0       32.0               32.0    18.682230   25.316945\n",
       "4          256.0       32.0               50.0    19.524072   25.085698\n",
       "5          256.0       32.0              100.0    20.748013   25.511716\n",
       "6          256.0       64.0               32.0    18.596334   25.359010\n",
       "7          256.0       64.0               50.0    19.555860   25.041480\n",
       "8          256.0       64.0              100.0    20.765268   25.496036\n",
       "9          512.0       16.0               32.0    19.924029   25.553654\n",
       "10         512.0       16.0               50.0    20.455425   25.258433\n",
       "11         512.0       16.0              100.0    21.214573   25.598953\n",
       "12         512.0       32.0               32.0    18.534994   25.361617\n",
       "13         512.0       32.0               50.0    19.590307   25.029344\n",
       "14         512.0       32.0              100.0    20.744963   25.408172\n",
       "15         512.0       64.0               32.0    18.539711   25.303521\n",
       "16         512.0       64.0               50.0    19.549905   25.039902\n",
       "17         512.0       64.0              100.0    20.745331   25.445359"
      ]
     },
     "execution_count": 21,
     "metadata": {},
     "output_type": "execute_result"
    }
   ],
   "source": [
    "params"
   ]
  },
  {
   "cell_type": "markdown",
   "id": "db5e2c47",
   "metadata": {},
   "source": [
    "## Best model"
   ]
  },
  {
   "cell_type": "markdown",
   "id": "87f7c553",
   "metadata": {},
   "source": [
    "The random forest regressor with the best performance in our parameter space is described as follows:"
   ]
  },
  {
   "cell_type": "code",
   "execution_count": 22,
   "id": "d1b79a7b",
   "metadata": {},
   "outputs": [],
   "source": [
    "n_estimators = 512\n",
    "max_depth = 32\n",
    "min_samples_split = 50"
   ]
  },
  {
   "cell_type": "markdown",
   "id": "8fc4c0f4",
   "metadata": {},
   "source": [
    "We now train the best model using both the train and test data."
   ]
  },
  {
   "cell_type": "code",
   "execution_count": 23,
   "id": "ff02c9c7",
   "metadata": {},
   "outputs": [],
   "source": [
    "X_all = pd.concat([X_train, X_test], axis=0)\n",
    "y_all = pd.concat([y_train, y_test], axis=0)"
   ]
  },
  {
   "cell_type": "code",
   "execution_count": 29,
   "id": "7b31273f",
   "metadata": {},
   "outputs": [],
   "source": [
    "imp = Imputer()\n",
    "imp.define_imputers()\n",
    "imp.fit(X_all)\n",
    "X_all_transf = imp.transform_reconstruct(X_all)\n",
    "\n",
    "clnr = Cleaner()\n",
    "clnr.clean(X_all_transf)\n",
    "X_all_clean = clnr.data"
   ]
  },
  {
   "cell_type": "code",
   "execution_count": 30,
   "id": "a2319b2c",
   "metadata": {},
   "outputs": [
    {
     "name": "stdout",
     "output_type": "stream",
     "text": [
      "[Pipeline] .... (step 1 of 4) Processing target_encoder, total=   0.4s\n",
      "[Pipeline] ... (step 2 of 4) Processing ordinal_encoder, total=   0.1s\n",
      "[Pipeline] ... (step 3 of 4) Processing one_hot_encoder, total=   0.7s\n"
     ]
    },
    {
     "name": "stderr",
     "output_type": "stream",
     "text": [
      "[Parallel(n_jobs=-1)]: Using backend ThreadingBackend with 8 concurrent workers.\n",
      "[Parallel(n_jobs=-1)]: Done  34 tasks      | elapsed:   40.6s\n",
      "[Parallel(n_jobs=-1)]: Done 184 tasks      | elapsed:  2.7min\n",
      "[Parallel(n_jobs=-1)]: Done 434 tasks      | elapsed:  6.1min\n"
     ]
    },
    {
     "name": "stdout",
     "output_type": "stream",
     "text": [
      "[Pipeline] ............... (step 4 of 4) Processing rfr, total= 7.1min\n"
     ]
    },
    {
     "name": "stderr",
     "output_type": "stream",
     "text": [
      "[Parallel(n_jobs=-1)]: Done 512 out of 512 | elapsed:  7.1min finished\n"
     ]
    },
    {
     "data": {
      "text/plain": [
       "Pipeline(steps=[('target_encoder', TargetEncoder(cols=['Store'])),\n",
       "                ('ordinal_encoder',\n",
       "                 OrdinalEncoder(cols=['StateHoliday', 'StoreType',\n",
       "                                      'Assortment'],\n",
       "                                mapping=[{'col': 'StateHoliday',\n",
       "                                          'data_type': CategoricalDtype(categories=['0', 'a', 'b', 'c'], ordered=False),\n",
       "                                          'mapping': a      1\n",
       "0      2\n",
       "b      3\n",
       "c      4\n",
       "NaN   -2\n",
       "dtype: int64},\n",
       "                                         {'col': 'StoreType',\n",
       "                                          'data_type': CategoricalDtype(categories=['a',...rdered=False),\n",
       "                                          'mapping': b      1\n",
       "a      2\n",
       "d      3\n",
       "c      4\n",
       "NaN   -2\n",
       "dtype: int64},\n",
       "                                         {'col': 'Assortment',\n",
       "                                          'data_type': CategoricalDtype(categories=['a', 'b', 'c'], ordered=False),\n",
       "                                          'mapping': b      1\n",
       "a      2\n",
       "c      3\n",
       "NaN   -2\n",
       "dtype: int64}])),\n",
       "                ('one_hot_encoder', OneHotEncoder(cols=['PromoInterval'])),\n",
       "                ['rfr',\n",
       "                 RandomForestRegressor(max_depth=32, min_samples_split=50,\n",
       "                                       n_estimators=512, n_jobs=-1,\n",
       "                                       verbose=1)]],\n",
       "         verbose=True)"
      ]
     },
     "execution_count": 30,
     "metadata": {},
     "output_type": "execute_result"
    }
   ],
   "source": [
    "rfr = RandomForestRegressor(\n",
    "    n_estimators=n_estimators,\n",
    "    max_depth=max_depth,\n",
    "    min_samples_split=min_samples_split,\n",
    "    n_jobs=-1,\n",
    "    verbose=1,\n",
    ")\n",
    "\n",
    "model = create_pipeline()\n",
    "\n",
    "model.steps.append(['rfr', rfr])\n",
    "model.fit(X_all_clean, y_all)"
   ]
  },
  {
   "cell_type": "markdown",
   "id": "59637ed5",
   "metadata": {},
   "source": [
    "We can see the feature importances for this model as follows."
   ]
  },
  {
   "cell_type": "code",
   "execution_count": 31,
   "id": "6c7a064e",
   "metadata": {},
   "outputs": [
    {
     "name": "stdout",
     "output_type": "stream",
     "text": [
      "               features    values\n",
      "0                 Store  0.676118\n",
      "2                 Promo  0.154651\n",
      "14            Month_cos  0.031948\n",
      "15          Weekday_sin  0.030204\n",
      "16          Weekday_cos  0.029333\n",
      "7   CompetitionDistance  0.018184\n",
      "17  SalesCompetitionLag  0.015106\n",
      "18            Promo2Lag  0.008783\n",
      "5             StoreType  0.008040\n",
      "4         SchoolHoliday  0.006586\n",
      "13            Month_sin  0.006392\n",
      "12                 Year  0.006074\n",
      "6            Assortment  0.003442\n",
      "3          StateHoliday  0.001435\n",
      "10      PromoInterval_2  0.000900\n",
      "8                Promo2  0.000871\n",
      "11      PromoInterval_3  0.000768\n",
      "9       PromoInterval_1  0.000756\n",
      "1                  Open  0.000408\n"
     ]
    },
    {
     "data": {
      "image/png": "[encoded data removed]",
      "text/plain": [
       "<Figure size 432x288 with 1 Axes>"
      ]
     },
     "metadata": {
      "needs_background": "light"
     },
     "output_type": "display_data"
    }
   ],
   "source": [
    "importances = pd.DataFrame({\n",
    "    \"features\": model.steps[3][1].feature_names_in_,\n",
    "    \"values\": model.steps[3][1].feature_importances_,\n",
    "})\n",
    "\n",
    "print(importances.sort_values(by=\"values\", ascending=False))\n",
    "\n",
    "importances.set_index(\"features\").sort_values(by=\"values\", ascending=False).plot.barh()\n",
    "plt.show()"
   ]
  },
  {
   "cell_type": "markdown",
   "id": "c7fa976d",
   "metadata": {},
   "source": [
    "# Evaluation"
   ]
  },
  {
   "cell_type": "markdown",
   "id": "b7dd51a3",
   "metadata": {},
   "source": [
    "Final evaluation of our model's performance.\n",
    "\n",
    "First specify the evaluation set."
   ]
  },
  {
   "cell_type": "code",
   "execution_count": 34,
   "id": "0bd2cb47",
   "metadata": {},
   "outputs": [],
   "source": [
    "eval_filename = \"\""
   ]
  },
  {
   "cell_type": "markdown",
   "id": "9e589463",
   "metadata": {},
   "source": [
    "Then go through each preprocessing step, make predictions, and evaluate performance."
   ]
  },
  {
   "cell_type": "code",
   "execution_count": null,
   "id": "11692cc1",
   "metadata": {
    "scrolled": true
   },
   "outputs": [],
   "source": [
    "# Load\n",
    "unseen_data = pd.read_csv(eval_filename)\n",
    "    \n",
    "# Merge\n",
    "mrg = Merger()\n",
    "mrg.merge(unseen_data, store_data)\n",
    "merged_unseen_data = mrg.merged_data\n",
    "\n",
    "# Split\n",
    "X_eval = merged_unseen_data.loc[:, ~merged_unseen_data.columns.isin([\"Sales\"])]\n",
    "y_eval = merged_unseen_data.loc[:, \"Sales\"]\n",
    "\n",
    "# Impute\n",
    "imp.define_imputers()\n",
    "imp.fit(X_all)\n",
    "X_eval_transf = imp.transform_reconstruct(X_eval)\n",
    "\n",
    "# Clean\n",
    "clnr = Cleaner()\n",
    "clnr.clean(X_eval_transf)\n",
    "X_eval_clean = clnr.data\n",
    "\n",
    "# Scoring\n",
    "y_pred_eval = best_model.predict(X_eval_clean)\n",
    "eval_score = metric(y_pred_eval, y_eval)\n",
    "print(f\"Our model scores an RMSPE of {eval_score}.\")"
   ]
  },
  {
   "cell_type": "code",
   "execution_count": null,
   "id": "c0de1453",
   "metadata": {},
   "outputs": [],
   "source": []
  },
  {
   "cell_type": "code",
   "execution_count": null,
   "id": "816d6b37",
   "metadata": {},
   "outputs": [],
   "source": []
  },
  {
   "cell_type": "code",
   "execution_count": null,
   "id": "e5d38cc9",
   "metadata": {},
   "outputs": [],
   "source": []
  },
  {
   "cell_type": "code",
   "execution_count": null,
   "id": "0ded6f60",
   "metadata": {},
   "outputs": [],
   "source": []
  },
  {
   "cell_type": "code",
   "execution_count": null,
   "id": "97a4f862",
   "metadata": {},
   "outputs": [],
   "source": []
  }
 ],
 "metadata": {
  "kernelspec": {
   "display_name": "minicomp_env",
   "language": "python",
   "name": "minicomp_env"
  },
  "language_info": {
   "codemirror_mode": {
    "name": "ipython",
    "version": 3
   },
   "file_extension": ".py",
   "mimetype": "text/x-python",
   "name": "python",
   "nbconvert_exporter": "python",
   "pygments_lexer": "ipython3",
   "version": "3.8.12"
  }
 },
 "nbformat": 4,
 "nbformat_minor": 5
}
