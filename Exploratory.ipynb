{
 "cells": [
  {
   "cell_type": "markdown",
   "id": "50606e04",
   "metadata": {},
   "source": [
    "# Import libraries"
   ]
  },
  {
   "cell_type": "code",
   "execution_count": 1,
   "id": "76273743",
   "metadata": {
    "scrolled": true
   },
   "outputs": [],
   "source": [
    "import pandas as pd\n",
    "import numpy as np\n",
    "from pandas_profiling import ProfileReport\n",
    "from sklearn.model_selection import train_test_split\n",
    "import matplotlib.pyplot as plt\n",
    "%matplotlib inline"
   ]
  },
  {
   "cell_type": "markdown",
   "id": "097dc5ca",
   "metadata": {},
   "source": [
    "# Load data"
   ]
  },
  {
   "cell_type": "markdown",
   "id": "93aa7b24",
   "metadata": {},
   "source": [
    "Load data and take a look at what we have."
   ]
  },
  {
   "cell_type": "code",
   "execution_count": 2,
   "id": "8ffc0062",
   "metadata": {},
   "outputs": [
    {
     "name": "stderr",
     "output_type": "stream",
     "text": [
      "/Users/corstiaen/opt/anaconda3/envs/minicompenv/lib/python3.8/site-packages/IPython/core/interactiveshell.py:3444: DtypeWarning: Columns (7) have mixed types.Specify dtype option on import or set low_memory=False.\n",
      "  exec(code_obj, self.user_global_ns, self.user_ns)\n"
     ]
    }
   ],
   "source": [
    "store_data = pd.read_csv(\"./data/store.csv\")\n",
    "sales_data = pd.read_csv(\"./data/train.csv\")"
   ]
  },
  {
   "cell_type": "code",
   "execution_count": 3,
   "id": "c0f518aa",
   "metadata": {
    "scrolled": true
   },
   "outputs": [
    {
     "name": "stdout",
     "output_type": "stream",
     "text": [
      "Number of samples in entire dataset: 637774\n"
     ]
    },
    {
     "data": {
      "text/html": [
       "<div>\n",
       "<style scoped>\n",
       "    .dataframe tbody tr th:only-of-type {\n",
       "        vertical-align: middle;\n",
       "    }\n",
       "\n",
       "    .dataframe tbody tr th {\n",
       "        vertical-align: top;\n",
       "    }\n",
       "\n",
       "    .dataframe thead th {\n",
       "        text-align: right;\n",
       "    }\n",
       "</style>\n",
       "<table border=\"1\" class=\"dataframe\">\n",
       "  <thead>\n",
       "    <tr style=\"text-align: right;\">\n",
       "      <th></th>\n",
       "      <th>Date</th>\n",
       "      <th>Store</th>\n",
       "      <th>DayOfWeek</th>\n",
       "      <th>Sales</th>\n",
       "      <th>Customers</th>\n",
       "      <th>Open</th>\n",
       "      <th>Promo</th>\n",
       "      <th>StateHoliday</th>\n",
       "      <th>SchoolHoliday</th>\n",
       "    </tr>\n",
       "  </thead>\n",
       "  <tbody>\n",
       "    <tr>\n",
       "      <th>0</th>\n",
       "      <td>2013-01-01</td>\n",
       "      <td>1115.0</td>\n",
       "      <td>2.0</td>\n",
       "      <td>0.0</td>\n",
       "      <td>0.0</td>\n",
       "      <td>0.0</td>\n",
       "      <td>0.0</td>\n",
       "      <td>a</td>\n",
       "      <td>1.0</td>\n",
       "    </tr>\n",
       "    <tr>\n",
       "      <th>1</th>\n",
       "      <td>2013-01-01</td>\n",
       "      <td>379.0</td>\n",
       "      <td>2.0</td>\n",
       "      <td>0.0</td>\n",
       "      <td>0.0</td>\n",
       "      <td>0.0</td>\n",
       "      <td>0.0</td>\n",
       "      <td>a</td>\n",
       "      <td>1.0</td>\n",
       "    </tr>\n",
       "    <tr>\n",
       "      <th>2</th>\n",
       "      <td>2013-01-01</td>\n",
       "      <td>378.0</td>\n",
       "      <td>2.0</td>\n",
       "      <td>0.0</td>\n",
       "      <td>0.0</td>\n",
       "      <td>0.0</td>\n",
       "      <td>0.0</td>\n",
       "      <td>a</td>\n",
       "      <td>1.0</td>\n",
       "    </tr>\n",
       "    <tr>\n",
       "      <th>3</th>\n",
       "      <td>2013-01-01</td>\n",
       "      <td>377.0</td>\n",
       "      <td>2.0</td>\n",
       "      <td>0.0</td>\n",
       "      <td>0.0</td>\n",
       "      <td>0.0</td>\n",
       "      <td>0.0</td>\n",
       "      <td>a</td>\n",
       "      <td>1.0</td>\n",
       "    </tr>\n",
       "    <tr>\n",
       "      <th>4</th>\n",
       "      <td>2013-01-01</td>\n",
       "      <td>376.0</td>\n",
       "      <td>2.0</td>\n",
       "      <td>0.0</td>\n",
       "      <td>0.0</td>\n",
       "      <td>0.0</td>\n",
       "      <td>0.0</td>\n",
       "      <td>a</td>\n",
       "      <td>1.0</td>\n",
       "    </tr>\n",
       "  </tbody>\n",
       "</table>\n",
       "</div>"
      ],
      "text/plain": [
       "         Date   Store  DayOfWeek  Sales  Customers  Open  Promo StateHoliday  \\\n",
       "0  2013-01-01  1115.0        2.0    0.0        0.0   0.0    0.0            a   \n",
       "1  2013-01-01   379.0        2.0    0.0        0.0   0.0    0.0            a   \n",
       "2  2013-01-01   378.0        2.0    0.0        0.0   0.0    0.0            a   \n",
       "3  2013-01-01   377.0        2.0    0.0        0.0   0.0    0.0            a   \n",
       "4  2013-01-01   376.0        2.0    0.0        0.0   0.0    0.0            a   \n",
       "\n",
       "   SchoolHoliday  \n",
       "0            1.0  \n",
       "1            1.0  \n",
       "2            1.0  \n",
       "3            1.0  \n",
       "4            1.0  "
      ]
     },
     "execution_count": 3,
     "metadata": {},
     "output_type": "execute_result"
    }
   ],
   "source": [
    "print(f\"Number of samples in entire dataset: {len(sales_data)}\")\n",
    "sales_data.head()"
   ]
  },
  {
   "cell_type": "code",
   "execution_count": 4,
   "id": "c8b7c1d3",
   "metadata": {
    "scrolled": true
   },
   "outputs": [
    {
     "name": "stdout",
     "output_type": "stream",
     "text": [
      "Length of store-table: 1115\n"
     ]
    },
    {
     "data": {
      "text/html": [
       "<div>\n",
       "<style scoped>\n",
       "    .dataframe tbody tr th:only-of-type {\n",
       "        vertical-align: middle;\n",
       "    }\n",
       "\n",
       "    .dataframe tbody tr th {\n",
       "        vertical-align: top;\n",
       "    }\n",
       "\n",
       "    .dataframe thead th {\n",
       "        text-align: right;\n",
       "    }\n",
       "</style>\n",
       "<table border=\"1\" class=\"dataframe\">\n",
       "  <thead>\n",
       "    <tr style=\"text-align: right;\">\n",
       "      <th></th>\n",
       "      <th>Store</th>\n",
       "      <th>StoreType</th>\n",
       "      <th>Assortment</th>\n",
       "      <th>CompetitionDistance</th>\n",
       "      <th>CompetitionOpenSinceMonth</th>\n",
       "      <th>CompetitionOpenSinceYear</th>\n",
       "      <th>Promo2</th>\n",
       "      <th>Promo2SinceWeek</th>\n",
       "      <th>Promo2SinceYear</th>\n",
       "      <th>PromoInterval</th>\n",
       "    </tr>\n",
       "  </thead>\n",
       "  <tbody>\n",
       "    <tr>\n",
       "      <th>0</th>\n",
       "      <td>1</td>\n",
       "      <td>c</td>\n",
       "      <td>a</td>\n",
       "      <td>1270.0</td>\n",
       "      <td>9.0</td>\n",
       "      <td>2008.0</td>\n",
       "      <td>0</td>\n",
       "      <td>NaN</td>\n",
       "      <td>NaN</td>\n",
       "      <td>NaN</td>\n",
       "    </tr>\n",
       "    <tr>\n",
       "      <th>1</th>\n",
       "      <td>2</td>\n",
       "      <td>a</td>\n",
       "      <td>a</td>\n",
       "      <td>570.0</td>\n",
       "      <td>11.0</td>\n",
       "      <td>2007.0</td>\n",
       "      <td>1</td>\n",
       "      <td>13.0</td>\n",
       "      <td>2010.0</td>\n",
       "      <td>Jan,Apr,Jul,Oct</td>\n",
       "    </tr>\n",
       "    <tr>\n",
       "      <th>2</th>\n",
       "      <td>3</td>\n",
       "      <td>a</td>\n",
       "      <td>a</td>\n",
       "      <td>14130.0</td>\n",
       "      <td>12.0</td>\n",
       "      <td>2006.0</td>\n",
       "      <td>1</td>\n",
       "      <td>14.0</td>\n",
       "      <td>2011.0</td>\n",
       "      <td>Jan,Apr,Jul,Oct</td>\n",
       "    </tr>\n",
       "    <tr>\n",
       "      <th>3</th>\n",
       "      <td>4</td>\n",
       "      <td>c</td>\n",
       "      <td>c</td>\n",
       "      <td>620.0</td>\n",
       "      <td>9.0</td>\n",
       "      <td>2009.0</td>\n",
       "      <td>0</td>\n",
       "      <td>NaN</td>\n",
       "      <td>NaN</td>\n",
       "      <td>NaN</td>\n",
       "    </tr>\n",
       "    <tr>\n",
       "      <th>4</th>\n",
       "      <td>5</td>\n",
       "      <td>a</td>\n",
       "      <td>a</td>\n",
       "      <td>29910.0</td>\n",
       "      <td>4.0</td>\n",
       "      <td>2015.0</td>\n",
       "      <td>0</td>\n",
       "      <td>NaN</td>\n",
       "      <td>NaN</td>\n",
       "      <td>NaN</td>\n",
       "    </tr>\n",
       "  </tbody>\n",
       "</table>\n",
       "</div>"
      ],
      "text/plain": [
       "   Store StoreType Assortment  CompetitionDistance  CompetitionOpenSinceMonth  \\\n",
       "0      1         c          a               1270.0                        9.0   \n",
       "1      2         a          a                570.0                       11.0   \n",
       "2      3         a          a              14130.0                       12.0   \n",
       "3      4         c          c                620.0                        9.0   \n",
       "4      5         a          a              29910.0                        4.0   \n",
       "\n",
       "   CompetitionOpenSinceYear  Promo2  Promo2SinceWeek  Promo2SinceYear  \\\n",
       "0                    2008.0       0              NaN              NaN   \n",
       "1                    2007.0       1             13.0           2010.0   \n",
       "2                    2006.0       1             14.0           2011.0   \n",
       "3                    2009.0       0              NaN              NaN   \n",
       "4                    2015.0       0              NaN              NaN   \n",
       "\n",
       "     PromoInterval  \n",
       "0              NaN  \n",
       "1  Jan,Apr,Jul,Oct  \n",
       "2  Jan,Apr,Jul,Oct  \n",
       "3              NaN  \n",
       "4              NaN  "
      ]
     },
     "execution_count": 4,
     "metadata": {},
     "output_type": "execute_result"
    }
   ],
   "source": [
    "print(f\"Length of store-table: {len(store_data)}\")\n",
    "store_data.head()"
   ]
  },
  {
   "cell_type": "markdown",
   "id": "41029be4",
   "metadata": {},
   "source": [
    "# Preprocessing of data"
   ]
  },
  {
   "cell_type": "markdown",
   "id": "bdf4f649",
   "metadata": {},
   "source": [
    "## First cleaning"
   ]
  },
  {
   "cell_type": "markdown",
   "id": "011b5eda",
   "metadata": {},
   "source": [
    "Samples without sales data as well as days that sales are zero can be dropped."
   ]
  },
  {
   "cell_type": "code",
   "execution_count": 5,
   "id": "0f6c3085",
   "metadata": {},
   "outputs": [],
   "source": [
    "sales_data.dropna(subset=[\"Sales\"], inplace=True)\n",
    "\n",
    "keep_mask = sales_data.loc[:, \"Sales\"] != 0\n",
    "sales_data = sales_data[keep_mask]"
   ]
  },
  {
   "cell_type": "markdown",
   "id": "28b338c1",
   "metadata": {},
   "source": [
    "We will also drop the customers feature. This feature is directly linked to our target, the sales. Moreover the number of customers in the future is not known, again similar to the sales themselves."
   ]
  },
  {
   "cell_type": "code",
   "execution_count": 6,
   "id": "1c3db851",
   "metadata": {},
   "outputs": [],
   "source": [
    "sales_data.drop(\"Customers\", axis=1, inplace=True)"
   ]
  },
  {
   "cell_type": "markdown",
   "id": "9b23e2c6",
   "metadata": {},
   "source": [
    "After these steps there are still 30 duplicated samples in our dataset. Although these duplicates may actually be real numbers af two shops having the exact same sales on a single day, it is hard to disentangle. Moreover, 30 samples on a dataset of >500,000 is negligible."
   ]
  },
  {
   "cell_type": "code",
   "execution_count": 7,
   "id": "22dae9cc",
   "metadata": {
    "scrolled": false
   },
   "outputs": [
    {
     "name": "stdout",
     "output_type": "stream",
     "text": [
      "30\n"
     ]
    },
    {
     "data": {
      "text/html": [
       "<div>\n",
       "<style scoped>\n",
       "    .dataframe tbody tr th:only-of-type {\n",
       "        vertical-align: middle;\n",
       "    }\n",
       "\n",
       "    .dataframe tbody tr th {\n",
       "        vertical-align: top;\n",
       "    }\n",
       "\n",
       "    .dataframe thead th {\n",
       "        text-align: right;\n",
       "    }\n",
       "</style>\n",
       "<table border=\"1\" class=\"dataframe\">\n",
       "  <thead>\n",
       "    <tr style=\"text-align: right;\">\n",
       "      <th></th>\n",
       "      <th>Date</th>\n",
       "      <th>Store</th>\n",
       "      <th>DayOfWeek</th>\n",
       "      <th>Sales</th>\n",
       "      <th>Open</th>\n",
       "      <th>Promo</th>\n",
       "      <th>StateHoliday</th>\n",
       "      <th>SchoolHoliday</th>\n",
       "    </tr>\n",
       "  </thead>\n",
       "  <tbody>\n",
       "    <tr>\n",
       "      <th>17319</th>\n",
       "      <td>2013-01-16</td>\n",
       "      <td>NaN</td>\n",
       "      <td>3.0</td>\n",
       "      <td>2795.0</td>\n",
       "      <td>1.0</td>\n",
       "      <td>0.0</td>\n",
       "      <td>0</td>\n",
       "      <td>0.0</td>\n",
       "    </tr>\n",
       "    <tr>\n",
       "      <th>43383</th>\n",
       "      <td>2013-02-08</td>\n",
       "      <td>NaN</td>\n",
       "      <td>5.0</td>\n",
       "      <td>5706.0</td>\n",
       "      <td>1.0</td>\n",
       "      <td>1.0</td>\n",
       "      <td>0</td>\n",
       "      <td>0.0</td>\n",
       "    </tr>\n",
       "    <tr>\n",
       "      <th>79395</th>\n",
       "      <td>2013-03-13</td>\n",
       "      <td>NaN</td>\n",
       "      <td>3.0</td>\n",
       "      <td>4907.0</td>\n",
       "      <td>1.0</td>\n",
       "      <td>0.0</td>\n",
       "      <td>0</td>\n",
       "      <td>0.0</td>\n",
       "    </tr>\n",
       "    <tr>\n",
       "      <th>83406</th>\n",
       "      <td>2013-03-16</td>\n",
       "      <td>NaN</td>\n",
       "      <td>6.0</td>\n",
       "      <td>4648.0</td>\n",
       "      <td>1.0</td>\n",
       "      <td>0.0</td>\n",
       "      <td>0</td>\n",
       "      <td>0.0</td>\n",
       "    </tr>\n",
       "    <tr>\n",
       "      <th>122096</th>\n",
       "      <td>2013-04-20</td>\n",
       "      <td>NaN</td>\n",
       "      <td>6.0</td>\n",
       "      <td>2890.0</td>\n",
       "      <td>1.0</td>\n",
       "      <td>0.0</td>\n",
       "      <td>0</td>\n",
       "      <td>0.0</td>\n",
       "    </tr>\n",
       "  </tbody>\n",
       "</table>\n",
       "</div>"
      ],
      "text/plain": [
       "              Date  Store  DayOfWeek   Sales  Open  Promo StateHoliday  \\\n",
       "17319   2013-01-16    NaN        3.0  2795.0   1.0    0.0            0   \n",
       "43383   2013-02-08    NaN        5.0  5706.0   1.0    1.0            0   \n",
       "79395   2013-03-13    NaN        3.0  4907.0   1.0    0.0            0   \n",
       "83406   2013-03-16    NaN        6.0  4648.0   1.0    0.0            0   \n",
       "122096  2013-04-20    NaN        6.0  2890.0   1.0    0.0            0   \n",
       "\n",
       "        SchoolHoliday  \n",
       "17319             0.0  \n",
       "43383             0.0  \n",
       "79395             0.0  \n",
       "83406             0.0  \n",
       "122096            0.0  "
      ]
     },
     "execution_count": 7,
     "metadata": {},
     "output_type": "execute_result"
    }
   ],
   "source": [
    "duped_mask = sales_data.duplicated()\n",
    "duplicated_data = sales_data.loc[duped_mask, :]\n",
    "\n",
    "print(len(duplicated_data))\n",
    "duplicated_data.head()"
   ]
  },
  {
   "cell_type": "code",
   "execution_count": 8,
   "id": "51a5546d",
   "metadata": {},
   "outputs": [],
   "source": [
    "sales_data.drop_duplicates(inplace=True)"
   ]
  },
  {
   "cell_type": "markdown",
   "id": "53113036",
   "metadata": {},
   "source": [
    "## Merging sales and store data"
   ]
  },
  {
   "cell_type": "markdown",
   "id": "67b87994",
   "metadata": {},
   "source": [
    "We need to merge the sales data with the store data. Checking data types reveals that the feature on which we will merge, \"Store\", is not of the same type. We change the datatype of \"Store\" in the sales data, such that it matches the store data. We do this step manually here, but this step will also be included in our pipeline."
   ]
  },
  {
   "cell_type": "code",
   "execution_count": 9,
   "id": "0abd98bc",
   "metadata": {
    "scrolled": true
   },
   "outputs": [
    {
     "data": {
      "text/plain": [
       "Date              object\n",
       "Store            float64\n",
       "DayOfWeek        float64\n",
       "Sales            float64\n",
       "Open             float64\n",
       "Promo            float64\n",
       "StateHoliday      object\n",
       "SchoolHoliday    float64\n",
       "dtype: object"
      ]
     },
     "execution_count": 9,
     "metadata": {},
     "output_type": "execute_result"
    }
   ],
   "source": [
    "sales_data.dtypes"
   ]
  },
  {
   "cell_type": "code",
   "execution_count": 10,
   "id": "a59d27ba",
   "metadata": {
    "scrolled": true
   },
   "outputs": [
    {
     "data": {
      "text/plain": [
       "Store                          int64\n",
       "StoreType                     object\n",
       "Assortment                    object\n",
       "CompetitionDistance          float64\n",
       "CompetitionOpenSinceMonth    float64\n",
       "CompetitionOpenSinceYear     float64\n",
       "Promo2                         int64\n",
       "Promo2SinceWeek              float64\n",
       "Promo2SinceYear              float64\n",
       "PromoInterval                 object\n",
       "dtype: object"
      ]
     },
     "execution_count": 10,
     "metadata": {},
     "output_type": "execute_result"
    }
   ],
   "source": [
    "store_data.dtypes"
   ]
  },
  {
   "cell_type": "markdown",
   "id": "d4844657",
   "metadata": {},
   "source": [
    "There's NaNs in the store ID. We will encode them with 0, because that label does not exist for a store in the store data."
   ]
  },
  {
   "cell_type": "code",
   "execution_count": 11,
   "id": "e28bcd2c",
   "metadata": {},
   "outputs": [
    {
     "data": {
      "text/plain": [
       "Date                 0\n",
       "Store            15550\n",
       "DayOfWeek        15299\n",
       "Sales                0\n",
       "Open             15455\n",
       "Promo            15439\n",
       "StateHoliday     15560\n",
       "SchoolHoliday    15547\n",
       "dtype: int64"
      ]
     },
     "execution_count": 11,
     "metadata": {},
     "output_type": "execute_result"
    }
   ],
   "source": [
    "sales_data.isnull().sum()"
   ]
  },
  {
   "cell_type": "code",
   "execution_count": 12,
   "id": "43f506e7",
   "metadata": {},
   "outputs": [
    {
     "data": {
      "text/plain": [
       "1"
      ]
     },
     "execution_count": 12,
     "metadata": {},
     "output_type": "execute_result"
    }
   ],
   "source": [
    "store_data.loc[:, \"Store\"].min()"
   ]
  },
  {
   "cell_type": "code",
   "execution_count": 13,
   "id": "29632e28",
   "metadata": {},
   "outputs": [],
   "source": [
    "sales_data = sales_data.fillna({\"Store\": 0})"
   ]
  },
  {
   "cell_type": "code",
   "execution_count": 14,
   "id": "7b35cd4d",
   "metadata": {
    "scrolled": true
   },
   "outputs": [],
   "source": [
    "sales_data = sales_data.astype({\"Store\": int})"
   ]
  },
  {
   "cell_type": "markdown",
   "id": "05807c25",
   "metadata": {},
   "source": [
    "Actual merging of tables."
   ]
  },
  {
   "cell_type": "code",
   "execution_count": 15,
   "id": "eb58e5cb",
   "metadata": {},
   "outputs": [],
   "source": [
    "merged_data = sales_data.merge(store_data, how=\"left\", on=\"Store\")"
   ]
  },
  {
   "cell_type": "code",
   "execution_count": 16,
   "id": "d977725e",
   "metadata": {},
   "outputs": [
    {
     "name": "stdout",
     "output_type": "stream",
     "text": [
      "The total number of samples in our dataset is 512926\n"
     ]
    },
    {
     "data": {
      "text/html": [
       "<div>\n",
       "<style scoped>\n",
       "    .dataframe tbody tr th:only-of-type {\n",
       "        vertical-align: middle;\n",
       "    }\n",
       "\n",
       "    .dataframe tbody tr th {\n",
       "        vertical-align: top;\n",
       "    }\n",
       "\n",
       "    .dataframe thead th {\n",
       "        text-align: right;\n",
       "    }\n",
       "</style>\n",
       "<table border=\"1\" class=\"dataframe\">\n",
       "  <thead>\n",
       "    <tr style=\"text-align: right;\">\n",
       "      <th></th>\n",
       "      <th>Date</th>\n",
       "      <th>Store</th>\n",
       "      <th>DayOfWeek</th>\n",
       "      <th>Sales</th>\n",
       "      <th>Open</th>\n",
       "      <th>Promo</th>\n",
       "      <th>StateHoliday</th>\n",
       "      <th>SchoolHoliday</th>\n",
       "      <th>StoreType</th>\n",
       "      <th>Assortment</th>\n",
       "      <th>CompetitionDistance</th>\n",
       "      <th>CompetitionOpenSinceMonth</th>\n",
       "      <th>CompetitionOpenSinceYear</th>\n",
       "      <th>Promo2</th>\n",
       "      <th>Promo2SinceWeek</th>\n",
       "      <th>Promo2SinceYear</th>\n",
       "      <th>PromoInterval</th>\n",
       "    </tr>\n",
       "  </thead>\n",
       "  <tbody>\n",
       "    <tr>\n",
       "      <th>0</th>\n",
       "      <td>2013-01-01</td>\n",
       "      <td>353</td>\n",
       "      <td>2.0</td>\n",
       "      <td>3139.0</td>\n",
       "      <td>1.0</td>\n",
       "      <td>0.0</td>\n",
       "      <td>a</td>\n",
       "      <td>1.0</td>\n",
       "      <td>b</td>\n",
       "      <td>b</td>\n",
       "      <td>900.0</td>\n",
       "      <td>NaN</td>\n",
       "      <td>NaN</td>\n",
       "      <td>1.0</td>\n",
       "      <td>14.0</td>\n",
       "      <td>2013.0</td>\n",
       "      <td>Feb,May,Aug,Nov</td>\n",
       "    </tr>\n",
       "    <tr>\n",
       "      <th>1</th>\n",
       "      <td>2013-01-01</td>\n",
       "      <td>335</td>\n",
       "      <td>2.0</td>\n",
       "      <td>2401.0</td>\n",
       "      <td>1.0</td>\n",
       "      <td>0.0</td>\n",
       "      <td>a</td>\n",
       "      <td>1.0</td>\n",
       "      <td>b</td>\n",
       "      <td>a</td>\n",
       "      <td>90.0</td>\n",
       "      <td>NaN</td>\n",
       "      <td>NaN</td>\n",
       "      <td>1.0</td>\n",
       "      <td>31.0</td>\n",
       "      <td>2013.0</td>\n",
       "      <td>Jan,Apr,Jul,Oct</td>\n",
       "    </tr>\n",
       "    <tr>\n",
       "      <th>2</th>\n",
       "      <td>2013-01-01</td>\n",
       "      <td>512</td>\n",
       "      <td>2.0</td>\n",
       "      <td>2646.0</td>\n",
       "      <td>1.0</td>\n",
       "      <td>0.0</td>\n",
       "      <td>a</td>\n",
       "      <td>1.0</td>\n",
       "      <td>b</td>\n",
       "      <td>b</td>\n",
       "      <td>590.0</td>\n",
       "      <td>NaN</td>\n",
       "      <td>NaN</td>\n",
       "      <td>1.0</td>\n",
       "      <td>5.0</td>\n",
       "      <td>2013.0</td>\n",
       "      <td>Mar,Jun,Sept,Dec</td>\n",
       "    </tr>\n",
       "    <tr>\n",
       "      <th>3</th>\n",
       "      <td>2013-01-01</td>\n",
       "      <td>494</td>\n",
       "      <td>2.0</td>\n",
       "      <td>3113.0</td>\n",
       "      <td>1.0</td>\n",
       "      <td>0.0</td>\n",
       "      <td>a</td>\n",
       "      <td>1.0</td>\n",
       "      <td>b</td>\n",
       "      <td>a</td>\n",
       "      <td>1260.0</td>\n",
       "      <td>6.0</td>\n",
       "      <td>2011.0</td>\n",
       "      <td>0.0</td>\n",
       "      <td>NaN</td>\n",
       "      <td>NaN</td>\n",
       "      <td>NaN</td>\n",
       "    </tr>\n",
       "    <tr>\n",
       "      <th>4</th>\n",
       "      <td>2013-01-01</td>\n",
       "      <td>530</td>\n",
       "      <td>2.0</td>\n",
       "      <td>2907.0</td>\n",
       "      <td>1.0</td>\n",
       "      <td>0.0</td>\n",
       "      <td>a</td>\n",
       "      <td>1.0</td>\n",
       "      <td>a</td>\n",
       "      <td>c</td>\n",
       "      <td>18160.0</td>\n",
       "      <td>NaN</td>\n",
       "      <td>NaN</td>\n",
       "      <td>0.0</td>\n",
       "      <td>NaN</td>\n",
       "      <td>NaN</td>\n",
       "      <td>NaN</td>\n",
       "    </tr>\n",
       "  </tbody>\n",
       "</table>\n",
       "</div>"
      ],
      "text/plain": [
       "         Date  Store  DayOfWeek   Sales  Open  Promo StateHoliday  \\\n",
       "0  2013-01-01    353        2.0  3139.0   1.0    0.0            a   \n",
       "1  2013-01-01    335        2.0  2401.0   1.0    0.0            a   \n",
       "2  2013-01-01    512        2.0  2646.0   1.0    0.0            a   \n",
       "3  2013-01-01    494        2.0  3113.0   1.0    0.0            a   \n",
       "4  2013-01-01    530        2.0  2907.0   1.0    0.0            a   \n",
       "\n",
       "   SchoolHoliday StoreType Assortment  CompetitionDistance  \\\n",
       "0            1.0         b          b                900.0   \n",
       "1            1.0         b          a                 90.0   \n",
       "2            1.0         b          b                590.0   \n",
       "3            1.0         b          a               1260.0   \n",
       "4            1.0         a          c              18160.0   \n",
       "\n",
       "   CompetitionOpenSinceMonth  CompetitionOpenSinceYear  Promo2  \\\n",
       "0                        NaN                       NaN     1.0   \n",
       "1                        NaN                       NaN     1.0   \n",
       "2                        NaN                       NaN     1.0   \n",
       "3                        6.0                    2011.0     0.0   \n",
       "4                        NaN                       NaN     0.0   \n",
       "\n",
       "   Promo2SinceWeek  Promo2SinceYear     PromoInterval  \n",
       "0             14.0           2013.0   Feb,May,Aug,Nov  \n",
       "1             31.0           2013.0   Jan,Apr,Jul,Oct  \n",
       "2              5.0           2013.0  Mar,Jun,Sept,Dec  \n",
       "3              NaN              NaN               NaN  \n",
       "4              NaN              NaN               NaN  "
      ]
     },
     "execution_count": 16,
     "metadata": {},
     "output_type": "execute_result"
    }
   ],
   "source": [
    "print(f\"The total number of samples in our dataset is {len(merged_data)}\")\n",
    "merged_data.head()"
   ]
  },
  {
   "cell_type": "markdown",
   "id": "5099049f",
   "metadata": {},
   "source": [
    "# Splitting train, validation, and test sets"
   ]
  },
  {
   "cell_type": "markdown",
   "id": "8c78a36b",
   "metadata": {},
   "source": [
    "When using tree-based models we can use random splitting of the data:"
   ]
  },
  {
   "cell_type": "code",
   "execution_count": 17,
   "id": "bf81420b",
   "metadata": {},
   "outputs": [],
   "source": [
    "X = merged_data.loc[:, ~merged_data.columns.isin([\"Sales\"])]\n",
    "y = merged_data.loc[:, \"Sales\"]\n",
    "\n",
    "X_train_valid, X_test, y_train_valid, y_test = train_test_split(\n",
    "    X, y,\n",
    "    random_state=42,\n",
    "    train_size=.8,\n",
    ")\n",
    "\n",
    "X_train, X_validation, y_train, y_validation = train_test_split(\n",
    "    X_train_valid,\n",
    "    y_train_valid,\n",
    "    random_state=42,\n",
    "    train_size=.8,\n",
    ")"
   ]
  },
  {
   "cell_type": "code",
   "execution_count": 18,
   "id": "db559955",
   "metadata": {
    "scrolled": true
   },
   "outputs": [
    {
     "name": "stdout",
     "output_type": "stream",
     "text": [
      "Our train set has 328272 samples\n",
      "Our validation set has 82068 samples\n",
      "Our test set has 102586 samples\n"
     ]
    },
    {
     "data": {
      "text/html": [
       "<div>\n",
       "<style scoped>\n",
       "    .dataframe tbody tr th:only-of-type {\n",
       "        vertical-align: middle;\n",
       "    }\n",
       "\n",
       "    .dataframe tbody tr th {\n",
       "        vertical-align: top;\n",
       "    }\n",
       "\n",
       "    .dataframe thead th {\n",
       "        text-align: right;\n",
       "    }\n",
       "</style>\n",
       "<table border=\"1\" class=\"dataframe\">\n",
       "  <thead>\n",
       "    <tr style=\"text-align: right;\">\n",
       "      <th></th>\n",
       "      <th>Date</th>\n",
       "      <th>Store</th>\n",
       "      <th>DayOfWeek</th>\n",
       "      <th>Open</th>\n",
       "      <th>Promo</th>\n",
       "      <th>StateHoliday</th>\n",
       "      <th>SchoolHoliday</th>\n",
       "      <th>StoreType</th>\n",
       "      <th>Assortment</th>\n",
       "      <th>CompetitionDistance</th>\n",
       "      <th>CompetitionOpenSinceMonth</th>\n",
       "      <th>CompetitionOpenSinceYear</th>\n",
       "      <th>Promo2</th>\n",
       "      <th>Promo2SinceWeek</th>\n",
       "      <th>Promo2SinceYear</th>\n",
       "      <th>PromoInterval</th>\n",
       "    </tr>\n",
       "  </thead>\n",
       "  <tbody>\n",
       "    <tr>\n",
       "      <th>143140</th>\n",
       "      <td>2013-06-12</td>\n",
       "      <td>353</td>\n",
       "      <td>3.0</td>\n",
       "      <td>1.0</td>\n",
       "      <td>0.0</td>\n",
       "      <td>0</td>\n",
       "      <td>0.0</td>\n",
       "      <td>b</td>\n",
       "      <td>b</td>\n",
       "      <td>900.0</td>\n",
       "      <td>NaN</td>\n",
       "      <td>NaN</td>\n",
       "      <td>1.0</td>\n",
       "      <td>14.0</td>\n",
       "      <td>2013.0</td>\n",
       "      <td>Feb,May,Aug,Nov</td>\n",
       "    </tr>\n",
       "    <tr>\n",
       "      <th>494300</th>\n",
       "      <td>2014-07-08</td>\n",
       "      <td>267</td>\n",
       "      <td>2.0</td>\n",
       "      <td>1.0</td>\n",
       "      <td>0.0</td>\n",
       "      <td>0</td>\n",
       "      <td>0.0</td>\n",
       "      <td>c</td>\n",
       "      <td>a</td>\n",
       "      <td>2460.0</td>\n",
       "      <td>1.0</td>\n",
       "      <td>2012.0</td>\n",
       "      <td>0.0</td>\n",
       "      <td>NaN</td>\n",
       "      <td>NaN</td>\n",
       "      <td>NaN</td>\n",
       "    </tr>\n",
       "    <tr>\n",
       "      <th>417249</th>\n",
       "      <td>2014-04-08</td>\n",
       "      <td>734</td>\n",
       "      <td>2.0</td>\n",
       "      <td>1.0</td>\n",
       "      <td>0.0</td>\n",
       "      <td>0.0</td>\n",
       "      <td>0.0</td>\n",
       "      <td>a</td>\n",
       "      <td>a</td>\n",
       "      <td>220.0</td>\n",
       "      <td>NaN</td>\n",
       "      <td>NaN</td>\n",
       "      <td>1.0</td>\n",
       "      <td>36.0</td>\n",
       "      <td>2013.0</td>\n",
       "      <td>Mar,Jun,Sept,Dec</td>\n",
       "    </tr>\n",
       "    <tr>\n",
       "      <th>370025</th>\n",
       "      <td>2014-02-17</td>\n",
       "      <td>0</td>\n",
       "      <td>1.0</td>\n",
       "      <td>1.0</td>\n",
       "      <td>1.0</td>\n",
       "      <td>0.0</td>\n",
       "      <td>0.0</td>\n",
       "      <td>NaN</td>\n",
       "      <td>NaN</td>\n",
       "      <td>NaN</td>\n",
       "      <td>NaN</td>\n",
       "      <td>NaN</td>\n",
       "      <td>NaN</td>\n",
       "      <td>NaN</td>\n",
       "      <td>NaN</td>\n",
       "      <td>NaN</td>\n",
       "    </tr>\n",
       "    <tr>\n",
       "      <th>249373</th>\n",
       "      <td>2013-10-05</td>\n",
       "      <td>510</td>\n",
       "      <td>NaN</td>\n",
       "      <td>1.0</td>\n",
       "      <td>NaN</td>\n",
       "      <td>0</td>\n",
       "      <td>0.0</td>\n",
       "      <td>a</td>\n",
       "      <td>c</td>\n",
       "      <td>8260.0</td>\n",
       "      <td>NaN</td>\n",
       "      <td>NaN</td>\n",
       "      <td>0.0</td>\n",
       "      <td>NaN</td>\n",
       "      <td>NaN</td>\n",
       "      <td>NaN</td>\n",
       "    </tr>\n",
       "  </tbody>\n",
       "</table>\n",
       "</div>"
      ],
      "text/plain": [
       "              Date  Store  DayOfWeek  Open  Promo StateHoliday  SchoolHoliday  \\\n",
       "143140  2013-06-12    353        3.0   1.0    0.0            0            0.0   \n",
       "494300  2014-07-08    267        2.0   1.0    0.0            0            0.0   \n",
       "417249  2014-04-08    734        2.0   1.0    0.0          0.0            0.0   \n",
       "370025  2014-02-17      0        1.0   1.0    1.0          0.0            0.0   \n",
       "249373  2013-10-05    510        NaN   1.0    NaN            0            0.0   \n",
       "\n",
       "       StoreType Assortment  CompetitionDistance  CompetitionOpenSinceMonth  \\\n",
       "143140         b          b                900.0                        NaN   \n",
       "494300         c          a               2460.0                        1.0   \n",
       "417249         a          a                220.0                        NaN   \n",
       "370025       NaN        NaN                  NaN                        NaN   \n",
       "249373         a          c               8260.0                        NaN   \n",
       "\n",
       "        CompetitionOpenSinceYear  Promo2  Promo2SinceWeek  Promo2SinceYear  \\\n",
       "143140                       NaN     1.0             14.0           2013.0   \n",
       "494300                    2012.0     0.0              NaN              NaN   \n",
       "417249                       NaN     1.0             36.0           2013.0   \n",
       "370025                       NaN     NaN              NaN              NaN   \n",
       "249373                       NaN     0.0              NaN              NaN   \n",
       "\n",
       "           PromoInterval  \n",
       "143140   Feb,May,Aug,Nov  \n",
       "494300               NaN  \n",
       "417249  Mar,Jun,Sept,Dec  \n",
       "370025               NaN  \n",
       "249373               NaN  "
      ]
     },
     "execution_count": 18,
     "metadata": {},
     "output_type": "execute_result"
    }
   ],
   "source": [
    "print(f\"Our train set has {len(X_train)} samples\")\n",
    "print(f\"Our validation set has {len(X_validation)} samples\")\n",
    "print(f\"Our test set has {len(X_test)} samples\")\n",
    "X_train.head()"
   ]
  },
  {
   "cell_type": "markdown",
   "id": "d0d0fa5e",
   "metadata": {},
   "source": [
    "**When using trend+seasonality based models we need to split the data using a date-cutoff. This may be implemented later.**"
   ]
  },
  {
   "cell_type": "markdown",
   "id": "b097ff61",
   "metadata": {},
   "source": [
    "# Data profiling"
   ]
  },
  {
   "cell_type": "markdown",
   "id": "43f2849d",
   "metadata": {},
   "source": [
    "The cell below is commented out for faster running of this notebook. The resulting profile report can be found by following this link:\n",
    "\n",
    "**[Rossmann profile report](files/rossmann_profile_report.html)**"
   ]
  },
  {
   "cell_type": "code",
   "execution_count": 19,
   "id": "6703a170",
   "metadata": {},
   "outputs": [
    {
     "data": {
      "application/vnd.jupyter.widget-view+json": {
       "model_id": "02992d6ee26c40afb3e4cdaf55f33062",
       "version_major": 2,
       "version_minor": 0
      },
      "text/plain": [
       "Summarize dataset:   0%|          | 0/5 [00:00<?, ?it/s]"
      ]
     },
     "metadata": {},
     "output_type": "display_data"
    },
    {
     "name": "stderr",
     "output_type": "stream",
     "text": [
      "/Users/corstiaen/opt/anaconda3/envs/minicompenv/lib/python3.8/site-packages/scipy/stats/stats.py:4812: RuntimeWarning: overflow encountered in long_scalars\n",
      "  (2 * xtie * ytie) / m + x0 * y0 / (9 * m * (size - 2)))\n"
     ]
    },
    {
     "data": {
      "application/vnd.jupyter.widget-view+json": {
       "model_id": "70672d0c384143018627df504476812e",
       "version_major": 2,
       "version_minor": 0
      },
      "text/plain": [
       "Generate report structure:   0%|          | 0/1 [00:00<?, ?it/s]"
      ]
     },
     "metadata": {},
     "output_type": "display_data"
    },
    {
     "data": {
      "application/vnd.jupyter.widget-view+json": {
       "model_id": "ca8fd281f7f2444faadc60a9edf335cf",
       "version_major": 2,
       "version_minor": 0
      },
      "text/plain": [
       "Render HTML:   0%|          | 0/1 [00:00<?, ?it/s]"
      ]
     },
     "metadata": {},
     "output_type": "display_data"
    },
    {
     "data": {
      "application/vnd.jupyter.widget-view+json": {
       "model_id": "cca9714a31c745aa8339733a96028ac2",
       "version_major": 2,
       "version_minor": 0
      },
      "text/plain": [
       "Export report to file:   0%|          | 0/1 [00:00<?, ?it/s]"
      ]
     },
     "metadata": {},
     "output_type": "display_data"
    }
   ],
   "source": [
    "profile = ProfileReport(X_train)\n",
    "profile.to_file(output_file=\"rossmann_profile_report.html\")"
   ]
  },
  {
   "cell_type": "markdown",
   "id": "a11aa010",
   "metadata": {},
   "source": [
    "# Feature engineering"
   ]
  },
  {
   "cell_type": "markdown",
   "id": "dffb355f",
   "metadata": {},
   "source": [
    "### Check amount of features missing per sample. If 4 or more, meaning about 50%, try dropping entire row.\n",
    "\n",
    "### We also need to look into outliers!\n",
    "\n",
    "**Lilla**\n",
    "\n",
    "    Date -> datetime\n",
    "    split in year, month, week, day of week; drop the original\n",
    "    make sure weekday matches weekday from date; check for missing values and impute where necessary\n",
    "    encode all except year with sine+cosine! https://ianlondon.github.io/blog/encoding-cyclical-features-24hour-time/\n",
    "\n",
    "    DayOfWeek\n",
    "    drop, replace with values derived from Date\n",
    "\n",
    "    CompetitionDistance -> float\n",
    "    Try: median imputation\n",
    "    Try also: KNNImputer (sklearn)\n",
    "\n",
    "**Corstiaen**\n",
    "\n",
    "    Store\n",
    "    3 options:\n",
    "    * drop\n",
    "    * target encoding -> float\n",
    "    * frequency encoding -> int\n",
    "    test model to seae what works best\n",
    "   **MAKE SURE STORE FEATURE IS SAME dTYPE;\n",
    "   NEEDS 0 IMPUTING FOR THAT**\n",
    "\n",
    "    Open -> one-hot encode\n",
    "    3 categories, meaning 2 one-hot columns\n",
    "    Started with median imputing (1 for True)\n",
    "    \n",
    "    Promo -> one-hot encode\n",
    "    3 categories, meaning 2 one-hot columns\n",
    "    Started with median imputing (0 for False)\n",
    "    \n",
    "    StateHoliday -> one-hot encode\n",
    "    5 categories, meaning 4 one-hot columns\n",
    "    turn 0.0 into 0\n",
    "    ['0', 0.0, 'c', nan, 'a', 'b']\n",
    "    Started with median imputing (0 for No Holiday)\n",
    "    \n",
    "    SchoolHoliday -> one-hot encode\n",
    "    3 categories, meaning 2 one-hot columns\n",
    "    Started with median imputing (0 for No Holiday)\n",
    "    \n",
    "    StoreType -> label encode\n",
    "    Try label encoding first\n",
    "    Potentially try 5 categories, meaning 4 one-hot columns\n",
    "    Started with mode imputing\n",
    "    \n",
    "    Assortment -> label encode\n",
    "    Try label encoding first\n",
    "    Potentially try 4 categories, meaning 3 one-hot columns\n",
    "    Started with mode imputing\n",
    "    \n",
    "    \n",
    "**SAM**\n",
    "\n",
    "    CompetitionOpenSinceMonth -> new int or float\n",
    "    CompetitionOpenSinceYear -> new int or float\n",
    "    Merge and create new feature, giving temporal distance from 2015-07-31 or 2015-08-31\n",
    "    potentially use datetime for these calculations?\n",
    "    Try: median imputation\n",
    "    Try also: KNNImputer (sklearn)\n",
    "    \n",
    "    Promo2 -> one-hot encode\n",
    "    3 categories including NaN, 2 columns\n",
    "    make sure all missing in other Promo2 features are described by these three categories!\n",
    "    \n",
    "    Promo2SinceWeek -> new int or float\n",
    "    Promo2SinceYear -> new int or float\n",
    "    Merge and create new feature, giving temporal distance from 2015-07-31 or 2015-08-31\n",
    "    potentially use datetime for these calculations?\n",
    "    imputation with any value, this is caught by the boolean from Promo2 feature\n",
    "    \n",
    "    PromoInterval -> one-hot encode\n",
    "    3 categories, NaNs can be added to the mode category, these will again be described by the Promo2 feature\n",
    "    "
   ]
  },
  {
   "cell_type": "markdown",
   "id": "ec299397",
   "metadata": {},
   "source": [
    "### Imputing"
   ]
  },
  {
   "cell_type": "markdown",
   "id": "8419382b",
   "metadata": {},
   "source": [
    "**ATTENTION: After dropping all days with Sales=0, we only have days left where the store was opened, or where it was not known! Therefore changing NaNs for that feature to 0. We may completely delete the column later.**"
   ]
  },
  {
   "cell_type": "code",
   "execution_count": 20,
   "id": "6aef4e05",
   "metadata": {
    "scrolled": true
   },
   "outputs": [],
   "source": [
    "from sklearn.compose import ColumnTransformer\n",
    "from sklearn.impute import SimpleImputer\n",
    "\n",
    "zero_columns = [\"Open\", \"Promo\", \"SchoolHoliday\"]\n",
    "zero_imputer = SimpleImputer(missing_values=np.nan, strategy=\"constant\", fill_value=0)\n",
    "\n",
    "mode_columns = [\"StateHoliday\", \"StoreType\", \"Assortment\"]\n",
    "mode_imputer = SimpleImputer(missing_values=np.nan, strategy=\"most_frequent\")\n",
    "\n",
    "all_columns_ordered =  zero_columns + mode_columns\n",
    "\n",
    "ct = ColumnTransformer(\n",
    "    transformers=[\n",
    "        (\"zero_imputer\", zero_imputer, zero_columns),\n",
    "        (\"mode_imputer\", mode_imputer, mode_columns),\n",
    "    ],\n",
    "    verbose_feature_names_out=False,\n",
    ")\n",
    "\n",
    "transformed = ct.fit_transform(X_train)"
   ]
  },
  {
   "cell_type": "markdown",
   "id": "493b07b1",
   "metadata": {},
   "source": [
    "Write imputed data to dataframe."
   ]
  },
  {
   "cell_type": "code",
   "execution_count": 21,
   "id": "54020f60",
   "metadata": {},
   "outputs": [],
   "source": [
    "X_train_imputed = X_train.copy()\n",
    "X_train_imputed.loc[:, all_columns_ordered] = transformed"
   ]
  },
  {
   "cell_type": "markdown",
   "id": "137cadce",
   "metadata": {},
   "source": [
    "Change 0.0 floats to \"0\" in StateHoliday."
   ]
  },
  {
   "cell_type": "code",
   "execution_count": 22,
   "id": "ea75181f",
   "metadata": {},
   "outputs": [],
   "source": [
    "def zerofun(row):\n",
    "    if row[\"StateHoliday\"] == \"0.0\":\n",
    "        out = \"0\"\n",
    "    else:\n",
    "        out = row[\"StateHoliday\"]\n",
    "    return out\n",
    "\n",
    "X_train_imputed = X_train_imputed.astype({\"StateHoliday\": str})\n",
    "\n",
    "X_train_imputed.loc[:, \"StateHoliday\"] = X_train_imputed.apply(func=zerofun, axis=1)"
   ]
  },
  {
   "cell_type": "code",
   "execution_count": 23,
   "id": "c975bbac",
   "metadata": {},
   "outputs": [
    {
     "data": {
      "text/html": [
       "<div>\n",
       "<style scoped>\n",
       "    .dataframe tbody tr th:only-of-type {\n",
       "        vertical-align: middle;\n",
       "    }\n",
       "\n",
       "    .dataframe tbody tr th {\n",
       "        vertical-align: top;\n",
       "    }\n",
       "\n",
       "    .dataframe thead th {\n",
       "        text-align: right;\n",
       "    }\n",
       "</style>\n",
       "<table border=\"1\" class=\"dataframe\">\n",
       "  <thead>\n",
       "    <tr style=\"text-align: right;\">\n",
       "      <th></th>\n",
       "      <th>Date</th>\n",
       "      <th>Store</th>\n",
       "      <th>DayOfWeek</th>\n",
       "      <th>Open</th>\n",
       "      <th>Promo</th>\n",
       "      <th>StateHoliday</th>\n",
       "      <th>SchoolHoliday</th>\n",
       "      <th>StoreType</th>\n",
       "      <th>Assortment</th>\n",
       "      <th>CompetitionDistance</th>\n",
       "      <th>CompetitionOpenSinceMonth</th>\n",
       "      <th>CompetitionOpenSinceYear</th>\n",
       "      <th>Promo2</th>\n",
       "      <th>Promo2SinceWeek</th>\n",
       "      <th>Promo2SinceYear</th>\n",
       "      <th>PromoInterval</th>\n",
       "    </tr>\n",
       "  </thead>\n",
       "  <tbody>\n",
       "    <tr>\n",
       "      <th>143140</th>\n",
       "      <td>2013-06-12</td>\n",
       "      <td>353</td>\n",
       "      <td>3.0</td>\n",
       "      <td>1.0</td>\n",
       "      <td>0.0</td>\n",
       "      <td>0</td>\n",
       "      <td>0.0</td>\n",
       "      <td>b</td>\n",
       "      <td>b</td>\n",
       "      <td>900.0</td>\n",
       "      <td>NaN</td>\n",
       "      <td>NaN</td>\n",
       "      <td>1.0</td>\n",
       "      <td>14.0</td>\n",
       "      <td>2013.0</td>\n",
       "      <td>Feb,May,Aug,Nov</td>\n",
       "    </tr>\n",
       "    <tr>\n",
       "      <th>494300</th>\n",
       "      <td>2014-07-08</td>\n",
       "      <td>267</td>\n",
       "      <td>2.0</td>\n",
       "      <td>1.0</td>\n",
       "      <td>0.0</td>\n",
       "      <td>0</td>\n",
       "      <td>0.0</td>\n",
       "      <td>c</td>\n",
       "      <td>a</td>\n",
       "      <td>2460.0</td>\n",
       "      <td>1.0</td>\n",
       "      <td>2012.0</td>\n",
       "      <td>0.0</td>\n",
       "      <td>NaN</td>\n",
       "      <td>NaN</td>\n",
       "      <td>NaN</td>\n",
       "    </tr>\n",
       "    <tr>\n",
       "      <th>417249</th>\n",
       "      <td>2014-04-08</td>\n",
       "      <td>734</td>\n",
       "      <td>2.0</td>\n",
       "      <td>1.0</td>\n",
       "      <td>0.0</td>\n",
       "      <td>0</td>\n",
       "      <td>0.0</td>\n",
       "      <td>a</td>\n",
       "      <td>a</td>\n",
       "      <td>220.0</td>\n",
       "      <td>NaN</td>\n",
       "      <td>NaN</td>\n",
       "      <td>1.0</td>\n",
       "      <td>36.0</td>\n",
       "      <td>2013.0</td>\n",
       "      <td>Mar,Jun,Sept,Dec</td>\n",
       "    </tr>\n",
       "    <tr>\n",
       "      <th>370025</th>\n",
       "      <td>2014-02-17</td>\n",
       "      <td>0</td>\n",
       "      <td>1.0</td>\n",
       "      <td>1.0</td>\n",
       "      <td>1.0</td>\n",
       "      <td>0</td>\n",
       "      <td>0.0</td>\n",
       "      <td>a</td>\n",
       "      <td>a</td>\n",
       "      <td>NaN</td>\n",
       "      <td>NaN</td>\n",
       "      <td>NaN</td>\n",
       "      <td>NaN</td>\n",
       "      <td>NaN</td>\n",
       "      <td>NaN</td>\n",
       "      <td>NaN</td>\n",
       "    </tr>\n",
       "    <tr>\n",
       "      <th>249373</th>\n",
       "      <td>2013-10-05</td>\n",
       "      <td>510</td>\n",
       "      <td>NaN</td>\n",
       "      <td>1.0</td>\n",
       "      <td>0.0</td>\n",
       "      <td>0</td>\n",
       "      <td>0.0</td>\n",
       "      <td>a</td>\n",
       "      <td>c</td>\n",
       "      <td>8260.0</td>\n",
       "      <td>NaN</td>\n",
       "      <td>NaN</td>\n",
       "      <td>0.0</td>\n",
       "      <td>NaN</td>\n",
       "      <td>NaN</td>\n",
       "      <td>NaN</td>\n",
       "    </tr>\n",
       "  </tbody>\n",
       "</table>\n",
       "</div>"
      ],
      "text/plain": [
       "              Date  Store  DayOfWeek  Open  Promo StateHoliday  SchoolHoliday  \\\n",
       "143140  2013-06-12    353        3.0   1.0    0.0            0            0.0   \n",
       "494300  2014-07-08    267        2.0   1.0    0.0            0            0.0   \n",
       "417249  2014-04-08    734        2.0   1.0    0.0            0            0.0   \n",
       "370025  2014-02-17      0        1.0   1.0    1.0            0            0.0   \n",
       "249373  2013-10-05    510        NaN   1.0    0.0            0            0.0   \n",
       "\n",
       "       StoreType Assortment  CompetitionDistance  CompetitionOpenSinceMonth  \\\n",
       "143140         b          b                900.0                        NaN   \n",
       "494300         c          a               2460.0                        1.0   \n",
       "417249         a          a                220.0                        NaN   \n",
       "370025         a          a                  NaN                        NaN   \n",
       "249373         a          c               8260.0                        NaN   \n",
       "\n",
       "        CompetitionOpenSinceYear  Promo2  Promo2SinceWeek  Promo2SinceYear  \\\n",
       "143140                       NaN     1.0             14.0           2013.0   \n",
       "494300                    2012.0     0.0              NaN              NaN   \n",
       "417249                       NaN     1.0             36.0           2013.0   \n",
       "370025                       NaN     NaN              NaN              NaN   \n",
       "249373                       NaN     0.0              NaN              NaN   \n",
       "\n",
       "           PromoInterval  \n",
       "143140   Feb,May,Aug,Nov  \n",
       "494300               NaN  \n",
       "417249  Mar,Jun,Sept,Dec  \n",
       "370025               NaN  \n",
       "249373               NaN  "
      ]
     },
     "execution_count": 23,
     "metadata": {},
     "output_type": "execute_result"
    }
   ],
   "source": [
    "X_train_imputed.head()"
   ]
  },
  {
   "cell_type": "markdown",
   "id": "5c8486fa",
   "metadata": {},
   "source": [
    "### Encoding"
   ]
  },
  {
   "cell_type": "markdown",
   "id": "27db5ba2",
   "metadata": {},
   "source": [
    "Before encoding (or before imputing?) we should check our data types and change them where necessary."
   ]
  },
  {
   "cell_type": "code",
   "execution_count": 24,
   "id": "ee8906e6",
   "metadata": {
    "scrolled": false
   },
   "outputs": [
    {
     "data": {
      "text/plain": [
       "Date                          object\n",
       "Store                          int64\n",
       "DayOfWeek                    float64\n",
       "Open                         float64\n",
       "Promo                        float64\n",
       "StateHoliday                  object\n",
       "SchoolHoliday                float64\n",
       "StoreType                     object\n",
       "Assortment                    object\n",
       "CompetitionDistance          float64\n",
       "CompetitionOpenSinceMonth    float64\n",
       "CompetitionOpenSinceYear     float64\n",
       "Promo2                       float64\n",
       "Promo2SinceWeek              float64\n",
       "Promo2SinceYear              float64\n",
       "PromoInterval                 object\n",
       "dtype: object"
      ]
     },
     "execution_count": 24,
     "metadata": {},
     "output_type": "execute_result"
    }
   ],
   "source": [
    "X_train_imputed.dtypes"
   ]
  },
  {
   "cell_type": "code",
   "execution_count": 25,
   "id": "09ffe7c0",
   "metadata": {},
   "outputs": [],
   "source": [
    "X_train_imputed = X_train_imputed.astype({\n",
    "    \"StateHoliday\": \"category\",\n",
    "    \"StoreType\": \"category\",\n",
    "    \"Assortment\": \"category\"\n",
    "})"
   ]
  },
  {
   "cell_type": "markdown",
   "id": "11c8eabf",
   "metadata": {},
   "source": [
    "Custom encoder. Still does not work with the sklearn.pipeline.Pipeline. Maybe we should turn the whole pipeline into a custom class?"
   ]
  },
  {
   "cell_type": "code",
   "execution_count": 26,
   "id": "3d409bbf",
   "metadata": {},
   "outputs": [],
   "source": [
    "class StoreTargetMeanEncoder():\n",
    "    \"\"\"Target mean encoder for Store feature in the Rossmann dataset.\n",
    "    \"\"\"\n",
    "    \n",
    "    def __init__(self):\n",
    "        self.store_target_mean = None\n",
    "    \n",
    "    def fit(self, X, y):\n",
    "        self._get_store_target_mean(feature=X, target=y)\n",
    "\n",
    "    def transform(self, X):\n",
    "        X = self._store_target_mean_encoder(X)\n",
    "        return X\n",
    "    \n",
    "    def _get_store_target_mean(self, feature, target):\n",
    "        all_data = pd.concat([X_train, y_train], axis=1)\n",
    "        self.store_target_mean = all_data.groupby(by=\"Store\").mean().loc[:, \"Sales\"].to_dict()\n",
    "    \n",
    "    def _store_target_mean_encoder(self, X):\n",
    "        updated_store = X.loc[:, \"Store\"].map(self.store_target_mean)\n",
    "        X_out = X.copy()\n",
    "        X_out.update(updated_store)\n",
    "        return X_out"
   ]
  },
  {
   "cell_type": "markdown",
   "id": "f6def36a",
   "metadata": {},
   "source": [
    "Fitting and encoding using custom encoder."
   ]
  },
  {
   "cell_type": "code",
   "execution_count": 27,
   "id": "f0f4f2df",
   "metadata": {
    "scrolled": true
   },
   "outputs": [],
   "source": [
    "# stme = StoreTargetMeanEncoder()\n",
    "# stme.fit(X_train_imputed, y_train)\n",
    "# stme.transform(X_train_imputed)"
   ]
  },
  {
   "cell_type": "markdown",
   "id": "b96c3559",
   "metadata": {},
   "source": [
    "Encoding using the sklearn pipeline."
   ]
  },
  {
   "cell_type": "code",
   "execution_count": 28,
   "id": "a8d88abb",
   "metadata": {
    "scrolled": true
   },
   "outputs": [],
   "source": [
    "from sklearn.pipeline import Pipeline\n",
    "from sklearn.preprocessing import OrdinalEncoder\n",
    "\n",
    "pipe = Pipeline([\n",
    "    ('store_target_mean_encoder', StoreTargetMeanEncoder()),\n",
    "    ('ordinal_encoder', OrdinalEncoder()),\n",
    "])\n",
    "\n",
    "my_features = [\"Open\", \"Promo\", \"StateHoliday\", \"SchoolHoliday\", \"StoreType\", \"Assortment\"]\n",
    "# pipe.fit(X_train_imputed.loc[:, my_features], y_train)"
   ]
  },
  {
   "cell_type": "markdown",
   "id": "a1ebadee",
   "metadata": {},
   "source": [
    "Testing of encoder using specific features. We can use this encoder for a custom class in a custom pipeline, outside of a sklearn Pipeline instance."
   ]
  },
  {
   "cell_type": "code",
   "execution_count": 29,
   "id": "c6d6c131",
   "metadata": {},
   "outputs": [
    {
     "data": {
      "text/plain": [
       "OrdinalEncoder()"
      ]
     },
     "execution_count": 29,
     "metadata": {},
     "output_type": "execute_result"
    }
   ],
   "source": [
    "oc = OrdinalEncoder()\n",
    "oc.fit(X_train_imputed.loc[:, my_features], y_train)"
   ]
  },
  {
   "cell_type": "code",
   "execution_count": 30,
   "id": "41f4a3a8",
   "metadata": {},
   "outputs": [
    {
     "data": {
      "text/plain": [
       "array([1., 1., 3., 1., 3., 2.])"
      ]
     },
     "execution_count": 30,
     "metadata": {},
     "output_type": "execute_result"
    }
   ],
   "source": [
    "oc.transform(X_train_imputed.loc[:, my_features]).max(axis=0)"
   ]
  },
  {
   "cell_type": "code",
   "execution_count": 31,
   "id": "b7fc6ea9",
   "metadata": {
    "scrolled": true
   },
   "outputs": [
    {
     "data": {
      "text/plain": [
       "Open             2\n",
       "Promo            2\n",
       "StateHoliday     4\n",
       "SchoolHoliday    2\n",
       "StoreType        4\n",
       "Assortment       3\n",
       "dtype: int64"
      ]
     },
     "execution_count": 31,
     "metadata": {},
     "output_type": "execute_result"
    }
   ],
   "source": [
    "X_train_imputed.loc[:, my_features].nunique()"
   ]
  },
  {
   "cell_type": "code",
   "execution_count": null,
   "id": "6647da25",
   "metadata": {},
   "outputs": [],
   "source": []
  },
  {
   "cell_type": "code",
   "execution_count": null,
   "id": "9fe5449e",
   "metadata": {},
   "outputs": [],
   "source": []
  }
 ],
 "metadata": {
  "kernelspec": {
   "display_name": "Python 3 (ipykernel)",
   "language": "python",
   "name": "python3"
  },
  "language_info": {
   "codemirror_mode": {
    "name": "ipython",
    "version": 3
   },
   "file_extension": ".py",
   "mimetype": "text/x-python",
   "name": "python",
   "nbconvert_exporter": "python",
   "pygments_lexer": "ipython3",
   "version": "3.8.12"
  }
 },
 "nbformat": 4,
 "nbformat_minor": 5
}
