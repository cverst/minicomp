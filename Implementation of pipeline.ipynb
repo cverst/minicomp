{
 "cells": [
  {
   "cell_type": "markdown",
   "id": "19bb7826",
   "metadata": {},
   "source": [
    "    Documentation\n",
    "    Visualizations\n",
    "\n",
    "    Regression model for comparison\n",
    "    RandomForest hyperparameters\n",
    "    XGBoost implementation and hyperparameters\n",
    "\n",
    "    (Train/validation cross validation implementation)"
   ]
  },
  {
   "cell_type": "markdown",
   "id": "50606e04",
   "metadata": {},
   "source": [
    "# Import libraries"
   ]
  },
  {
   "cell_type": "code",
   "execution_count": 1,
   "id": "76273743",
   "metadata": {
    "scrolled": true
   },
   "outputs": [],
   "source": [
    "# general\n",
    "import pandas as pd\n",
    "import numpy as np\n",
    "from pandas_profiling import ProfileReport\n",
    "# sklearn\n",
    "from sklearn.model_selection import train_test_split\n",
    "from sklearn.pipeline import Pipeline\n",
    "from sklearn.ensemble import RandomForestRegressor\n",
    "# encoders\n",
    "from category_encoders.target_encoder import TargetEncoder\n",
    "from category_encoders.ordinal import OrdinalEncoder\n",
    "from category_encoders.one_hot import OneHotEncoder\n",
    "# custom classes\n",
    "from preprocessing import Merger, Imputer, Cleaner\n",
    "# plotting\n",
    "import matplotlib.pyplot as plt\n",
    "%matplotlib inline"
   ]
  },
  {
   "cell_type": "markdown",
   "id": "097dc5ca",
   "metadata": {},
   "source": [
    "# Load data"
   ]
  },
  {
   "cell_type": "code",
   "execution_count": 2,
   "id": "8ffc0062",
   "metadata": {
    "scrolled": true
   },
   "outputs": [
    {
     "name": "stderr",
     "output_type": "stream",
     "text": [
      "/Users/corstiaen/opt/anaconda3/envs/minicompenv/lib/python3.8/site-packages/IPython/core/interactiveshell.py:3444: DtypeWarning: Columns (7) have mixed types.Specify dtype option on import or set low_memory=False.\n",
      "  exec(code_obj, self.user_global_ns, self.user_ns)\n"
     ]
    }
   ],
   "source": [
    "store_data = pd.read_csv(\"./data/store.csv\")\n",
    "sales_data = pd.read_csv(\"./data/train.csv\")\n",
    "holdout_data = pd.read_csv(\"./data/holdout.csv\")"
   ]
  },
  {
   "cell_type": "markdown",
   "id": "19057ccf",
   "metadata": {},
   "source": [
    "We will use the holdout data as our test set."
   ]
  },
  {
   "cell_type": "markdown",
   "id": "1c1efe20",
   "metadata": {},
   "source": [
    "# Preprocessing of data"
   ]
  },
  {
   "cell_type": "markdown",
   "id": "02712bec",
   "metadata": {},
   "source": [
    "## Merging tables"
   ]
  },
  {
   "cell_type": "markdown",
   "id": "b62433ef",
   "metadata": {},
   "source": [
    "Our store information is separate from our sales information. In our Merger object we perform multiple operations:\n",
    "* Drop sales data where sales is NaN or 0.\n",
    "* Drop the customers column because of its direct relation to sales and its unknown value when predicting the future.\n",
    "* Combine sales and store data into a single table by joining on the store ID.\n",
    "* All stores without and ID, i.e., the NaNs, are given the label 0. This label was not in use as a store ID."
   ]
  },
  {
   "cell_type": "code",
   "execution_count": 3,
   "id": "5672dbd5",
   "metadata": {},
   "outputs": [
    {
     "name": "stderr",
     "output_type": "stream",
     "text": [
      "/Users/corstiaen/opt/anaconda3/envs/minicompenv/lib/python3.8/site-packages/pandas/core/frame.py:4906: SettingWithCopyWarning: \n",
      "A value is trying to be set on a copy of a slice from a DataFrame\n",
      "\n",
      "See the caveats in the documentation: https://pandas.pydata.org/pandas-docs/stable/user_guide/indexing.html#returning-a-view-versus-a-copy\n",
      "  return super().drop(\n"
     ]
    }
   ],
   "source": [
    "mrg = Merger()\n",
    "mrg.merge(sales_data, store_data)\n",
    "merged_data = mrg.merged_data"
   ]
  },
  {
   "cell_type": "code",
   "execution_count": 4,
   "id": "4e11b316",
   "metadata": {},
   "outputs": [],
   "source": [
    "mrg = Merger()\n",
    "mrg.merge(holdout_data, store_data)\n",
    "merged_holdout_data = mrg.merged_data"
   ]
  },
  {
   "cell_type": "code",
   "execution_count": 5,
   "id": "416039f0",
   "metadata": {
    "scrolled": true
   },
   "outputs": [
    {
     "name": "stdout",
     "output_type": "stream",
     "text": [
      "We have 512956 samples to work with.\n"
     ]
    },
    {
     "data": {
      "text/html": [
       "<div>\n",
       "<style scoped>\n",
       "    .dataframe tbody tr th:only-of-type {\n",
       "        vertical-align: middle;\n",
       "    }\n",
       "\n",
       "    .dataframe tbody tr th {\n",
       "        vertical-align: top;\n",
       "    }\n",
       "\n",
       "    .dataframe thead th {\n",
       "        text-align: right;\n",
       "    }\n",
       "</style>\n",
       "<table border=\"1\" class=\"dataframe\">\n",
       "  <thead>\n",
       "    <tr style=\"text-align: right;\">\n",
       "      <th></th>\n",
       "      <th>Date</th>\n",
       "      <th>Store</th>\n",
       "      <th>DayOfWeek</th>\n",
       "      <th>Sales</th>\n",
       "      <th>Open</th>\n",
       "      <th>Promo</th>\n",
       "      <th>StateHoliday</th>\n",
       "      <th>SchoolHoliday</th>\n",
       "      <th>StoreType</th>\n",
       "      <th>Assortment</th>\n",
       "      <th>CompetitionDistance</th>\n",
       "      <th>CompetitionOpenSinceMonth</th>\n",
       "      <th>CompetitionOpenSinceYear</th>\n",
       "      <th>Promo2</th>\n",
       "      <th>Promo2SinceWeek</th>\n",
       "      <th>Promo2SinceYear</th>\n",
       "      <th>PromoInterval</th>\n",
       "    </tr>\n",
       "  </thead>\n",
       "  <tbody>\n",
       "    <tr>\n",
       "      <th>510004</th>\n",
       "      <td>2014-07-28</td>\n",
       "      <td>1020</td>\n",
       "      <td>1.0</td>\n",
       "      <td>10027.0</td>\n",
       "      <td>1.0</td>\n",
       "      <td>1.0</td>\n",
       "      <td>0</td>\n",
       "      <td>1.0</td>\n",
       "      <td>a</td>\n",
       "      <td>a</td>\n",
       "      <td>40.0</td>\n",
       "      <td>8.0</td>\n",
       "      <td>2015.0</td>\n",
       "      <td>0.0</td>\n",
       "      <td>NaN</td>\n",
       "      <td>NaN</td>\n",
       "      <td>NaN</td>\n",
       "    </tr>\n",
       "    <tr>\n",
       "      <th>86720</th>\n",
       "      <td>2013-04-08</td>\n",
       "      <td>17</td>\n",
       "      <td>1.0</td>\n",
       "      <td>10741.0</td>\n",
       "      <td>1.0</td>\n",
       "      <td>1.0</td>\n",
       "      <td>0</td>\n",
       "      <td>0.0</td>\n",
       "      <td>a</td>\n",
       "      <td>a</td>\n",
       "      <td>50.0</td>\n",
       "      <td>12.0</td>\n",
       "      <td>2005.0</td>\n",
       "      <td>1.0</td>\n",
       "      <td>26.0</td>\n",
       "      <td>2010.0</td>\n",
       "      <td>Jan,Apr,Jul,Oct</td>\n",
       "    </tr>\n",
       "    <tr>\n",
       "      <th>171885</th>\n",
       "      <td>2013-07-12</td>\n",
       "      <td>898</td>\n",
       "      <td>5.0</td>\n",
       "      <td>5812.0</td>\n",
       "      <td>1.0</td>\n",
       "      <td>0.0</td>\n",
       "      <td>0</td>\n",
       "      <td>0.0</td>\n",
       "      <td>a</td>\n",
       "      <td>a</td>\n",
       "      <td>18540.0</td>\n",
       "      <td>NaN</td>\n",
       "      <td>NaN</td>\n",
       "      <td>0.0</td>\n",
       "      <td>NaN</td>\n",
       "      <td>NaN</td>\n",
       "      <td>NaN</td>\n",
       "    </tr>\n",
       "    <tr>\n",
       "      <th>405398</th>\n",
       "      <td>2014-03-27</td>\n",
       "      <td>309</td>\n",
       "      <td>4.0</td>\n",
       "      <td>4488.0</td>\n",
       "      <td>1.0</td>\n",
       "      <td>0.0</td>\n",
       "      <td>0.0</td>\n",
       "      <td>0.0</td>\n",
       "      <td>d</td>\n",
       "      <td>a</td>\n",
       "      <td>8740.0</td>\n",
       "      <td>NaN</td>\n",
       "      <td>NaN</td>\n",
       "      <td>1.0</td>\n",
       "      <td>37.0</td>\n",
       "      <td>2009.0</td>\n",
       "      <td>Feb,May,Aug,Nov</td>\n",
       "    </tr>\n",
       "    <tr>\n",
       "      <th>29042</th>\n",
       "      <td>2013-02-01</td>\n",
       "      <td>711</td>\n",
       "      <td>5.0</td>\n",
       "      <td>6191.0</td>\n",
       "      <td>1.0</td>\n",
       "      <td>0.0</td>\n",
       "      <td>0</td>\n",
       "      <td>0.0</td>\n",
       "      <td>d</td>\n",
       "      <td>a</td>\n",
       "      <td>17110.0</td>\n",
       "      <td>3.0</td>\n",
       "      <td>2007.0</td>\n",
       "      <td>1.0</td>\n",
       "      <td>5.0</td>\n",
       "      <td>2010.0</td>\n",
       "      <td>Jan,Apr,Jul,Oct</td>\n",
       "    </tr>\n",
       "  </tbody>\n",
       "</table>\n",
       "</div>"
      ],
      "text/plain": [
       "              Date  Store  DayOfWeek    Sales  Open  Promo StateHoliday  \\\n",
       "510004  2014-07-28   1020        1.0  10027.0   1.0    1.0            0   \n",
       "86720   2013-04-08     17        1.0  10741.0   1.0    1.0            0   \n",
       "171885  2013-07-12    898        5.0   5812.0   1.0    0.0            0   \n",
       "405398  2014-03-27    309        4.0   4488.0   1.0    0.0          0.0   \n",
       "29042   2013-02-01    711        5.0   6191.0   1.0    0.0            0   \n",
       "\n",
       "        SchoolHoliday StoreType Assortment  CompetitionDistance  \\\n",
       "510004            1.0         a          a                 40.0   \n",
       "86720             0.0         a          a                 50.0   \n",
       "171885            0.0         a          a              18540.0   \n",
       "405398            0.0         d          a               8740.0   \n",
       "29042             0.0         d          a              17110.0   \n",
       "\n",
       "        CompetitionOpenSinceMonth  CompetitionOpenSinceYear  Promo2  \\\n",
       "510004                        8.0                    2015.0     0.0   \n",
       "86720                        12.0                    2005.0     1.0   \n",
       "171885                        NaN                       NaN     0.0   \n",
       "405398                        NaN                       NaN     1.0   \n",
       "29042                         3.0                    2007.0     1.0   \n",
       "\n",
       "        Promo2SinceWeek  Promo2SinceYear    PromoInterval  \n",
       "510004              NaN              NaN              NaN  \n",
       "86720              26.0           2010.0  Jan,Apr,Jul,Oct  \n",
       "171885              NaN              NaN              NaN  \n",
       "405398             37.0           2009.0  Feb,May,Aug,Nov  \n",
       "29042               5.0           2010.0  Jan,Apr,Jul,Oct  "
      ]
     },
     "execution_count": 5,
     "metadata": {},
     "output_type": "execute_result"
    }
   ],
   "source": [
    "print(f\"We have {len(merged_data)} samples to work with.\")\n",
    "merged_data.sample(5)"
   ]
  },
  {
   "cell_type": "code",
   "execution_count": 6,
   "id": "f738ae20",
   "metadata": {},
   "outputs": [
    {
     "name": "stdout",
     "output_type": "stream",
     "text": [
      "We have 315540 samples in out test set.\n"
     ]
    }
   ],
   "source": [
    "print(f\"We have {len(merged_holdout_data)} samples in out test set.\")"
   ]
  },
  {
   "cell_type": "code",
   "execution_count": 7,
   "id": "c45d804b",
   "metadata": {
    "scrolled": true
   },
   "outputs": [
    {
     "name": "stdout",
     "output_type": "stream",
     "text": [
      "There are 30 duplicated values in our dataset.\n",
      "This is a low number compared to the 512956 samples in our dataset.\n",
      "These duplicates are not necessarily 'true' because the store ID is not known.\n",
      "Therefore these duplicates may actually be two shops having the exact same sales on a single day.\n",
      "Because of this uncertainty we are keeping the duplicates in our dataset.\n"
     ]
    }
   ],
   "source": [
    "duped_mask = merged_data.duplicated()\n",
    "duplicated_data = merged_data.loc[duped_mask, :]\n",
    "\n",
    "print(f\"There are {len(duplicated_data)} duplicated values in our dataset.\")\n",
    "print(f\"This is a low number compared to the {len(merged_data)} samples in our dataset.\")\n",
    "print(\"These duplicates are not necessarily 'true' because the store ID is not known.\")\n",
    "print(\"Therefore these duplicates may actually be two shops having the exact same sales on a single day.\")\n",
    "print(\"Because of this uncertainty we are keeping the duplicates in our dataset.\")"
   ]
  },
  {
   "cell_type": "markdown",
   "id": "2ee344df",
   "metadata": {},
   "source": [
    "## Splitting data"
   ]
  },
  {
   "cell_type": "markdown",
   "id": "1c169e7d",
   "metadata": {},
   "source": [
    "Because we are using the holdout data as our test data, we have no need to split or data further. We are dealing with time-series data and our test data follows our train chronologically."
   ]
  },
  {
   "cell_type": "code",
   "execution_count": 8,
   "id": "55b2e353",
   "metadata": {},
   "outputs": [
    {
     "name": "stdout",
     "output_type": "stream",
     "text": [
      "The last day in our train data is 2014-07-31\n"
     ]
    }
   ],
   "source": [
    "print(f\"The last day in our train data is {merged_data['Date'].max()}\")"
   ]
  },
  {
   "cell_type": "code",
   "execution_count": 9,
   "id": "300eaea6",
   "metadata": {},
   "outputs": [
    {
     "name": "stdout",
     "output_type": "stream",
     "text": [
      "The first day in our test data is 2014-08-01\n"
     ]
    }
   ],
   "source": [
    "print(f\"The first day in our test data is {merged_holdout_data['Date'].min()}\")"
   ]
  },
  {
   "cell_type": "markdown",
   "id": "14b85ea4",
   "metadata": {},
   "source": [
    "We do need to split our feature and target data."
   ]
  },
  {
   "cell_type": "code",
   "execution_count": 10,
   "id": "0650ad75",
   "metadata": {},
   "outputs": [],
   "source": [
    "X_train = merged_data.loc[:, ~merged_data.columns.isin([\"Sales\"])]\n",
    "y_train = merged_data.loc[:, \"Sales\"]\n",
    "\n",
    "X_test = merged_holdout_data.loc[:, ~merged_holdout_data.columns.isin([\"Sales\"])]\n",
    "y_test = merged_holdout_data.loc[:, \"Sales\"]"
   ]
  },
  {
   "cell_type": "markdown",
   "id": "6c553c4c",
   "metadata": {},
   "source": [
    "Splitting results."
   ]
  },
  {
   "cell_type": "code",
   "execution_count": 11,
   "id": "1fa88da8",
   "metadata": {
    "scrolled": true
   },
   "outputs": [
    {
     "name": "stdout",
     "output_type": "stream",
     "text": [
      "Our train set has 512956 samples\n",
      "Our test set has 315540 samples\n"
     ]
    }
   ],
   "source": [
    "print(f\"Our train set has {len(X_train)} samples\")\n",
    "print(f\"Our test set has {len(X_test)} samples\")"
   ]
  },
  {
   "cell_type": "markdown",
   "id": "cf21e03e",
   "metadata": {},
   "source": [
    "## Data profiling"
   ]
  },
  {
   "cell_type": "markdown",
   "id": "86db13fe",
   "metadata": {},
   "source": [
    "The cell below is commented out for faster running of this notebook. The resulting profile report can be found by following the link below:\n",
    "\n",
    "**[Rossmann profile report](files/rossmann_profile_report.html)**"
   ]
  },
  {
   "cell_type": "code",
   "execution_count": 12,
   "id": "87d8ff25",
   "metadata": {},
   "outputs": [],
   "source": [
    "# profile = ProfileReport(X_train)\n",
    "# profile.to_file(output_file=\"rossmann_profile_report.html\")"
   ]
  },
  {
   "cell_type": "markdown",
   "id": "b1d7c9ca",
   "metadata": {},
   "source": [
    "## Feature engineering"
   ]
  },
  {
   "cell_type": "markdown",
   "id": "3b0cd147",
   "metadata": {},
   "source": [
    "<font color='red'>It would be good to check amount of features missing per sample. If more than 50%, try dropping entire row.</font>\n",
    "\n",
    "<font color='red'>It would be good to check for outliers.</font>\n",
    "\n",
    "For each feature we applied the following changes:\n",
    "\n",
    "**Date**\n",
    "* Split feature into four features: year, month, day of week. A week-feature would have high correlation with a month-feature and is therefore not desired.\n",
    "* Encode month, week, and day of week with sine+cosine for circularity\n",
    "* Drop the original feature\n",
    "\n",
    "**DayOfWeek**\n",
    "* Drop feature, will be replaced with values derived from Date\n",
    "\n",
    "**Store**\n",
    "* Applying target encoding\n",
    "* Consideration of frequency encoding, depending on success of target encoding. May be changed after first tests.\n",
    "\n",
    "<font color='red'>Should we still test frequency encoding? Or do we change this wording? \"Target encoding proved very successful and gave this feature the highest importance in a single RandomForestRegressor.\"</font>\n",
    "\n",
    "**Open**\n",
    "* Two values available: 1 (True) and NaN. Therefore using zero imputation.\n",
    "* If feature turns out to be unimportant (likely with ~3% NaNs), drop feature after first tests\n",
    "\n",
    "<font color='red'>Are we dropping it?</font>\n",
    "\n",
    "**Promo**\n",
    "* Mode imputing ~3% of NaNs\n",
    "\n",
    "**StateHoliday**\n",
    "* Four categories\n",
    "* Category 0.0 needs to be changed to \"0\"\n",
    "* Mode imputing ~3% of NaNs\n",
    "* Apply ordinal encoding because number of stores open is in goes in descending order: 0>a>b>c. This likely reflects overall store opening in the nation.\n",
    "\n",
    "<font color='red'>It could be nice to check if a specific StoreType is open more often on StateHolidays or not.</font>\n",
    "\n",
    "**SchoolHoliday**\n",
    "* Mode imputing ~3% of NaNs\n",
    "\n",
    "**StoreType**\n",
    "* Mode imputing ~3%\n",
    "* Ordinal encoding because 4 models, a-d, may very well relate to store size, e.g., large shopping mall store vs. small train station store.\n",
    "\n",
    "**Assortment**\n",
    "* Mode imputing ~3%\n",
    "* Apply ordinal encoding because assortment is an ordinate: a = basic, b = extra, c = extended    \n",
    "    \n",
    "**CompetitionDistance**\n",
    "* Applying median imputation to ~3% missing values\n",
    "\n",
    "**CompetitionOpenSinceMonth** and **CompetitionOpenSinceYear**\n",
    "* Merge and create new feature, giving temporal distance in days from sales date, and drop the original features\n",
    "* Set negative days, i.e., days before competition opened, to 0\n",
    "* First imputation: set NaNs to -1\n",
    "\n",
    "<font color='red'>These last two points could be edited: add a True/False feature for missing values/negative days vs. SalesCompetitionLag</font>\n",
    "\n",
    "**Promo2**\n",
    "* Mode imputing ~3%\n",
    "* All 1s (True) also have other information on Promo2\n",
    "* When there is a NaN there is no information on a possible promotion. Though a promotion is not likely and 0 imputation could be good, we still choose mode imputation due to a lack of information.\n",
    "\n",
    "**Promo2SinceWeek** and **Promo2SinceYear**\n",
    "* Merge and create new feature, giving temporal distance in days from sales date, and drop the original features\n",
    "* Set negative days, i.e., days before Promo2 started, to 0\n",
    "* First imputation: set NaNs to -1\n",
    "\n",
    "<font color='red'>Imputation of Stores not participating in Promo2 is caught by the boolean from the Promo2 feature. However, the last two points could be edited: add a True/False feature for missing values/negative days vs. Promo2Lag</font>\n",
    "\n",
    "**PromoInterval**\n",
    "* Mode imputed\n",
    "* Apply one-hot encoding\n",
    "\n",
    "<font color='red'>Same as Promo2SinceWeek and Promo2SinceYear. Would again be good to catch NaNs with the Promo2 feature</font>\n",
    "\n",
    "<font color='red'>Or are we dropping this feature entirely?</font>"
   ]
  },
  {
   "cell_type": "markdown",
   "id": "893b7db4",
   "metadata": {},
   "source": [
    "## Impute missing values"
   ]
  },
  {
   "cell_type": "markdown",
   "id": "37b47d76",
   "metadata": {},
   "source": [
    "Following the considerations and strategies above, we first impute missing values."
   ]
  },
  {
   "cell_type": "code",
   "execution_count": 13,
   "id": "d3fefde3",
   "metadata": {},
   "outputs": [],
   "source": [
    "imp = Imputer()\n",
    "imp.define_imputers()\n",
    "imp.fit(X_train)\n",
    "X_train_transf = imp.transform_reconstruct(X_train)\n",
    "X_test_transf = imp.transform_reconstruct(X_test)"
   ]
  },
  {
   "cell_type": "markdown",
   "id": "3f0c0e23",
   "metadata": {},
   "source": [
    "## Clean data"
   ]
  },
  {
   "cell_type": "markdown",
   "id": "1145478b",
   "metadata": {},
   "source": [
    "With most values imputed, we follow the above considerations and strategies for further cleaning"
   ]
  },
  {
   "cell_type": "code",
   "execution_count": 14,
   "id": "d44c2c4c",
   "metadata": {},
   "outputs": [],
   "source": [
    "clnr = Cleaner()\n",
    "clnr.clean(X_train_transf)\n",
    "X_train_clean = clnr.data\n",
    "X_train_clean_dates = clnr.dates\n",
    "\n",
    "clnr = Cleaner()\n",
    "clnr.clean(X_test_transf)\n",
    "X_test_clean = clnr.data\n",
    "X_test_clean_dates = clnr.dates"
   ]
  },
  {
   "cell_type": "markdown",
   "id": "86b88a0a",
   "metadata": {},
   "source": [
    "## Visualization of cleaned data"
   ]
  },
  {
   "cell_type": "markdown",
   "id": "cfc76104",
   "metadata": {},
   "source": [
    "After the above steps, our data looks as follows."
   ]
  },
  {
   "cell_type": "code",
   "execution_count": 15,
   "id": "c3092719",
   "metadata": {
    "scrolled": true
   },
   "outputs": [
    {
     "data": {
      "text/html": [
       "<div>\n",
       "<style scoped>\n",
       "    .dataframe tbody tr th:only-of-type {\n",
       "        vertical-align: middle;\n",
       "    }\n",
       "\n",
       "    .dataframe tbody tr th {\n",
       "        vertical-align: top;\n",
       "    }\n",
       "\n",
       "    .dataframe thead th {\n",
       "        text-align: right;\n",
       "    }\n",
       "</style>\n",
       "<table border=\"1\" class=\"dataframe\">\n",
       "  <thead>\n",
       "    <tr style=\"text-align: right;\">\n",
       "      <th></th>\n",
       "      <th>Store</th>\n",
       "      <th>Open</th>\n",
       "      <th>Promo</th>\n",
       "      <th>StateHoliday</th>\n",
       "      <th>SchoolHoliday</th>\n",
       "      <th>StoreType</th>\n",
       "      <th>Assortment</th>\n",
       "      <th>CompetitionDistance</th>\n",
       "      <th>Promo2</th>\n",
       "      <th>PromoInterval</th>\n",
       "      <th>Year</th>\n",
       "      <th>Month_sin</th>\n",
       "      <th>Month_cos</th>\n",
       "      <th>Weekday_sin</th>\n",
       "      <th>Weekday_cos</th>\n",
       "      <th>SalesCompetitionLag</th>\n",
       "      <th>Promo2Lag</th>\n",
       "    </tr>\n",
       "  </thead>\n",
       "  <tbody>\n",
       "    <tr>\n",
       "      <th>489092</th>\n",
       "      <td>1100</td>\n",
       "      <td>1.0</td>\n",
       "      <td>1.0</td>\n",
       "      <td>0</td>\n",
       "      <td>0.0</td>\n",
       "      <td>a</td>\n",
       "      <td>a</td>\n",
       "      <td>540.0</td>\n",
       "      <td>1.0</td>\n",
       "      <td>Jan,Apr,Jul,Oct</td>\n",
       "      <td>2014</td>\n",
       "      <td>-5.000000e-01</td>\n",
       "      <td>-8.660254e-01</td>\n",
       "      <td>0.017213</td>\n",
       "      <td>0.999852</td>\n",
       "      <td>-1.0</td>\n",
       "      <td>1185.0</td>\n",
       "    </tr>\n",
       "    <tr>\n",
       "      <th>294287</th>\n",
       "      <td>479</td>\n",
       "      <td>1.0</td>\n",
       "      <td>0.0</td>\n",
       "      <td>0</td>\n",
       "      <td>0.0</td>\n",
       "      <td>a</td>\n",
       "      <td>a</td>\n",
       "      <td>320.0</td>\n",
       "      <td>1.0</td>\n",
       "      <td>Feb,May,Aug,Nov</td>\n",
       "      <td>2013</td>\n",
       "      <td>-5.000000e-01</td>\n",
       "      <td>8.660254e-01</td>\n",
       "      <td>0.085965</td>\n",
       "      <td>0.996298</td>\n",
       "      <td>2914.0</td>\n",
       "      <td>1000.0</td>\n",
       "    </tr>\n",
       "    <tr>\n",
       "      <th>466020</th>\n",
       "      <td>1024</td>\n",
       "      <td>1.0</td>\n",
       "      <td>1.0</td>\n",
       "      <td>0</td>\n",
       "      <td>0.0</td>\n",
       "      <td>c</td>\n",
       "      <td>c</td>\n",
       "      <td>1990.0</td>\n",
       "      <td>0.0</td>\n",
       "      <td>Jan,Apr,Jul,Oct</td>\n",
       "      <td>2014</td>\n",
       "      <td>1.224647e-16</td>\n",
       "      <td>-1.000000e+00</td>\n",
       "      <td>0.034422</td>\n",
       "      <td>0.999407</td>\n",
       "      <td>885.0</td>\n",
       "      <td>-1.0</td>\n",
       "    </tr>\n",
       "    <tr>\n",
       "      <th>279788</th>\n",
       "      <td>679</td>\n",
       "      <td>1.0</td>\n",
       "      <td>1.0</td>\n",
       "      <td>0</td>\n",
       "      <td>0.0</td>\n",
       "      <td>a</td>\n",
       "      <td>a</td>\n",
       "      <td>4140.0</td>\n",
       "      <td>0.0</td>\n",
       "      <td>Jan,Apr,Jul,Oct</td>\n",
       "      <td>2013</td>\n",
       "      <td>-5.000000e-01</td>\n",
       "      <td>8.660254e-01</td>\n",
       "      <td>0.051620</td>\n",
       "      <td>0.998667</td>\n",
       "      <td>432.0</td>\n",
       "      <td>-1.0</td>\n",
       "    </tr>\n",
       "    <tr>\n",
       "      <th>204681</th>\n",
       "      <td>723</td>\n",
       "      <td>1.0</td>\n",
       "      <td>1.0</td>\n",
       "      <td>0</td>\n",
       "      <td>1.0</td>\n",
       "      <td>d</td>\n",
       "      <td>c</td>\n",
       "      <td>5650.0</td>\n",
       "      <td>1.0</td>\n",
       "      <td>Feb,May,Aug,Nov</td>\n",
       "      <td>2013</td>\n",
       "      <td>-8.660254e-01</td>\n",
       "      <td>-5.000000e-01</td>\n",
       "      <td>0.068802</td>\n",
       "      <td>0.997630</td>\n",
       "      <td>1810.0</td>\n",
       "      <td>194.0</td>\n",
       "    </tr>\n",
       "    <tr>\n",
       "      <th>263877</th>\n",
       "      <td>162</td>\n",
       "      <td>1.0</td>\n",
       "      <td>1.0</td>\n",
       "      <td>0</td>\n",
       "      <td>1.0</td>\n",
       "      <td>d</td>\n",
       "      <td>c</td>\n",
       "      <td>5340.0</td>\n",
       "      <td>1.0</td>\n",
       "      <td>Jan,Apr,Jul,Oct</td>\n",
       "      <td>2013</td>\n",
       "      <td>-8.660254e-01</td>\n",
       "      <td>5.000000e-01</td>\n",
       "      <td>0.000000</td>\n",
       "      <td>1.000000</td>\n",
       "      <td>599.0</td>\n",
       "      <td>1303.0</td>\n",
       "    </tr>\n",
       "    <tr>\n",
       "      <th>233439</th>\n",
       "      <td>202</td>\n",
       "      <td>1.0</td>\n",
       "      <td>0.0</td>\n",
       "      <td>0</td>\n",
       "      <td>0.0</td>\n",
       "      <td>d</td>\n",
       "      <td>c</td>\n",
       "      <td>5140.0</td>\n",
       "      <td>0.0</td>\n",
       "      <td>Jan,Apr,Jul,Oct</td>\n",
       "      <td>2013</td>\n",
       "      <td>-1.000000e+00</td>\n",
       "      <td>-1.836970e-16</td>\n",
       "      <td>0.017213</td>\n",
       "      <td>0.999852</td>\n",
       "      <td>1235.0</td>\n",
       "      <td>-1.0</td>\n",
       "    </tr>\n",
       "  </tbody>\n",
       "</table>\n",
       "</div>"
      ],
      "text/plain": [
       "        Store  Open  Promo StateHoliday  SchoolHoliday StoreType Assortment  \\\n",
       "489092   1100   1.0    1.0            0            0.0         a          a   \n",
       "294287    479   1.0    0.0            0            0.0         a          a   \n",
       "466020   1024   1.0    1.0            0            0.0         c          c   \n",
       "279788    679   1.0    1.0            0            0.0         a          a   \n",
       "204681    723   1.0    1.0            0            1.0         d          c   \n",
       "263877    162   1.0    1.0            0            1.0         d          c   \n",
       "233439    202   1.0    0.0            0            0.0         d          c   \n",
       "\n",
       "        CompetitionDistance  Promo2    PromoInterval  Year     Month_sin  \\\n",
       "489092                540.0     1.0  Jan,Apr,Jul,Oct  2014 -5.000000e-01   \n",
       "294287                320.0     1.0  Feb,May,Aug,Nov  2013 -5.000000e-01   \n",
       "466020               1990.0     0.0  Jan,Apr,Jul,Oct  2014  1.224647e-16   \n",
       "279788               4140.0     0.0  Jan,Apr,Jul,Oct  2013 -5.000000e-01   \n",
       "204681               5650.0     1.0  Feb,May,Aug,Nov  2013 -8.660254e-01   \n",
       "263877               5340.0     1.0  Jan,Apr,Jul,Oct  2013 -8.660254e-01   \n",
       "233439               5140.0     0.0  Jan,Apr,Jul,Oct  2013 -1.000000e+00   \n",
       "\n",
       "           Month_cos  Weekday_sin  Weekday_cos  SalesCompetitionLag  Promo2Lag  \n",
       "489092 -8.660254e-01     0.017213     0.999852                 -1.0     1185.0  \n",
       "294287  8.660254e-01     0.085965     0.996298               2914.0     1000.0  \n",
       "466020 -1.000000e+00     0.034422     0.999407                885.0       -1.0  \n",
       "279788  8.660254e-01     0.051620     0.998667                432.0       -1.0  \n",
       "204681 -5.000000e-01     0.068802     0.997630               1810.0      194.0  \n",
       "263877  5.000000e-01     0.000000     1.000000                599.0     1303.0  \n",
       "233439 -1.836970e-16     0.017213     0.999852               1235.0       -1.0  "
      ]
     },
     "execution_count": 15,
     "metadata": {},
     "output_type": "execute_result"
    }
   ],
   "source": [
    "X_train_clean.sample(7)"
   ]
  },
  {
   "cell_type": "markdown",
   "id": "d2066a92",
   "metadata": {},
   "source": [
    "<font color='red'>It would be good to add some visualizations here.</font>\n",
    "\n",
    "<font color='red'>Examples could be the time series with special highlights going to periods with high sales (e.g., Christmas)</font>"
   ]
  },
  {
   "cell_type": "markdown",
   "id": "7cf3fe6d",
   "metadata": {},
   "source": [
    "# Modeling"
   ]
  },
  {
   "cell_type": "markdown",
   "id": "5ed89670",
   "metadata": {},
   "source": [
    "## Performance metric"
   ]
  },
  {
   "cell_type": "markdown",
   "id": "5074c288",
   "metadata": {},
   "source": [
    "The function below calculates our model performance."
   ]
  },
  {
   "cell_type": "code",
   "execution_count": 16,
   "id": "034aee1f",
   "metadata": {},
   "outputs": [],
   "source": [
    "def metric(preds, actuals):\n",
    "    preds = preds.reshape(-1)\n",
    "    actuals = actuals.values.reshape(-1)\n",
    "    assert preds.shape == actuals.shape\n",
    "    return 100 * np.linalg.norm((actuals - preds) / actuals) / np.sqrt(preds.shape[0])"
   ]
  },
  {
   "cell_type": "markdown",
   "id": "6ffd138b",
   "metadata": {},
   "source": [
    "## <font color='red'>Baseline performance</font>"
   ]
  },
  {
   "cell_type": "code",
   "execution_count": 17,
   "id": "9056afb6",
   "metadata": {},
   "outputs": [],
   "source": [
    "# We can get the average sales per store in the following way"
   ]
  },
  {
   "cell_type": "markdown",
   "id": "60e771ff",
   "metadata": {},
   "source": [
    "## Begin pipeline"
   ]
  },
  {
   "cell_type": "markdown",
   "id": "a49982f4",
   "metadata": {},
   "source": [
    "We start with building a base-pipeline on which we can build our models. This base pipeline takes care of data encoding."
   ]
  },
  {
   "cell_type": "code",
   "execution_count": 18,
   "id": "adb50e85",
   "metadata": {},
   "outputs": [],
   "source": [
    "def create_pipeline():\n",
    "    pipe = Pipeline([\n",
    "        (\"target_encoder\", TargetEncoder(cols=\"Store\")),\n",
    "        (\"ordinal_encoder\", OrdinalEncoder(cols=[\"StateHoliday\", \"StoreType\", \"Assortment\"])),\n",
    "        (\"one_hot_encoder\", OneHotEncoder(cols=[\"PromoInterval\"])),\n",
    "    ], verbose=True)\n",
    "    return pipe"
   ]
  },
  {
   "cell_type": "markdown",
   "id": "2b0dbec5",
   "metadata": {},
   "source": [
    "## Random forest"
   ]
  },
  {
   "cell_type": "markdown",
   "id": "b0691e25",
   "metadata": {},
   "source": [
    "In a large parameter space of n_estimators, max_depth, and min_samples_split we found the following train and test scores."
   ]
  },
  {
   "cell_type": "markdown",
   "id": "3cbb3346",
   "metadata": {},
   "source": [
    "<font color='red'>INSERT TABLE HERE</font>"
   ]
  },
  {
   "cell_type": "markdown",
   "id": "12e1b128",
   "metadata": {},
   "source": [
    "To speed up running of this notebook we removed the full parameter space exploration. We only optimize the min_samples_split further in the cell below."
   ]
  },
  {
   "cell_type": "code",
   "execution_count": 22,
   "id": "40d8b8a7",
   "metadata": {
    "scrolled": true
   },
   "outputs": [
    {
     "name": "stdout",
     "output_type": "stream",
     "text": [
      "[Pipeline] .... (step 1 of 4) Processing target_encoder, total=   0.3s\n",
      "[Pipeline] ... (step 2 of 4) Processing ordinal_encoder, total=   0.3s\n",
      "[Pipeline] ... (step 3 of 4) Processing one_hot_encoder, total=   0.5s\n"
     ]
    },
    {
     "name": "stderr",
     "output_type": "stream",
     "text": [
      "[Parallel(n_jobs=-1)]: Using backend ThreadingBackend with 8 concurrent workers.\n",
      "[Parallel(n_jobs=-1)]: Done  34 tasks      | elapsed:   32.2s\n",
      "[Parallel(n_jobs=-1)]: Done 184 tasks      | elapsed:  2.3min\n",
      "[Parallel(n_jobs=-1)]: Done 434 tasks      | elapsed:  5.0min\n",
      "[Parallel(n_jobs=-1)]: Done 512 out of 512 | elapsed:  5.7min finished\n"
     ]
    },
    {
     "name": "stdout",
     "output_type": "stream",
     "text": [
      "[Pipeline] ............... (step 4 of 4) Processing rfr, total= 5.7min\n"
     ]
    },
    {
     "name": "stderr",
     "output_type": "stream",
     "text": [
      "[Parallel(n_jobs=8)]: Using backend ThreadingBackend with 8 concurrent workers.\n",
      "[Parallel(n_jobs=8)]: Done  34 tasks      | elapsed:    0.8s\n",
      "[Parallel(n_jobs=8)]: Done 184 tasks      | elapsed:    3.6s\n",
      "[Parallel(n_jobs=8)]: Done 434 tasks      | elapsed:    8.5s\n",
      "[Parallel(n_jobs=8)]: Done 512 out of 512 | elapsed:   10.0s finished\n",
      "[Parallel(n_jobs=8)]: Using backend ThreadingBackend with 8 concurrent workers.\n",
      "[Parallel(n_jobs=8)]: Done  34 tasks      | elapsed:    0.4s\n",
      "[Parallel(n_jobs=8)]: Done 184 tasks      | elapsed:    2.1s\n",
      "[Parallel(n_jobs=8)]: Done 434 tasks      | elapsed:    4.8s\n",
      "[Parallel(n_jobs=8)]: Done 512 out of 512 | elapsed:    5.7s finished\n"
     ]
    },
    {
     "ename": "NameError",
     "evalue": "name 'validation_score' is not defined",
     "output_type": "error",
     "traceback": [
      "\u001b[0;31m---------------------------------------------------------------------------\u001b[0m",
      "\u001b[0;31mNameError\u001b[0m                                 Traceback (most recent call last)",
      "\u001b[0;32m/var/folders/7h/r4bs9xgs6c70f9gzgyw_bj2r0000gn/T/ipykernel_23670/1126792092.py\u001b[0m in \u001b[0;36m<module>\u001b[0;34m\u001b[0m\n\u001b[1;32m     31\u001b[0m                 \u001b[0;34m\"min_samples_split\"\u001b[0m\u001b[0;34m:\u001b[0m \u001b[0mmss\u001b[0m\u001b[0;34m,\u001b[0m\u001b[0;34m\u001b[0m\u001b[0;34m\u001b[0m\u001b[0m\n\u001b[1;32m     32\u001b[0m                 \u001b[0;34m\"train_score\"\u001b[0m\u001b[0;34m:\u001b[0m \u001b[0mtrain_score\u001b[0m\u001b[0;34m,\u001b[0m\u001b[0;34m\u001b[0m\u001b[0;34m\u001b[0m\u001b[0m\n\u001b[0;32m---> 33\u001b[0;31m                 \u001b[0;34m\"validation_score\"\u001b[0m\u001b[0;34m:\u001b[0m \u001b[0mvalidation_score\u001b[0m\u001b[0;34m,\u001b[0m\u001b[0;34m\u001b[0m\u001b[0;34m\u001b[0m\u001b[0m\n\u001b[0m\u001b[1;32m     34\u001b[0m             }), ignore_index=True)\n\u001b[1;32m     35\u001b[0m \u001b[0;34m\u001b[0m\u001b[0m\n",
      "\u001b[0;31mNameError\u001b[0m: name 'validation_score' is not defined"
     ]
    }
   ],
   "source": [
    "n_estimators = [256, 512]\n",
    "max_depth = [16, 32]\n",
    "min_samples_split = [100, 200, 500]\n",
    "\n",
    "params = pd.DataFrame()\n",
    "best_test_score = np.inf\n",
    "for ne in n_estimators:\n",
    "    for md in max_depth:\n",
    "        for mss in min_samples_split:\n",
    "            rfr = RandomForestRegressor(\n",
    "                n_estimators=ne,\n",
    "                max_depth=md,\n",
    "                min_samples_split=mss,\n",
    "                n_jobs=-1,\n",
    "                verbose=1,\n",
    "            )\n",
    "\n",
    "            pipe = create_pipeline()\n",
    "\n",
    "            pipe.steps.append(['rfr', rfr])\n",
    "            pipe.fit(X_train_clean, y_train)\n",
    "\n",
    "            y_pred_train = pipe.predict(X_train_clean)\n",
    "            y_pred_test = pipe.predict(X_test_clean)\n",
    "            train_score = metric(y_pred_train, y_train)\n",
    "            test_score = metric(y_pred_test, y_test)\n",
    "\n",
    "            params = params.append(pd.Series({\n",
    "                \"n_estimators\": ne,\n",
    "                \"max_depth\": md,\n",
    "                \"min_samples_split\": mss,\n",
    "                \"train_score\": train_score,\n",
    "                \"test_score\": test_score,\n",
    "            }), ignore_index=True)\n",
    "            \n",
    "            if test_score < best_test_score:\n",
    "                best_model = pipe\n"
   ]
  },
  {
   "cell_type": "markdown",
   "id": "3e418197",
   "metadata": {},
   "source": [
    "## Best model"
   ]
  },
  {
   "cell_type": "markdown",
   "id": "fd9a2c33",
   "metadata": {},
   "source": [
    "Given these parameters, the best random forest regressor has model parameters\n",
    "\n",
    "    n_estimators = 512\n",
    "    max_depth = 32\n",
    "    min_samples_split = [50, 100, 200, 500, 1000]\n",
    "\n",
    "For this model, we can see the feature importances as follows."
   ]
  },
  {
   "cell_type": "code",
   "execution_count": 24,
   "id": "264a7590",
   "metadata": {},
   "outputs": [
    {
     "name": "stdout",
     "output_type": "stream",
     "text": [
      "               features    values\n",
      "0                 Store  0.678505\n",
      "2                 Promo  0.155958\n",
      "15          Weekday_sin  0.031961\n",
      "14            Month_cos  0.031388\n",
      "16          Weekday_cos  0.030603\n",
      "7   CompetitionDistance  0.016726\n",
      "17  SalesCompetitionLag  0.013931\n",
      "18            Promo2Lag  0.008762\n",
      "5             StoreType  0.008699\n",
      "13            Month_sin  0.006690\n",
      "4         SchoolHoliday  0.005621\n",
      "12                 Year  0.003078\n",
      "6            Assortment  0.003028\n",
      "3          StateHoliday  0.001239\n",
      "8                Promo2  0.000972\n",
      "10      PromoInterval_2  0.000948\n",
      "9       PromoInterval_1  0.000714\n",
      "11      PromoInterval_3  0.000621\n",
      "1                  Open  0.000554\n"
     ]
    },
    {
     "data": {
      "image/png": "[encoded data removed]",
      "text/plain": [
       "<Figure size 432x288 with 1 Axes>"
      ]
     },
     "metadata": {
      "needs_background": "light"
     },
     "output_type": "display_data"
    }
   ],
   "source": [
    "importances = pd.DataFrame({\n",
    "    \"features\": best_model.steps[3][1].feature_names_in_,\n",
    "    \"values\": best_model.steps[3][1].feature_importances_,\n",
    "})\n",
    "\n",
    "print(importances.sort_values(by=\"values\", ascending=False))\n",
    "\n",
    "importances.set_index(\"features\").sort_values(by=\"values\", ascending=False).plot.barh()\n",
    "plt.show()"
   ]
  },
  {
   "cell_type": "code",
   "execution_count": null,
   "id": "8095473e",
   "metadata": {},
   "outputs": [],
   "source": []
  },
  {
   "cell_type": "code",
   "execution_count": null,
   "id": "e9e66d0a",
   "metadata": {},
   "outputs": [],
   "source": []
  },
  {
   "cell_type": "code",
   "execution_count": null,
   "id": "f8c7a2d9",
   "metadata": {},
   "outputs": [],
   "source": []
  },
  {
   "cell_type": "code",
   "execution_count": null,
   "id": "08dda666",
   "metadata": {},
   "outputs": [],
   "source": []
  },
  {
   "cell_type": "code",
   "execution_count": null,
   "id": "fbabbc77",
   "metadata": {},
   "outputs": [],
   "source": []
  },
  {
   "cell_type": "code",
   "execution_count": null,
   "id": "8871cb5b",
   "metadata": {},
   "outputs": [],
   "source": []
  },
  {
   "cell_type": "code",
   "execution_count": null,
   "id": "e5b4d9b3",
   "metadata": {},
   "outputs": [],
   "source": []
  },
  {
   "cell_type": "code",
   "execution_count": null,
   "id": "6647da25",
   "metadata": {},
   "outputs": [],
   "source": []
  },
  {
   "cell_type": "code",
   "execution_count": null,
   "id": "11692cc1",
   "metadata": {},
   "outputs": [],
   "source": []
  }
 ],
 "metadata": {
  "kernelspec": {
   "display_name": "Python 3 (ipykernel)",
   "language": "python",
   "name": "python3"
  },
  "language_info": {
   "codemirror_mode": {
    "name": "ipython",
    "version": 3
   },
   "file_extension": ".py",
   "mimetype": "text/x-python",
   "name": "python",
   "nbconvert_exporter": "python",
   "pygments_lexer": "ipython3",
   "version": "3.8.12"
  }
 },
 "nbformat": 4,
 "nbformat_minor": 5
}
