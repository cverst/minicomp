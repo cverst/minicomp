{
 "cells": [
  {
   "cell_type": "markdown",
   "id": "19bb7826",
   "metadata": {},
   "source": [
    "    Documentation\n",
    "    Visualizations\n",
    "\n",
    "    Regression model for comparison\n",
    "    RandomForest hyperparameters\n",
    "    XGBoost implementation and hyperparameters\n",
    "\n",
    "    (Train/validation cross validation implementation)"
   ]
  },
  {
   "cell_type": "markdown",
   "id": "50606e04",
   "metadata": {},
   "source": [
    "# Import libraries"
   ]
  },
  {
   "cell_type": "code",
   "execution_count": 1,
   "id": "76273743",
   "metadata": {
    "scrolled": true
   },
   "outputs": [],
   "source": [
    "# general\n",
    "import pandas as pd\n",
    "import numpy as np\n",
    "from pandas_profiling import ProfileReport\n",
    "# sklearn\n",
    "from sklearn.model_selection import train_test_split\n",
    "from sklearn.pipeline import Pipeline\n",
    "# encoders\n",
    "from category_encoders.target_encoder import TargetEncoder\n",
    "from category_encoders.ordinal import OrdinalEncoder\n",
    "from category_encoders.one_hot import OneHotEncoder\n",
    "# custom classes\n",
    "from preprocessing import Merger, Imputer, Cleaner"
   ]
  },
  {
   "cell_type": "markdown",
   "id": "097dc5ca",
   "metadata": {},
   "source": [
    "# Load data"
   ]
  },
  {
   "cell_type": "markdown",
   "id": "93aa7b24",
   "metadata": {},
   "source": [
    "Load data and take a look at what we have."
   ]
  },
  {
   "cell_type": "code",
   "execution_count": 2,
   "id": "8ffc0062",
   "metadata": {},
   "outputs": [
    {
     "name": "stderr",
     "output_type": "stream",
     "text": [
      "/Users/corstiaen/opt/anaconda3/envs/minicompenv/lib/python3.8/site-packages/IPython/core/interactiveshell.py:3444: DtypeWarning: Columns (7) have mixed types.Specify dtype option on import or set low_memory=False.\n",
      "  exec(code_obj, self.user_global_ns, self.user_ns)\n"
     ]
    }
   ],
   "source": [
    "store_data = pd.read_csv(\"./data/store.csv\")\n",
    "sales_data = pd.read_csv(\"./data/train.csv\")"
   ]
  },
  {
   "cell_type": "markdown",
   "id": "02712bec",
   "metadata": {},
   "source": [
    "# Merging tables"
   ]
  },
  {
   "cell_type": "code",
   "execution_count": 3,
   "id": "5672dbd5",
   "metadata": {},
   "outputs": [
    {
     "name": "stderr",
     "output_type": "stream",
     "text": [
      "/Users/corstiaen/opt/anaconda3/envs/minicompenv/lib/python3.8/site-packages/pandas/core/frame.py:4906: SettingWithCopyWarning: \n",
      "A value is trying to be set on a copy of a slice from a DataFrame\n",
      "\n",
      "See the caveats in the documentation: https://pandas.pydata.org/pandas-docs/stable/user_guide/indexing.html#returning-a-view-versus-a-copy\n",
      "  return super().drop(\n"
     ]
    }
   ],
   "source": [
    "mrg = Merger()\n",
    "mrg.merge(sales_data, store_data)\n",
    "merged_data = mrg.merged_data"
   ]
  },
  {
   "cell_type": "code",
   "execution_count": 4,
   "id": "416039f0",
   "metadata": {},
   "outputs": [
    {
     "name": "stdout",
     "output_type": "stream",
     "text": [
      "512956\n"
     ]
    },
    {
     "data": {
      "text/html": [
       "<div>\n",
       "<style scoped>\n",
       "    .dataframe tbody tr th:only-of-type {\n",
       "        vertical-align: middle;\n",
       "    }\n",
       "\n",
       "    .dataframe tbody tr th {\n",
       "        vertical-align: top;\n",
       "    }\n",
       "\n",
       "    .dataframe thead th {\n",
       "        text-align: right;\n",
       "    }\n",
       "</style>\n",
       "<table border=\"1\" class=\"dataframe\">\n",
       "  <thead>\n",
       "    <tr style=\"text-align: right;\">\n",
       "      <th></th>\n",
       "      <th>Date</th>\n",
       "      <th>Store</th>\n",
       "      <th>DayOfWeek</th>\n",
       "      <th>Sales</th>\n",
       "      <th>Open</th>\n",
       "      <th>Promo</th>\n",
       "      <th>StateHoliday</th>\n",
       "      <th>SchoolHoliday</th>\n",
       "      <th>StoreType</th>\n",
       "      <th>Assortment</th>\n",
       "      <th>CompetitionDistance</th>\n",
       "      <th>CompetitionOpenSinceMonth</th>\n",
       "      <th>CompetitionOpenSinceYear</th>\n",
       "      <th>Promo2</th>\n",
       "      <th>Promo2SinceWeek</th>\n",
       "      <th>Promo2SinceYear</th>\n",
       "      <th>PromoInterval</th>\n",
       "    </tr>\n",
       "  </thead>\n",
       "  <tbody>\n",
       "    <tr>\n",
       "      <th>0</th>\n",
       "      <td>2013-01-01</td>\n",
       "      <td>353</td>\n",
       "      <td>2.0</td>\n",
       "      <td>3139.0</td>\n",
       "      <td>1.0</td>\n",
       "      <td>0.0</td>\n",
       "      <td>a</td>\n",
       "      <td>1.0</td>\n",
       "      <td>b</td>\n",
       "      <td>b</td>\n",
       "      <td>900.0</td>\n",
       "      <td>NaN</td>\n",
       "      <td>NaN</td>\n",
       "      <td>1.0</td>\n",
       "      <td>14.0</td>\n",
       "      <td>2013.0</td>\n",
       "      <td>Feb,May,Aug,Nov</td>\n",
       "    </tr>\n",
       "    <tr>\n",
       "      <th>1</th>\n",
       "      <td>2013-01-01</td>\n",
       "      <td>335</td>\n",
       "      <td>2.0</td>\n",
       "      <td>2401.0</td>\n",
       "      <td>1.0</td>\n",
       "      <td>0.0</td>\n",
       "      <td>a</td>\n",
       "      <td>1.0</td>\n",
       "      <td>b</td>\n",
       "      <td>a</td>\n",
       "      <td>90.0</td>\n",
       "      <td>NaN</td>\n",
       "      <td>NaN</td>\n",
       "      <td>1.0</td>\n",
       "      <td>31.0</td>\n",
       "      <td>2013.0</td>\n",
       "      <td>Jan,Apr,Jul,Oct</td>\n",
       "    </tr>\n",
       "    <tr>\n",
       "      <th>2</th>\n",
       "      <td>2013-01-01</td>\n",
       "      <td>512</td>\n",
       "      <td>2.0</td>\n",
       "      <td>2646.0</td>\n",
       "      <td>1.0</td>\n",
       "      <td>0.0</td>\n",
       "      <td>a</td>\n",
       "      <td>1.0</td>\n",
       "      <td>b</td>\n",
       "      <td>b</td>\n",
       "      <td>590.0</td>\n",
       "      <td>NaN</td>\n",
       "      <td>NaN</td>\n",
       "      <td>1.0</td>\n",
       "      <td>5.0</td>\n",
       "      <td>2013.0</td>\n",
       "      <td>Mar,Jun,Sept,Dec</td>\n",
       "    </tr>\n",
       "    <tr>\n",
       "      <th>3</th>\n",
       "      <td>2013-01-01</td>\n",
       "      <td>494</td>\n",
       "      <td>2.0</td>\n",
       "      <td>3113.0</td>\n",
       "      <td>1.0</td>\n",
       "      <td>0.0</td>\n",
       "      <td>a</td>\n",
       "      <td>1.0</td>\n",
       "      <td>b</td>\n",
       "      <td>a</td>\n",
       "      <td>1260.0</td>\n",
       "      <td>6.0</td>\n",
       "      <td>2011.0</td>\n",
       "      <td>0.0</td>\n",
       "      <td>NaN</td>\n",
       "      <td>NaN</td>\n",
       "      <td>NaN</td>\n",
       "    </tr>\n",
       "    <tr>\n",
       "      <th>4</th>\n",
       "      <td>2013-01-01</td>\n",
       "      <td>530</td>\n",
       "      <td>2.0</td>\n",
       "      <td>2907.0</td>\n",
       "      <td>1.0</td>\n",
       "      <td>0.0</td>\n",
       "      <td>a</td>\n",
       "      <td>1.0</td>\n",
       "      <td>a</td>\n",
       "      <td>c</td>\n",
       "      <td>18160.0</td>\n",
       "      <td>NaN</td>\n",
       "      <td>NaN</td>\n",
       "      <td>0.0</td>\n",
       "      <td>NaN</td>\n",
       "      <td>NaN</td>\n",
       "      <td>NaN</td>\n",
       "    </tr>\n",
       "  </tbody>\n",
       "</table>\n",
       "</div>"
      ],
      "text/plain": [
       "         Date  Store  DayOfWeek   Sales  Open  Promo StateHoliday  \\\n",
       "0  2013-01-01    353        2.0  3139.0   1.0    0.0            a   \n",
       "1  2013-01-01    335        2.0  2401.0   1.0    0.0            a   \n",
       "2  2013-01-01    512        2.0  2646.0   1.0    0.0            a   \n",
       "3  2013-01-01    494        2.0  3113.0   1.0    0.0            a   \n",
       "4  2013-01-01    530        2.0  2907.0   1.0    0.0            a   \n",
       "\n",
       "   SchoolHoliday StoreType Assortment  CompetitionDistance  \\\n",
       "0            1.0         b          b                900.0   \n",
       "1            1.0         b          a                 90.0   \n",
       "2            1.0         b          b                590.0   \n",
       "3            1.0         b          a               1260.0   \n",
       "4            1.0         a          c              18160.0   \n",
       "\n",
       "   CompetitionOpenSinceMonth  CompetitionOpenSinceYear  Promo2  \\\n",
       "0                        NaN                       NaN     1.0   \n",
       "1                        NaN                       NaN     1.0   \n",
       "2                        NaN                       NaN     1.0   \n",
       "3                        6.0                    2011.0     0.0   \n",
       "4                        NaN                       NaN     0.0   \n",
       "\n",
       "   Promo2SinceWeek  Promo2SinceYear     PromoInterval  \n",
       "0             14.0           2013.0   Feb,May,Aug,Nov  \n",
       "1             31.0           2013.0   Jan,Apr,Jul,Oct  \n",
       "2              5.0           2013.0  Mar,Jun,Sept,Dec  \n",
       "3              NaN              NaN               NaN  \n",
       "4              NaN              NaN               NaN  "
      ]
     },
     "execution_count": 4,
     "metadata": {},
     "output_type": "execute_result"
    }
   ],
   "source": [
    "print(len(merged_data))\n",
    "merged_data.head()"
   ]
  },
  {
   "cell_type": "code",
   "execution_count": null,
   "id": "3405be28",
   "metadata": {},
   "outputs": [],
   "source": []
  },
  {
   "cell_type": "markdown",
   "id": "2ee344df",
   "metadata": {},
   "source": [
    "# Splitting train, validation, and test sets"
   ]
  },
  {
   "cell_type": "markdown",
   "id": "1c169e7d",
   "metadata": {},
   "source": [
    "When using tree-based models we can use random splitting of the data:"
   ]
  },
  {
   "cell_type": "code",
   "execution_count": 5,
   "id": "d6ed24a0",
   "metadata": {},
   "outputs": [],
   "source": [
    "# X = merged_data.loc[:, ~merged_data.columns.isin([\"Sales\"])]\n",
    "# y = merged_data.loc[:, \"Sales\"]\n",
    "\n",
    "# X_train_valid, X_test, y_train_valid, y_test = train_test_split(\n",
    "#     X, y,\n",
    "#     random_state=42,\n",
    "#     train_size=.8,\n",
    "# )\n",
    "\n",
    "# X_train, X_validation, y_train, y_validation = train_test_split(\n",
    "#     X_train_valid,\n",
    "#     y_train_valid,\n",
    "#     random_state=42,\n",
    "#     train_size=.8,\n",
    "# )"
   ]
  },
  {
   "cell_type": "markdown",
   "id": "f7981dea",
   "metadata": {},
   "source": [
    "Splitting on time."
   ]
  },
  {
   "cell_type": "code",
   "execution_count": 6,
   "id": "55b2e353",
   "metadata": {},
   "outputs": [
    {
     "name": "stdout",
     "output_type": "stream",
     "text": [
      "The last day in our data is 2014-07-31\n"
     ]
    }
   ],
   "source": [
    "print(f\"The last day in our data is {merged_data['Date'].max()}\")"
   ]
  },
  {
   "cell_type": "code",
   "execution_count": 7,
   "id": "847ccd69",
   "metadata": {},
   "outputs": [],
   "source": [
    "test_date_split = '2014-04-31'\n",
    "validation_date_split = '2014-01-31'"
   ]
  },
  {
   "cell_type": "code",
   "execution_count": 8,
   "id": "01d4b4f3",
   "metadata": {},
   "outputs": [],
   "source": [
    "merged_data_train = merged_data.query(\"Date <= @validation_date_split\")\n",
    "merged_data_validation = merged_data.query(\"Date > @validation_date_split & Date <= @test_date_split\")\n",
    "merged_data_test = merged_data.query(\"Date > @test_date_split\")"
   ]
  },
  {
   "cell_type": "code",
   "execution_count": 9,
   "id": "0650ad75",
   "metadata": {},
   "outputs": [],
   "source": [
    "X_train = merged_data_train.loc[:, ~merged_data_train.columns.isin([\"Sales\"])]\n",
    "y_train = merged_data_train.loc[:, \"Sales\"]\n",
    "\n",
    "X_validation = merged_data_validation.loc[:, ~merged_data_validation.columns.isin([\"Sales\"])]\n",
    "y_validation = merged_data_validation.loc[:, \"Sales\"]\n",
    "\n",
    "X_test = merged_data_test.loc[:, ~merged_data_test.columns.isin([\"Sales\"])]\n",
    "y_test = merged_data_test.loc[:, \"Sales\"]"
   ]
  },
  {
   "cell_type": "markdown",
   "id": "6c553c4c",
   "metadata": {},
   "source": [
    "Splitting results."
   ]
  },
  {
   "cell_type": "code",
   "execution_count": 10,
   "id": "1fa88da8",
   "metadata": {
    "scrolled": true
   },
   "outputs": [
    {
     "name": "stdout",
     "output_type": "stream",
     "text": [
      "Our train set has 355654 samples\n",
      "Our validation set has 80183 samples\n",
      "Our test set has 77119 samples\n"
     ]
    },
    {
     "data": {
      "text/html": [
       "<div>\n",
       "<style scoped>\n",
       "    .dataframe tbody tr th:only-of-type {\n",
       "        vertical-align: middle;\n",
       "    }\n",
       "\n",
       "    .dataframe tbody tr th {\n",
       "        vertical-align: top;\n",
       "    }\n",
       "\n",
       "    .dataframe thead th {\n",
       "        text-align: right;\n",
       "    }\n",
       "</style>\n",
       "<table border=\"1\" class=\"dataframe\">\n",
       "  <thead>\n",
       "    <tr style=\"text-align: right;\">\n",
       "      <th></th>\n",
       "      <th>Date</th>\n",
       "      <th>Store</th>\n",
       "      <th>DayOfWeek</th>\n",
       "      <th>Open</th>\n",
       "      <th>Promo</th>\n",
       "      <th>StateHoliday</th>\n",
       "      <th>SchoolHoliday</th>\n",
       "      <th>StoreType</th>\n",
       "      <th>Assortment</th>\n",
       "      <th>CompetitionDistance</th>\n",
       "      <th>CompetitionOpenSinceMonth</th>\n",
       "      <th>CompetitionOpenSinceYear</th>\n",
       "      <th>Promo2</th>\n",
       "      <th>Promo2SinceWeek</th>\n",
       "      <th>Promo2SinceYear</th>\n",
       "      <th>PromoInterval</th>\n",
       "    </tr>\n",
       "  </thead>\n",
       "  <tbody>\n",
       "    <tr>\n",
       "      <th>0</th>\n",
       "      <td>2013-01-01</td>\n",
       "      <td>353</td>\n",
       "      <td>2.0</td>\n",
       "      <td>1.0</td>\n",
       "      <td>0.0</td>\n",
       "      <td>a</td>\n",
       "      <td>1.0</td>\n",
       "      <td>b</td>\n",
       "      <td>b</td>\n",
       "      <td>900.0</td>\n",
       "      <td>NaN</td>\n",
       "      <td>NaN</td>\n",
       "      <td>1.0</td>\n",
       "      <td>14.0</td>\n",
       "      <td>2013.0</td>\n",
       "      <td>Feb,May,Aug,Nov</td>\n",
       "    </tr>\n",
       "    <tr>\n",
       "      <th>1</th>\n",
       "      <td>2013-01-01</td>\n",
       "      <td>335</td>\n",
       "      <td>2.0</td>\n",
       "      <td>1.0</td>\n",
       "      <td>0.0</td>\n",
       "      <td>a</td>\n",
       "      <td>1.0</td>\n",
       "      <td>b</td>\n",
       "      <td>a</td>\n",
       "      <td>90.0</td>\n",
       "      <td>NaN</td>\n",
       "      <td>NaN</td>\n",
       "      <td>1.0</td>\n",
       "      <td>31.0</td>\n",
       "      <td>2013.0</td>\n",
       "      <td>Jan,Apr,Jul,Oct</td>\n",
       "    </tr>\n",
       "    <tr>\n",
       "      <th>2</th>\n",
       "      <td>2013-01-01</td>\n",
       "      <td>512</td>\n",
       "      <td>2.0</td>\n",
       "      <td>1.0</td>\n",
       "      <td>0.0</td>\n",
       "      <td>a</td>\n",
       "      <td>1.0</td>\n",
       "      <td>b</td>\n",
       "      <td>b</td>\n",
       "      <td>590.0</td>\n",
       "      <td>NaN</td>\n",
       "      <td>NaN</td>\n",
       "      <td>1.0</td>\n",
       "      <td>5.0</td>\n",
       "      <td>2013.0</td>\n",
       "      <td>Mar,Jun,Sept,Dec</td>\n",
       "    </tr>\n",
       "    <tr>\n",
       "      <th>3</th>\n",
       "      <td>2013-01-01</td>\n",
       "      <td>494</td>\n",
       "      <td>2.0</td>\n",
       "      <td>1.0</td>\n",
       "      <td>0.0</td>\n",
       "      <td>a</td>\n",
       "      <td>1.0</td>\n",
       "      <td>b</td>\n",
       "      <td>a</td>\n",
       "      <td>1260.0</td>\n",
       "      <td>6.0</td>\n",
       "      <td>2011.0</td>\n",
       "      <td>0.0</td>\n",
       "      <td>NaN</td>\n",
       "      <td>NaN</td>\n",
       "      <td>NaN</td>\n",
       "    </tr>\n",
       "    <tr>\n",
       "      <th>4</th>\n",
       "      <td>2013-01-01</td>\n",
       "      <td>530</td>\n",
       "      <td>2.0</td>\n",
       "      <td>1.0</td>\n",
       "      <td>0.0</td>\n",
       "      <td>a</td>\n",
       "      <td>1.0</td>\n",
       "      <td>a</td>\n",
       "      <td>c</td>\n",
       "      <td>18160.0</td>\n",
       "      <td>NaN</td>\n",
       "      <td>NaN</td>\n",
       "      <td>0.0</td>\n",
       "      <td>NaN</td>\n",
       "      <td>NaN</td>\n",
       "      <td>NaN</td>\n",
       "    </tr>\n",
       "  </tbody>\n",
       "</table>\n",
       "</div>"
      ],
      "text/plain": [
       "         Date  Store  DayOfWeek  Open  Promo StateHoliday  SchoolHoliday  \\\n",
       "0  2013-01-01    353        2.0   1.0    0.0            a            1.0   \n",
       "1  2013-01-01    335        2.0   1.0    0.0            a            1.0   \n",
       "2  2013-01-01    512        2.0   1.0    0.0            a            1.0   \n",
       "3  2013-01-01    494        2.0   1.0    0.0            a            1.0   \n",
       "4  2013-01-01    530        2.0   1.0    0.0            a            1.0   \n",
       "\n",
       "  StoreType Assortment  CompetitionDistance  CompetitionOpenSinceMonth  \\\n",
       "0         b          b                900.0                        NaN   \n",
       "1         b          a                 90.0                        NaN   \n",
       "2         b          b                590.0                        NaN   \n",
       "3         b          a               1260.0                        6.0   \n",
       "4         a          c              18160.0                        NaN   \n",
       "\n",
       "   CompetitionOpenSinceYear  Promo2  Promo2SinceWeek  Promo2SinceYear  \\\n",
       "0                       NaN     1.0             14.0           2013.0   \n",
       "1                       NaN     1.0             31.0           2013.0   \n",
       "2                       NaN     1.0              5.0           2013.0   \n",
       "3                    2011.0     0.0              NaN              NaN   \n",
       "4                       NaN     0.0              NaN              NaN   \n",
       "\n",
       "      PromoInterval  \n",
       "0   Feb,May,Aug,Nov  \n",
       "1   Jan,Apr,Jul,Oct  \n",
       "2  Mar,Jun,Sept,Dec  \n",
       "3               NaN  \n",
       "4               NaN  "
      ]
     },
     "execution_count": 10,
     "metadata": {},
     "output_type": "execute_result"
    }
   ],
   "source": [
    "print(f\"Our train set has {len(X_train)} samples\")\n",
    "print(f\"Our validation set has {len(X_validation)} samples\")\n",
    "print(f\"Our test set has {len(X_test)} samples\")\n",
    "X_train.head()"
   ]
  },
  {
   "cell_type": "markdown",
   "id": "893b7db4",
   "metadata": {},
   "source": [
    "# Impute missing values"
   ]
  },
  {
   "cell_type": "code",
   "execution_count": 11,
   "id": "d3fefde3",
   "metadata": {},
   "outputs": [],
   "source": [
    "imp = Imputer()\n",
    "imp.define_imputers()\n",
    "imp.fit(X_train)\n",
    "X_train_transf = imp.transform_reconstruct(X_train)\n",
    "X_test_transf = imp.transform_reconstruct(X_test)\n",
    "X_validation_transf = imp.transform_reconstruct(X_validation)"
   ]
  },
  {
   "cell_type": "code",
   "execution_count": 12,
   "id": "7198e014",
   "metadata": {},
   "outputs": [
    {
     "data": {
      "text/html": [
       "<div>\n",
       "<style scoped>\n",
       "    .dataframe tbody tr th:only-of-type {\n",
       "        vertical-align: middle;\n",
       "    }\n",
       "\n",
       "    .dataframe tbody tr th {\n",
       "        vertical-align: top;\n",
       "    }\n",
       "\n",
       "    .dataframe thead th {\n",
       "        text-align: right;\n",
       "    }\n",
       "</style>\n",
       "<table border=\"1\" class=\"dataframe\">\n",
       "  <thead>\n",
       "    <tr style=\"text-align: right;\">\n",
       "      <th></th>\n",
       "      <th>Date</th>\n",
       "      <th>Store</th>\n",
       "      <th>DayOfWeek</th>\n",
       "      <th>Open</th>\n",
       "      <th>Promo</th>\n",
       "      <th>StateHoliday</th>\n",
       "      <th>SchoolHoliday</th>\n",
       "      <th>StoreType</th>\n",
       "      <th>Assortment</th>\n",
       "      <th>CompetitionDistance</th>\n",
       "      <th>CompetitionOpenSinceMonth</th>\n",
       "      <th>CompetitionOpenSinceYear</th>\n",
       "      <th>Promo2</th>\n",
       "      <th>Promo2SinceWeek</th>\n",
       "      <th>Promo2SinceYear</th>\n",
       "      <th>PromoInterval</th>\n",
       "    </tr>\n",
       "  </thead>\n",
       "  <tbody>\n",
       "    <tr>\n",
       "      <th>0</th>\n",
       "      <td>2013-01-01</td>\n",
       "      <td>353</td>\n",
       "      <td>2.0</td>\n",
       "      <td>1.0</td>\n",
       "      <td>0.0</td>\n",
       "      <td>a</td>\n",
       "      <td>1.0</td>\n",
       "      <td>b</td>\n",
       "      <td>b</td>\n",
       "      <td>900.0</td>\n",
       "      <td>NaN</td>\n",
       "      <td>NaN</td>\n",
       "      <td>1.0</td>\n",
       "      <td>14.0</td>\n",
       "      <td>2013.0</td>\n",
       "      <td>Feb,May,Aug,Nov</td>\n",
       "    </tr>\n",
       "    <tr>\n",
       "      <th>1</th>\n",
       "      <td>2013-01-01</td>\n",
       "      <td>335</td>\n",
       "      <td>2.0</td>\n",
       "      <td>1.0</td>\n",
       "      <td>0.0</td>\n",
       "      <td>a</td>\n",
       "      <td>1.0</td>\n",
       "      <td>b</td>\n",
       "      <td>a</td>\n",
       "      <td>90.0</td>\n",
       "      <td>NaN</td>\n",
       "      <td>NaN</td>\n",
       "      <td>1.0</td>\n",
       "      <td>31.0</td>\n",
       "      <td>2013.0</td>\n",
       "      <td>Jan,Apr,Jul,Oct</td>\n",
       "    </tr>\n",
       "    <tr>\n",
       "      <th>2</th>\n",
       "      <td>2013-01-01</td>\n",
       "      <td>512</td>\n",
       "      <td>2.0</td>\n",
       "      <td>1.0</td>\n",
       "      <td>0.0</td>\n",
       "      <td>a</td>\n",
       "      <td>1.0</td>\n",
       "      <td>b</td>\n",
       "      <td>b</td>\n",
       "      <td>590.0</td>\n",
       "      <td>NaN</td>\n",
       "      <td>NaN</td>\n",
       "      <td>1.0</td>\n",
       "      <td>5.0</td>\n",
       "      <td>2013.0</td>\n",
       "      <td>Mar,Jun,Sept,Dec</td>\n",
       "    </tr>\n",
       "    <tr>\n",
       "      <th>3</th>\n",
       "      <td>2013-01-01</td>\n",
       "      <td>494</td>\n",
       "      <td>2.0</td>\n",
       "      <td>1.0</td>\n",
       "      <td>0.0</td>\n",
       "      <td>a</td>\n",
       "      <td>1.0</td>\n",
       "      <td>b</td>\n",
       "      <td>a</td>\n",
       "      <td>1260.0</td>\n",
       "      <td>6.0</td>\n",
       "      <td>2011.0</td>\n",
       "      <td>0.0</td>\n",
       "      <td>NaN</td>\n",
       "      <td>NaN</td>\n",
       "      <td>Jan,Apr,Jul,Oct</td>\n",
       "    </tr>\n",
       "    <tr>\n",
       "      <th>4</th>\n",
       "      <td>2013-01-01</td>\n",
       "      <td>530</td>\n",
       "      <td>2.0</td>\n",
       "      <td>1.0</td>\n",
       "      <td>0.0</td>\n",
       "      <td>a</td>\n",
       "      <td>1.0</td>\n",
       "      <td>a</td>\n",
       "      <td>c</td>\n",
       "      <td>18160.0</td>\n",
       "      <td>NaN</td>\n",
       "      <td>NaN</td>\n",
       "      <td>0.0</td>\n",
       "      <td>NaN</td>\n",
       "      <td>NaN</td>\n",
       "      <td>Jan,Apr,Jul,Oct</td>\n",
       "    </tr>\n",
       "  </tbody>\n",
       "</table>\n",
       "</div>"
      ],
      "text/plain": [
       "         Date  Store  DayOfWeek  Open  Promo StateHoliday  SchoolHoliday  \\\n",
       "0  2013-01-01    353        2.0   1.0    0.0            a            1.0   \n",
       "1  2013-01-01    335        2.0   1.0    0.0            a            1.0   \n",
       "2  2013-01-01    512        2.0   1.0    0.0            a            1.0   \n",
       "3  2013-01-01    494        2.0   1.0    0.0            a            1.0   \n",
       "4  2013-01-01    530        2.0   1.0    0.0            a            1.0   \n",
       "\n",
       "  StoreType Assortment  CompetitionDistance  CompetitionOpenSinceMonth  \\\n",
       "0         b          b                900.0                        NaN   \n",
       "1         b          a                 90.0                        NaN   \n",
       "2         b          b                590.0                        NaN   \n",
       "3         b          a               1260.0                        6.0   \n",
       "4         a          c              18160.0                        NaN   \n",
       "\n",
       "   CompetitionOpenSinceYear  Promo2  Promo2SinceWeek  Promo2SinceYear  \\\n",
       "0                       NaN     1.0             14.0           2013.0   \n",
       "1                       NaN     1.0             31.0           2013.0   \n",
       "2                       NaN     1.0              5.0           2013.0   \n",
       "3                    2011.0     0.0              NaN              NaN   \n",
       "4                       NaN     0.0              NaN              NaN   \n",
       "\n",
       "      PromoInterval  \n",
       "0   Feb,May,Aug,Nov  \n",
       "1   Jan,Apr,Jul,Oct  \n",
       "2  Mar,Jun,Sept,Dec  \n",
       "3   Jan,Apr,Jul,Oct  \n",
       "4   Jan,Apr,Jul,Oct  "
      ]
     },
     "execution_count": 12,
     "metadata": {},
     "output_type": "execute_result"
    }
   ],
   "source": [
    "X_train_transf.head()"
   ]
  },
  {
   "cell_type": "markdown",
   "id": "3f0c0e23",
   "metadata": {},
   "source": [
    "# Clean data"
   ]
  },
  {
   "cell_type": "code",
   "execution_count": 13,
   "id": "d44c2c4c",
   "metadata": {},
   "outputs": [],
   "source": [
    "clnr = Cleaner()\n",
    "clnr.clean(X_train_transf)\n",
    "X_train_clean = clnr.data\n",
    "X_train_clean_dates = clnr.dates\n",
    "\n",
    "clnr = Cleaner()\n",
    "clnr.clean(X_validation_transf)\n",
    "X_validation_clean = clnr.data\n",
    "X_validation_clean_dates = clnr.dates\n",
    "\n",
    "clnr = Cleaner()\n",
    "clnr.clean(X_test_transf)\n",
    "X_test_clean = clnr.data\n",
    "X_test_clean_dates = clnr.dates"
   ]
  },
  {
   "cell_type": "code",
   "execution_count": 14,
   "id": "c3092719",
   "metadata": {},
   "outputs": [
    {
     "data": {
      "text/html": [
       "<div>\n",
       "<style scoped>\n",
       "    .dataframe tbody tr th:only-of-type {\n",
       "        vertical-align: middle;\n",
       "    }\n",
       "\n",
       "    .dataframe tbody tr th {\n",
       "        vertical-align: top;\n",
       "    }\n",
       "\n",
       "    .dataframe thead th {\n",
       "        text-align: right;\n",
       "    }\n",
       "</style>\n",
       "<table border=\"1\" class=\"dataframe\">\n",
       "  <thead>\n",
       "    <tr style=\"text-align: right;\">\n",
       "      <th></th>\n",
       "      <th>Store</th>\n",
       "      <th>Open</th>\n",
       "      <th>Promo</th>\n",
       "      <th>StateHoliday</th>\n",
       "      <th>SchoolHoliday</th>\n",
       "      <th>StoreType</th>\n",
       "      <th>Assortment</th>\n",
       "      <th>CompetitionDistance</th>\n",
       "      <th>Promo2</th>\n",
       "      <th>PromoInterval</th>\n",
       "      <th>Year</th>\n",
       "      <th>Month_sin</th>\n",
       "      <th>Month_cos</th>\n",
       "      <th>Weekday_sin</th>\n",
       "      <th>Weekday_cos</th>\n",
       "      <th>SalesCompetitionLag</th>\n",
       "      <th>Promo2Lag</th>\n",
       "    </tr>\n",
       "  </thead>\n",
       "  <tbody>\n",
       "    <tr>\n",
       "      <th>0</th>\n",
       "      <td>353</td>\n",
       "      <td>1.0</td>\n",
       "      <td>0.0</td>\n",
       "      <td>a</td>\n",
       "      <td>1.0</td>\n",
       "      <td>b</td>\n",
       "      <td>b</td>\n",
       "      <td>900.0</td>\n",
       "      <td>1.0</td>\n",
       "      <td>Feb,May,Aug,Nov</td>\n",
       "      <td>2013</td>\n",
       "      <td>0.5</td>\n",
       "      <td>0.866025</td>\n",
       "      <td>0.017213</td>\n",
       "      <td>0.999852</td>\n",
       "      <td>-1.0</td>\n",
       "      <td>0.0</td>\n",
       "    </tr>\n",
       "    <tr>\n",
       "      <th>1</th>\n",
       "      <td>335</td>\n",
       "      <td>1.0</td>\n",
       "      <td>0.0</td>\n",
       "      <td>a</td>\n",
       "      <td>1.0</td>\n",
       "      <td>b</td>\n",
       "      <td>a</td>\n",
       "      <td>90.0</td>\n",
       "      <td>1.0</td>\n",
       "      <td>Jan,Apr,Jul,Oct</td>\n",
       "      <td>2013</td>\n",
       "      <td>0.5</td>\n",
       "      <td>0.866025</td>\n",
       "      <td>0.017213</td>\n",
       "      <td>0.999852</td>\n",
       "      <td>-1.0</td>\n",
       "      <td>0.0</td>\n",
       "    </tr>\n",
       "    <tr>\n",
       "      <th>2</th>\n",
       "      <td>512</td>\n",
       "      <td>1.0</td>\n",
       "      <td>0.0</td>\n",
       "      <td>a</td>\n",
       "      <td>1.0</td>\n",
       "      <td>b</td>\n",
       "      <td>b</td>\n",
       "      <td>590.0</td>\n",
       "      <td>1.0</td>\n",
       "      <td>Mar,Jun,Sept,Dec</td>\n",
       "      <td>2013</td>\n",
       "      <td>0.5</td>\n",
       "      <td>0.866025</td>\n",
       "      <td>0.017213</td>\n",
       "      <td>0.999852</td>\n",
       "      <td>-1.0</td>\n",
       "      <td>0.0</td>\n",
       "    </tr>\n",
       "    <tr>\n",
       "      <th>3</th>\n",
       "      <td>494</td>\n",
       "      <td>1.0</td>\n",
       "      <td>0.0</td>\n",
       "      <td>a</td>\n",
       "      <td>1.0</td>\n",
       "      <td>b</td>\n",
       "      <td>a</td>\n",
       "      <td>1260.0</td>\n",
       "      <td>0.0</td>\n",
       "      <td>Jan,Apr,Jul,Oct</td>\n",
       "      <td>2013</td>\n",
       "      <td>0.5</td>\n",
       "      <td>0.866025</td>\n",
       "      <td>0.017213</td>\n",
       "      <td>0.999852</td>\n",
       "      <td>580.0</td>\n",
       "      <td>-1.0</td>\n",
       "    </tr>\n",
       "    <tr>\n",
       "      <th>4</th>\n",
       "      <td>530</td>\n",
       "      <td>1.0</td>\n",
       "      <td>0.0</td>\n",
       "      <td>a</td>\n",
       "      <td>1.0</td>\n",
       "      <td>a</td>\n",
       "      <td>c</td>\n",
       "      <td>18160.0</td>\n",
       "      <td>0.0</td>\n",
       "      <td>Jan,Apr,Jul,Oct</td>\n",
       "      <td>2013</td>\n",
       "      <td>0.5</td>\n",
       "      <td>0.866025</td>\n",
       "      <td>0.017213</td>\n",
       "      <td>0.999852</td>\n",
       "      <td>-1.0</td>\n",
       "      <td>-1.0</td>\n",
       "    </tr>\n",
       "    <tr>\n",
       "      <th>...</th>\n",
       "      <td>...</td>\n",
       "      <td>...</td>\n",
       "      <td>...</td>\n",
       "      <td>...</td>\n",
       "      <td>...</td>\n",
       "      <td>...</td>\n",
       "      <td>...</td>\n",
       "      <td>...</td>\n",
       "      <td>...</td>\n",
       "      <td>...</td>\n",
       "      <td>...</td>\n",
       "      <td>...</td>\n",
       "      <td>...</td>\n",
       "      <td>...</td>\n",
       "      <td>...</td>\n",
       "      <td>...</td>\n",
       "      <td>...</td>\n",
       "    </tr>\n",
       "    <tr>\n",
       "      <th>355649</th>\n",
       "      <td>745</td>\n",
       "      <td>1.0</td>\n",
       "      <td>0.0</td>\n",
       "      <td>0</td>\n",
       "      <td>0.0</td>\n",
       "      <td>a</td>\n",
       "      <td>a</td>\n",
       "      <td>17650.0</td>\n",
       "      <td>1.0</td>\n",
       "      <td>Jan,Apr,Jul,Oct</td>\n",
       "      <td>2014</td>\n",
       "      <td>0.5</td>\n",
       "      <td>0.866025</td>\n",
       "      <td>0.068802</td>\n",
       "      <td>0.997630</td>\n",
       "      <td>91.0</td>\n",
       "      <td>1601.0</td>\n",
       "    </tr>\n",
       "    <tr>\n",
       "      <th>355650</th>\n",
       "      <td>746</td>\n",
       "      <td>1.0</td>\n",
       "      <td>0.0</td>\n",
       "      <td>0</td>\n",
       "      <td>0.0</td>\n",
       "      <td>d</td>\n",
       "      <td>c</td>\n",
       "      <td>4330.0</td>\n",
       "      <td>1.0</td>\n",
       "      <td>Mar,Jun,Sept,Dec</td>\n",
       "      <td>2014</td>\n",
       "      <td>0.5</td>\n",
       "      <td>0.866025</td>\n",
       "      <td>0.068802</td>\n",
       "      <td>0.997630</td>\n",
       "      <td>1095.0</td>\n",
       "      <td>887.0</td>\n",
       "    </tr>\n",
       "    <tr>\n",
       "      <th>355651</th>\n",
       "      <td>747</td>\n",
       "      <td>1.0</td>\n",
       "      <td>0.0</td>\n",
       "      <td>0</td>\n",
       "      <td>0.0</td>\n",
       "      <td>c</td>\n",
       "      <td>c</td>\n",
       "      <td>45740.0</td>\n",
       "      <td>0.0</td>\n",
       "      <td>Jan,Apr,Jul,Oct</td>\n",
       "      <td>2014</td>\n",
       "      <td>0.5</td>\n",
       "      <td>0.866025</td>\n",
       "      <td>0.068802</td>\n",
       "      <td>0.997630</td>\n",
       "      <td>2009.0</td>\n",
       "      <td>-1.0</td>\n",
       "    </tr>\n",
       "    <tr>\n",
       "      <th>355652</th>\n",
       "      <td>765</td>\n",
       "      <td>1.0</td>\n",
       "      <td>0.0</td>\n",
       "      <td>0</td>\n",
       "      <td>0.0</td>\n",
       "      <td>a</td>\n",
       "      <td>c</td>\n",
       "      <td>25430.0</td>\n",
       "      <td>1.0</td>\n",
       "      <td>Jan,Apr,Jul,Oct</td>\n",
       "      <td>2014</td>\n",
       "      <td>0.5</td>\n",
       "      <td>0.866025</td>\n",
       "      <td>0.068802</td>\n",
       "      <td>0.997630</td>\n",
       "      <td>5389.0</td>\n",
       "      <td>1601.0</td>\n",
       "    </tr>\n",
       "    <tr>\n",
       "      <th>355653</th>\n",
       "      <td>742</td>\n",
       "      <td>1.0</td>\n",
       "      <td>0.0</td>\n",
       "      <td>0</td>\n",
       "      <td>0.0</td>\n",
       "      <td>d</td>\n",
       "      <td>c</td>\n",
       "      <td>4380.0</td>\n",
       "      <td>0.0</td>\n",
       "      <td>Jan,Apr,Jul,Oct</td>\n",
       "      <td>2014</td>\n",
       "      <td>0.5</td>\n",
       "      <td>0.866025</td>\n",
       "      <td>0.068802</td>\n",
       "      <td>0.997630</td>\n",
       "      <td>-1.0</td>\n",
       "      <td>-1.0</td>\n",
       "    </tr>\n",
       "  </tbody>\n",
       "</table>\n",
       "<p>355654 rows × 17 columns</p>\n",
       "</div>"
      ],
      "text/plain": [
       "        Store  Open  Promo StateHoliday  SchoolHoliday StoreType Assortment  \\\n",
       "0         353   1.0    0.0            a            1.0         b          b   \n",
       "1         335   1.0    0.0            a            1.0         b          a   \n",
       "2         512   1.0    0.0            a            1.0         b          b   \n",
       "3         494   1.0    0.0            a            1.0         b          a   \n",
       "4         530   1.0    0.0            a            1.0         a          c   \n",
       "...       ...   ...    ...          ...            ...       ...        ...   \n",
       "355649    745   1.0    0.0            0            0.0         a          a   \n",
       "355650    746   1.0    0.0            0            0.0         d          c   \n",
       "355651    747   1.0    0.0            0            0.0         c          c   \n",
       "355652    765   1.0    0.0            0            0.0         a          c   \n",
       "355653    742   1.0    0.0            0            0.0         d          c   \n",
       "\n",
       "        CompetitionDistance  Promo2     PromoInterval  Year  Month_sin  \\\n",
       "0                     900.0     1.0   Feb,May,Aug,Nov  2013        0.5   \n",
       "1                      90.0     1.0   Jan,Apr,Jul,Oct  2013        0.5   \n",
       "2                     590.0     1.0  Mar,Jun,Sept,Dec  2013        0.5   \n",
       "3                    1260.0     0.0   Jan,Apr,Jul,Oct  2013        0.5   \n",
       "4                   18160.0     0.0   Jan,Apr,Jul,Oct  2013        0.5   \n",
       "...                     ...     ...               ...   ...        ...   \n",
       "355649              17650.0     1.0   Jan,Apr,Jul,Oct  2014        0.5   \n",
       "355650               4330.0     1.0  Mar,Jun,Sept,Dec  2014        0.5   \n",
       "355651              45740.0     0.0   Jan,Apr,Jul,Oct  2014        0.5   \n",
       "355652              25430.0     1.0   Jan,Apr,Jul,Oct  2014        0.5   \n",
       "355653               4380.0     0.0   Jan,Apr,Jul,Oct  2014        0.5   \n",
       "\n",
       "        Month_cos  Weekday_sin  Weekday_cos  SalesCompetitionLag  Promo2Lag  \n",
       "0        0.866025     0.017213     0.999852                 -1.0        0.0  \n",
       "1        0.866025     0.017213     0.999852                 -1.0        0.0  \n",
       "2        0.866025     0.017213     0.999852                 -1.0        0.0  \n",
       "3        0.866025     0.017213     0.999852                580.0       -1.0  \n",
       "4        0.866025     0.017213     0.999852                 -1.0       -1.0  \n",
       "...           ...          ...          ...                  ...        ...  \n",
       "355649   0.866025     0.068802     0.997630                 91.0     1601.0  \n",
       "355650   0.866025     0.068802     0.997630               1095.0      887.0  \n",
       "355651   0.866025     0.068802     0.997630               2009.0       -1.0  \n",
       "355652   0.866025     0.068802     0.997630               5389.0     1601.0  \n",
       "355653   0.866025     0.068802     0.997630                 -1.0       -1.0  \n",
       "\n",
       "[355654 rows x 17 columns]"
      ]
     },
     "execution_count": 14,
     "metadata": {},
     "output_type": "execute_result"
    }
   ],
   "source": [
    "X_train_clean"
   ]
  },
  {
   "cell_type": "markdown",
   "id": "7cf3fe6d",
   "metadata": {},
   "source": [
    "# Modeling"
   ]
  },
  {
   "cell_type": "markdown",
   "id": "60e771ff",
   "metadata": {},
   "source": [
    "## Begin pipeline"
   ]
  },
  {
   "cell_type": "code",
   "execution_count": 31,
   "id": "adb50e85",
   "metadata": {},
   "outputs": [],
   "source": [
    "pipe = Pipeline([\n",
    "    (\"target_encoder\", TargetEncoder(cols=\"Store\")),\n",
    "    (\"ordinal_encoder\", OrdinalEncoder(cols=[\"StateHoliday\", \"StoreType\", \"Assortment\"])),\n",
    "    (\"one_hot_encoder\", OneHotEncoder(cols=\"PromoInterval\")),\n",
    "])"
   ]
  },
  {
   "cell_type": "markdown",
   "id": "2b0dbec5",
   "metadata": {},
   "source": [
    "## Random forest"
   ]
  },
  {
   "cell_type": "code",
   "execution_count": 32,
   "id": "21fe281c",
   "metadata": {},
   "outputs": [],
   "source": [
    "from sklearn.ensemble import RandomForestRegressor\n",
    "\n",
    "rfr = RandomForestRegressor(\n",
    "    n_estimators=500,\n",
    "    max_depth=16,\n",
    "    min_samples_split=8,\n",
    "    n_jobs=-1,\n",
    "    random_state=42,\n",
    ")\n",
    "\n",
    "rfpipe = pipe\n",
    "\n",
    "rfpipe.steps.append(['rfr', rfr])"
   ]
  },
  {
   "cell_type": "code",
   "execution_count": 33,
   "id": "fad7a302",
   "metadata": {},
   "outputs": [
    {
     "data": {
      "text/plain": [
       "Pipeline(steps=[('target_encoder', TargetEncoder(cols=['Store'])),\n",
       "                ('ordinal_encoder',\n",
       "                 OrdinalEncoder(cols=['StateHoliday', 'StoreType',\n",
       "                                      'Assortment'],\n",
       "                                mapping=[{'col': 'StateHoliday',\n",
       "                                          'data_type': CategoricalDtype(categories=['0', 'a', 'b', 'c'], ordered=False),\n",
       "                                          'mapping': a      1\n",
       "0      2\n",
       "b      3\n",
       "c      4\n",
       "NaN   -2\n",
       "dtype: int64},\n",
       "                                         {'col': 'StoreType',\n",
       "                                          'data_type': CategoricalDtype(categories=['a',...', 'd'], ordered=False),\n",
       "                                          'mapping': b      1\n",
       "a      2\n",
       "d      3\n",
       "c      4\n",
       "NaN   -2\n",
       "dtype: int64},\n",
       "                                         {'col': 'Assortment',\n",
       "                                          'data_type': CategoricalDtype(categories=['a', 'b', 'c'], ordered=False),\n",
       "                                          'mapping': b      1\n",
       "a      2\n",
       "c      3\n",
       "NaN   -2\n",
       "dtype: int64}])),\n",
       "                ('one_hot_encoder', OneHotEncoder(cols=['PromoInterval'])),\n",
       "                ['rfr',\n",
       "                 RandomForestRegressor(max_depth=16, min_samples_split=8,\n",
       "                                       n_estimators=500, n_jobs=-1,\n",
       "                                       random_state=42)]])"
      ]
     },
     "execution_count": 33,
     "metadata": {},
     "output_type": "execute_result"
    }
   ],
   "source": [
    "rfpipe.fit(X_train_clean, y_train)"
   ]
  },
  {
   "cell_type": "code",
   "execution_count": 34,
   "id": "7b5aee7d",
   "metadata": {},
   "outputs": [],
   "source": [
    "y_pred = rfpipe.predict(X_validation_clean)"
   ]
  },
  {
   "cell_type": "code",
   "execution_count": 35,
   "id": "7afe2263",
   "metadata": {},
   "outputs": [],
   "source": [
    "def metric(preds, actuals):\n",
    "    preds = preds.reshape(-1)\n",
    "    actuals = actuals.values.reshape(-1)\n",
    "    assert preds.shape == actuals.shape\n",
    "    return 100 * np.linalg.norm((actuals - preds) / actuals) / np.sqrt(preds.shape[0])"
   ]
  },
  {
   "cell_type": "code",
   "execution_count": 36,
   "id": "64ebf65a",
   "metadata": {
    "scrolled": true
   },
   "outputs": [
    {
     "data": {
      "text/plain": [
       "19.689037516898324"
      ]
     },
     "execution_count": 36,
     "metadata": {},
     "output_type": "execute_result"
    }
   ],
   "source": [
    "metric(y_pred, y_validation)"
   ]
  },
  {
   "cell_type": "code",
   "execution_count": 37,
   "id": "6a66a844",
   "metadata": {},
   "outputs": [],
   "source": [
    "# 19.689037516898324"
   ]
  },
  {
   "cell_type": "code",
   "execution_count": 38,
   "id": "42e3a0b0",
   "metadata": {},
   "outputs": [],
   "source": [
    "#19.337539508342996"
   ]
  },
  {
   "cell_type": "code",
   "execution_count": 39,
   "id": "a02ab8f8",
   "metadata": {},
   "outputs": [
    {
     "data": {
      "image/png": "[encoded data removed]",
      "text/plain": [
       "<Figure size 432x288 with 1 Axes>"
      ]
     },
     "metadata": {
      "needs_background": "light"
     },
     "output_type": "display_data"
    }
   ],
   "source": [
    "import matplotlib.pyplot as plt\n",
    "%matplotlib inline\n",
    "plt.plot(y_validation, y_pred, '.')\n",
    "plt.show()"
   ]
  },
  {
   "cell_type": "code",
   "execution_count": 40,
   "id": "2b215936",
   "metadata": {},
   "outputs": [
    {
     "name": "stdout",
     "output_type": "stream",
     "text": [
      "               features    values\n",
      "0                 Store  0.670567\n",
      "2                 Promo  0.141681\n",
      "14            Month_cos  0.044279\n",
      "15          Weekday_sin  0.032322\n",
      "16          Weekday_cos  0.031392\n",
      "7   CompetitionDistance  0.017704\n",
      "17  SalesCompetitionLag  0.016670\n",
      "18            Promo2Lag  0.010550\n",
      "5             StoreType  0.008868\n",
      "4         SchoolHoliday  0.008541\n",
      "13            Month_sin  0.008084\n",
      "6            Assortment  0.003250\n",
      "12                 Year  0.001155\n",
      "8                Promo2  0.001150\n",
      "3          StateHoliday  0.000974\n",
      "11      PromoInterval_3  0.000764\n",
      "1                  Open  0.000730\n",
      "10      PromoInterval_2  0.000714\n",
      "9       PromoInterval_1  0.000605\n"
     ]
    },
    {
     "data": {
      "text/plain": [
       "<AxesSubplot:ylabel='features'>"
      ]
     },
     "execution_count": 40,
     "metadata": {},
     "output_type": "execute_result"
    },
    {
     "data": {
      "image/png": "[encoded data removed]",
      "text/plain": [
       "<Figure size 432x288 with 1 Axes>"
      ]
     },
     "metadata": {
      "needs_background": "light"
     },
     "output_type": "display_data"
    }
   ],
   "source": [
    "importances = pd.DataFrame({\n",
    "    \"features\": rfpipe.steps[3][1].feature_names_in_,\n",
    "    \"values\": rfpipe.steps[3][1].feature_importances_,\n",
    "})\n",
    "\n",
    "print(importances.sort_values(by=\"values\", ascending=False))\n",
    "\n",
    "importances.set_index(\"features\").sort_values(by=\"values\", ascending=False).plot.barh()"
   ]
  },
  {
   "cell_type": "code",
   "execution_count": null,
   "id": "1a91e965",
   "metadata": {},
   "outputs": [],
   "source": []
  },
  {
   "cell_type": "code",
   "execution_count": null,
   "id": "1e9ebc25",
   "metadata": {},
   "outputs": [],
   "source": []
  },
  {
   "cell_type": "code",
   "execution_count": null,
   "id": "f521b828",
   "metadata": {},
   "outputs": [],
   "source": []
  },
  {
   "cell_type": "code",
   "execution_count": null,
   "id": "fbabbc77",
   "metadata": {},
   "outputs": [],
   "source": []
  },
  {
   "cell_type": "code",
   "execution_count": null,
   "id": "8871cb5b",
   "metadata": {},
   "outputs": [],
   "source": []
  },
  {
   "cell_type": "code",
   "execution_count": null,
   "id": "e5b4d9b3",
   "metadata": {},
   "outputs": [],
   "source": []
  },
  {
   "cell_type": "markdown",
   "id": "41029be4",
   "metadata": {},
   "source": [
    "# Preprocessing of data"
   ]
  },
  {
   "cell_type": "markdown",
   "id": "bdf4f649",
   "metadata": {},
   "source": [
    "## First cleaning"
   ]
  },
  {
   "cell_type": "markdown",
   "id": "011b5eda",
   "metadata": {},
   "source": [
    "Samples without sales data as well as days that sales are zero can be dropped."
   ]
  },
  {
   "cell_type": "code",
   "execution_count": 7,
   "id": "0f6c3085",
   "metadata": {},
   "outputs": [],
   "source": [
    "sales_data.dropna(subset=[\"Sales\"], inplace=True)\n",
    "\n",
    "keep_mask = sales_data.loc[:, \"Sales\"] != 0\n",
    "sales_data = sales_data[keep_mask]"
   ]
  },
  {
   "cell_type": "markdown",
   "id": "28b338c1",
   "metadata": {},
   "source": [
    "We will also drop the customers feature. This feature is directly linked to our target, the sales. Moreover the number of customers in the future is not known, again similar to the sales themselves."
   ]
  },
  {
   "cell_type": "code",
   "execution_count": 8,
   "id": "1c3db851",
   "metadata": {},
   "outputs": [
    {
     "name": "stderr",
     "output_type": "stream",
     "text": [
      "/Users/corstiaen/opt/anaconda3/envs/minicompenv/lib/python3.8/site-packages/pandas/core/frame.py:4906: SettingWithCopyWarning: \n",
      "A value is trying to be set on a copy of a slice from a DataFrame\n",
      "\n",
      "See the caveats in the documentation: https://pandas.pydata.org/pandas-docs/stable/user_guide/indexing.html#returning-a-view-versus-a-copy\n",
      "  return super().drop(\n"
     ]
    }
   ],
   "source": [
    "sales_data.drop(\"Customers\", axis=1, inplace=True)"
   ]
  },
  {
   "cell_type": "markdown",
   "id": "9b23e2c6",
   "metadata": {},
   "source": [
    "After these steps there are still 30 duplicated samples in our dataset. Although these duplicates may actually be real numbers af two shops having the exact same sales on a single day, it is hard to disentangle. Moreover, 30 samples on a dataset of >500,000 is negligible."
   ]
  },
  {
   "cell_type": "code",
   "execution_count": 9,
   "id": "22dae9cc",
   "metadata": {
    "scrolled": false
   },
   "outputs": [
    {
     "name": "stdout",
     "output_type": "stream",
     "text": [
      "30\n"
     ]
    },
    {
     "data": {
      "text/html": [
       "<div>\n",
       "<style scoped>\n",
       "    .dataframe tbody tr th:only-of-type {\n",
       "        vertical-align: middle;\n",
       "    }\n",
       "\n",
       "    .dataframe tbody tr th {\n",
       "        vertical-align: top;\n",
       "    }\n",
       "\n",
       "    .dataframe thead th {\n",
       "        text-align: right;\n",
       "    }\n",
       "</style>\n",
       "<table border=\"1\" class=\"dataframe\">\n",
       "  <thead>\n",
       "    <tr style=\"text-align: right;\">\n",
       "      <th></th>\n",
       "      <th>Date</th>\n",
       "      <th>Store</th>\n",
       "      <th>DayOfWeek</th>\n",
       "      <th>Sales</th>\n",
       "      <th>Open</th>\n",
       "      <th>Promo</th>\n",
       "      <th>StateHoliday</th>\n",
       "      <th>SchoolHoliday</th>\n",
       "    </tr>\n",
       "  </thead>\n",
       "  <tbody>\n",
       "    <tr>\n",
       "      <th>17319</th>\n",
       "      <td>2013-01-16</td>\n",
       "      <td>NaN</td>\n",
       "      <td>3.0</td>\n",
       "      <td>2795.0</td>\n",
       "      <td>1.0</td>\n",
       "      <td>0.0</td>\n",
       "      <td>0</td>\n",
       "      <td>0.0</td>\n",
       "    </tr>\n",
       "    <tr>\n",
       "      <th>43383</th>\n",
       "      <td>2013-02-08</td>\n",
       "      <td>NaN</td>\n",
       "      <td>5.0</td>\n",
       "      <td>5706.0</td>\n",
       "      <td>1.0</td>\n",
       "      <td>1.0</td>\n",
       "      <td>0</td>\n",
       "      <td>0.0</td>\n",
       "    </tr>\n",
       "    <tr>\n",
       "      <th>79395</th>\n",
       "      <td>2013-03-13</td>\n",
       "      <td>NaN</td>\n",
       "      <td>3.0</td>\n",
       "      <td>4907.0</td>\n",
       "      <td>1.0</td>\n",
       "      <td>0.0</td>\n",
       "      <td>0</td>\n",
       "      <td>0.0</td>\n",
       "    </tr>\n",
       "    <tr>\n",
       "      <th>83406</th>\n",
       "      <td>2013-03-16</td>\n",
       "      <td>NaN</td>\n",
       "      <td>6.0</td>\n",
       "      <td>4648.0</td>\n",
       "      <td>1.0</td>\n",
       "      <td>0.0</td>\n",
       "      <td>0</td>\n",
       "      <td>0.0</td>\n",
       "    </tr>\n",
       "    <tr>\n",
       "      <th>122096</th>\n",
       "      <td>2013-04-20</td>\n",
       "      <td>NaN</td>\n",
       "      <td>6.0</td>\n",
       "      <td>2890.0</td>\n",
       "      <td>1.0</td>\n",
       "      <td>0.0</td>\n",
       "      <td>0</td>\n",
       "      <td>0.0</td>\n",
       "    </tr>\n",
       "  </tbody>\n",
       "</table>\n",
       "</div>"
      ],
      "text/plain": [
       "              Date  Store  DayOfWeek   Sales  Open  Promo StateHoliday  \\\n",
       "17319   2013-01-16    NaN        3.0  2795.0   1.0    0.0            0   \n",
       "43383   2013-02-08    NaN        5.0  5706.0   1.0    1.0            0   \n",
       "79395   2013-03-13    NaN        3.0  4907.0   1.0    0.0            0   \n",
       "83406   2013-03-16    NaN        6.0  4648.0   1.0    0.0            0   \n",
       "122096  2013-04-20    NaN        6.0  2890.0   1.0    0.0            0   \n",
       "\n",
       "        SchoolHoliday  \n",
       "17319             0.0  \n",
       "43383             0.0  \n",
       "79395             0.0  \n",
       "83406             0.0  \n",
       "122096            0.0  "
      ]
     },
     "execution_count": 9,
     "metadata": {},
     "output_type": "execute_result"
    }
   ],
   "source": [
    "duped_mask = sales_data.duplicated()\n",
    "duplicated_data = sales_data.loc[duped_mask, :]\n",
    "\n",
    "print(len(duplicated_data))\n",
    "duplicated_data.head()"
   ]
  },
  {
   "cell_type": "code",
   "execution_count": 10,
   "id": "51a5546d",
   "metadata": {},
   "outputs": [
    {
     "name": "stderr",
     "output_type": "stream",
     "text": [
      "/Users/corstiaen/opt/anaconda3/envs/minicompenv/lib/python3.8/site-packages/pandas/util/_decorators.py:311: SettingWithCopyWarning: \n",
      "A value is trying to be set on a copy of a slice from a DataFrame\n",
      "\n",
      "See the caveats in the documentation: https://pandas.pydata.org/pandas-docs/stable/user_guide/indexing.html#returning-a-view-versus-a-copy\n",
      "  return func(*args, **kwargs)\n"
     ]
    }
   ],
   "source": [
    "sales_data.drop_duplicates(inplace=True)"
   ]
  },
  {
   "cell_type": "markdown",
   "id": "53113036",
   "metadata": {},
   "source": [
    "## Merging sales and store data"
   ]
  },
  {
   "cell_type": "markdown",
   "id": "67b87994",
   "metadata": {},
   "source": [
    "We need to merge the sales data with the store data. Checking data types reveals that the feature on which we will merge, \"Store\", is not of the same type. We change the datatype of \"Store\" in the sales data, such that it matches the store data. We do this step manually here, but this step will also be included in our pipeline."
   ]
  },
  {
   "cell_type": "code",
   "execution_count": 11,
   "id": "0abd98bc",
   "metadata": {
    "scrolled": true
   },
   "outputs": [
    {
     "data": {
      "text/plain": [
       "Date              object\n",
       "Store            float64\n",
       "DayOfWeek        float64\n",
       "Sales            float64\n",
       "Open             float64\n",
       "Promo            float64\n",
       "StateHoliday      object\n",
       "SchoolHoliday    float64\n",
       "dtype: object"
      ]
     },
     "execution_count": 11,
     "metadata": {},
     "output_type": "execute_result"
    }
   ],
   "source": [
    "sales_data.dtypes"
   ]
  },
  {
   "cell_type": "code",
   "execution_count": 12,
   "id": "a59d27ba",
   "metadata": {
    "scrolled": true
   },
   "outputs": [
    {
     "data": {
      "text/plain": [
       "Store                          int64\n",
       "StoreType                     object\n",
       "Assortment                    object\n",
       "CompetitionDistance          float64\n",
       "CompetitionOpenSinceMonth    float64\n",
       "CompetitionOpenSinceYear     float64\n",
       "Promo2                         int64\n",
       "Promo2SinceWeek              float64\n",
       "Promo2SinceYear              float64\n",
       "PromoInterval                 object\n",
       "dtype: object"
      ]
     },
     "execution_count": 12,
     "metadata": {},
     "output_type": "execute_result"
    }
   ],
   "source": [
    "store_data.dtypes"
   ]
  },
  {
   "cell_type": "markdown",
   "id": "d4844657",
   "metadata": {},
   "source": [
    "There's NaNs in the store ID. We will encode them with 0, because that label does not exist for a store in the store data."
   ]
  },
  {
   "cell_type": "code",
   "execution_count": 13,
   "id": "e28bcd2c",
   "metadata": {},
   "outputs": [
    {
     "data": {
      "text/plain": [
       "Date                 0\n",
       "Store            15550\n",
       "DayOfWeek        15299\n",
       "Sales                0\n",
       "Open             15455\n",
       "Promo            15439\n",
       "StateHoliday     15560\n",
       "SchoolHoliday    15547\n",
       "dtype: int64"
      ]
     },
     "execution_count": 13,
     "metadata": {},
     "output_type": "execute_result"
    }
   ],
   "source": [
    "sales_data.isnull().sum()"
   ]
  },
  {
   "cell_type": "code",
   "execution_count": 14,
   "id": "43f506e7",
   "metadata": {},
   "outputs": [
    {
     "data": {
      "text/plain": [
       "1"
      ]
     },
     "execution_count": 14,
     "metadata": {},
     "output_type": "execute_result"
    }
   ],
   "source": [
    "store_data.loc[:, \"Store\"].min()"
   ]
  },
  {
   "cell_type": "code",
   "execution_count": 15,
   "id": "29632e28",
   "metadata": {},
   "outputs": [],
   "source": [
    "sales_data = sales_data.fillna({\"Store\": 0})"
   ]
  },
  {
   "cell_type": "code",
   "execution_count": 16,
   "id": "7b35cd4d",
   "metadata": {
    "scrolled": true
   },
   "outputs": [],
   "source": [
    "sales_data = sales_data.astype({\"Store\": int})"
   ]
  },
  {
   "cell_type": "markdown",
   "id": "05807c25",
   "metadata": {},
   "source": [
    "Actual merging of tables."
   ]
  },
  {
   "cell_type": "code",
   "execution_count": 17,
   "id": "eb58e5cb",
   "metadata": {},
   "outputs": [],
   "source": [
    "merged_data = sales_data.merge(store_data, how=\"left\", on=\"Store\")"
   ]
  },
  {
   "cell_type": "code",
   "execution_count": 18,
   "id": "d977725e",
   "metadata": {},
   "outputs": [
    {
     "name": "stdout",
     "output_type": "stream",
     "text": [
      "The total number of samples in our dataset is 512926\n"
     ]
    },
    {
     "data": {
      "text/html": [
       "<div>\n",
       "<style scoped>\n",
       "    .dataframe tbody tr th:only-of-type {\n",
       "        vertical-align: middle;\n",
       "    }\n",
       "\n",
       "    .dataframe tbody tr th {\n",
       "        vertical-align: top;\n",
       "    }\n",
       "\n",
       "    .dataframe thead th {\n",
       "        text-align: right;\n",
       "    }\n",
       "</style>\n",
       "<table border=\"1\" class=\"dataframe\">\n",
       "  <thead>\n",
       "    <tr style=\"text-align: right;\">\n",
       "      <th></th>\n",
       "      <th>Date</th>\n",
       "      <th>Store</th>\n",
       "      <th>DayOfWeek</th>\n",
       "      <th>Sales</th>\n",
       "      <th>Open</th>\n",
       "      <th>Promo</th>\n",
       "      <th>StateHoliday</th>\n",
       "      <th>SchoolHoliday</th>\n",
       "      <th>StoreType</th>\n",
       "      <th>Assortment</th>\n",
       "      <th>CompetitionDistance</th>\n",
       "      <th>CompetitionOpenSinceMonth</th>\n",
       "      <th>CompetitionOpenSinceYear</th>\n",
       "      <th>Promo2</th>\n",
       "      <th>Promo2SinceWeek</th>\n",
       "      <th>Promo2SinceYear</th>\n",
       "      <th>PromoInterval</th>\n",
       "    </tr>\n",
       "  </thead>\n",
       "  <tbody>\n",
       "    <tr>\n",
       "      <th>0</th>\n",
       "      <td>2013-01-01</td>\n",
       "      <td>353</td>\n",
       "      <td>2.0</td>\n",
       "      <td>3139.0</td>\n",
       "      <td>1.0</td>\n",
       "      <td>0.0</td>\n",
       "      <td>a</td>\n",
       "      <td>1.0</td>\n",
       "      <td>b</td>\n",
       "      <td>b</td>\n",
       "      <td>900.0</td>\n",
       "      <td>NaN</td>\n",
       "      <td>NaN</td>\n",
       "      <td>1.0</td>\n",
       "      <td>14.0</td>\n",
       "      <td>2013.0</td>\n",
       "      <td>Feb,May,Aug,Nov</td>\n",
       "    </tr>\n",
       "    <tr>\n",
       "      <th>1</th>\n",
       "      <td>2013-01-01</td>\n",
       "      <td>335</td>\n",
       "      <td>2.0</td>\n",
       "      <td>2401.0</td>\n",
       "      <td>1.0</td>\n",
       "      <td>0.0</td>\n",
       "      <td>a</td>\n",
       "      <td>1.0</td>\n",
       "      <td>b</td>\n",
       "      <td>a</td>\n",
       "      <td>90.0</td>\n",
       "      <td>NaN</td>\n",
       "      <td>NaN</td>\n",
       "      <td>1.0</td>\n",
       "      <td>31.0</td>\n",
       "      <td>2013.0</td>\n",
       "      <td>Jan,Apr,Jul,Oct</td>\n",
       "    </tr>\n",
       "    <tr>\n",
       "      <th>2</th>\n",
       "      <td>2013-01-01</td>\n",
       "      <td>512</td>\n",
       "      <td>2.0</td>\n",
       "      <td>2646.0</td>\n",
       "      <td>1.0</td>\n",
       "      <td>0.0</td>\n",
       "      <td>a</td>\n",
       "      <td>1.0</td>\n",
       "      <td>b</td>\n",
       "      <td>b</td>\n",
       "      <td>590.0</td>\n",
       "      <td>NaN</td>\n",
       "      <td>NaN</td>\n",
       "      <td>1.0</td>\n",
       "      <td>5.0</td>\n",
       "      <td>2013.0</td>\n",
       "      <td>Mar,Jun,Sept,Dec</td>\n",
       "    </tr>\n",
       "    <tr>\n",
       "      <th>3</th>\n",
       "      <td>2013-01-01</td>\n",
       "      <td>494</td>\n",
       "      <td>2.0</td>\n",
       "      <td>3113.0</td>\n",
       "      <td>1.0</td>\n",
       "      <td>0.0</td>\n",
       "      <td>a</td>\n",
       "      <td>1.0</td>\n",
       "      <td>b</td>\n",
       "      <td>a</td>\n",
       "      <td>1260.0</td>\n",
       "      <td>6.0</td>\n",
       "      <td>2011.0</td>\n",
       "      <td>0.0</td>\n",
       "      <td>NaN</td>\n",
       "      <td>NaN</td>\n",
       "      <td>NaN</td>\n",
       "    </tr>\n",
       "    <tr>\n",
       "      <th>4</th>\n",
       "      <td>2013-01-01</td>\n",
       "      <td>530</td>\n",
       "      <td>2.0</td>\n",
       "      <td>2907.0</td>\n",
       "      <td>1.0</td>\n",
       "      <td>0.0</td>\n",
       "      <td>a</td>\n",
       "      <td>1.0</td>\n",
       "      <td>a</td>\n",
       "      <td>c</td>\n",
       "      <td>18160.0</td>\n",
       "      <td>NaN</td>\n",
       "      <td>NaN</td>\n",
       "      <td>0.0</td>\n",
       "      <td>NaN</td>\n",
       "      <td>NaN</td>\n",
       "      <td>NaN</td>\n",
       "    </tr>\n",
       "  </tbody>\n",
       "</table>\n",
       "</div>"
      ],
      "text/plain": [
       "         Date  Store  DayOfWeek   Sales  Open  Promo StateHoliday  \\\n",
       "0  2013-01-01    353        2.0  3139.0   1.0    0.0            a   \n",
       "1  2013-01-01    335        2.0  2401.0   1.0    0.0            a   \n",
       "2  2013-01-01    512        2.0  2646.0   1.0    0.0            a   \n",
       "3  2013-01-01    494        2.0  3113.0   1.0    0.0            a   \n",
       "4  2013-01-01    530        2.0  2907.0   1.0    0.0            a   \n",
       "\n",
       "   SchoolHoliday StoreType Assortment  CompetitionDistance  \\\n",
       "0            1.0         b          b                900.0   \n",
       "1            1.0         b          a                 90.0   \n",
       "2            1.0         b          b                590.0   \n",
       "3            1.0         b          a               1260.0   \n",
       "4            1.0         a          c              18160.0   \n",
       "\n",
       "   CompetitionOpenSinceMonth  CompetitionOpenSinceYear  Promo2  \\\n",
       "0                        NaN                       NaN     1.0   \n",
       "1                        NaN                       NaN     1.0   \n",
       "2                        NaN                       NaN     1.0   \n",
       "3                        6.0                    2011.0     0.0   \n",
       "4                        NaN                       NaN     0.0   \n",
       "\n",
       "   Promo2SinceWeek  Promo2SinceYear     PromoInterval  \n",
       "0             14.0           2013.0   Feb,May,Aug,Nov  \n",
       "1             31.0           2013.0   Jan,Apr,Jul,Oct  \n",
       "2              5.0           2013.0  Mar,Jun,Sept,Dec  \n",
       "3              NaN              NaN               NaN  \n",
       "4              NaN              NaN               NaN  "
      ]
     },
     "execution_count": 18,
     "metadata": {},
     "output_type": "execute_result"
    }
   ],
   "source": [
    "print(f\"The total number of samples in our dataset is {len(merged_data)}\")\n",
    "merged_data.head()"
   ]
  },
  {
   "cell_type": "markdown",
   "id": "5099049f",
   "metadata": {},
   "source": [
    "# Splitting train, validation, and test sets"
   ]
  },
  {
   "cell_type": "markdown",
   "id": "8c78a36b",
   "metadata": {},
   "source": [
    "When using tree-based models we can use random splitting of the data:"
   ]
  },
  {
   "cell_type": "code",
   "execution_count": 19,
   "id": "bf81420b",
   "metadata": {},
   "outputs": [],
   "source": [
    "X = merged_data.loc[:, ~merged_data.columns.isin([\"Sales\"])]\n",
    "y = merged_data.loc[:, \"Sales\"]\n",
    "\n",
    "X_train_valid, X_test, y_train_valid, y_test = train_test_split(\n",
    "    X, y,\n",
    "    random_state=42,\n",
    "    train_size=.8,\n",
    ")\n",
    "\n",
    "X_train, X_validation, y_train, y_validation = train_test_split(\n",
    "    X_train_valid,\n",
    "    y_train_valid,\n",
    "    random_state=42,\n",
    "    train_size=.8,\n",
    ")"
   ]
  },
  {
   "cell_type": "code",
   "execution_count": 20,
   "id": "db559955",
   "metadata": {
    "scrolled": false
   },
   "outputs": [
    {
     "name": "stdout",
     "output_type": "stream",
     "text": [
      "Our train set has 328272 samples\n",
      "Our validation set has 82068 samples\n",
      "Our test set has 102586 samples\n"
     ]
    },
    {
     "data": {
      "text/html": [
       "<div>\n",
       "<style scoped>\n",
       "    .dataframe tbody tr th:only-of-type {\n",
       "        vertical-align: middle;\n",
       "    }\n",
       "\n",
       "    .dataframe tbody tr th {\n",
       "        vertical-align: top;\n",
       "    }\n",
       "\n",
       "    .dataframe thead th {\n",
       "        text-align: right;\n",
       "    }\n",
       "</style>\n",
       "<table border=\"1\" class=\"dataframe\">\n",
       "  <thead>\n",
       "    <tr style=\"text-align: right;\">\n",
       "      <th></th>\n",
       "      <th>Date</th>\n",
       "      <th>Store</th>\n",
       "      <th>DayOfWeek</th>\n",
       "      <th>Open</th>\n",
       "      <th>Promo</th>\n",
       "      <th>StateHoliday</th>\n",
       "      <th>SchoolHoliday</th>\n",
       "      <th>StoreType</th>\n",
       "      <th>Assortment</th>\n",
       "      <th>CompetitionDistance</th>\n",
       "      <th>CompetitionOpenSinceMonth</th>\n",
       "      <th>CompetitionOpenSinceYear</th>\n",
       "      <th>Promo2</th>\n",
       "      <th>Promo2SinceWeek</th>\n",
       "      <th>Promo2SinceYear</th>\n",
       "      <th>PromoInterval</th>\n",
       "    </tr>\n",
       "  </thead>\n",
       "  <tbody>\n",
       "    <tr>\n",
       "      <th>143140</th>\n",
       "      <td>2013-06-12</td>\n",
       "      <td>353</td>\n",
       "      <td>3.0</td>\n",
       "      <td>1.0</td>\n",
       "      <td>0.0</td>\n",
       "      <td>0</td>\n",
       "      <td>0.0</td>\n",
       "      <td>b</td>\n",
       "      <td>b</td>\n",
       "      <td>900.0</td>\n",
       "      <td>NaN</td>\n",
       "      <td>NaN</td>\n",
       "      <td>1.0</td>\n",
       "      <td>14.0</td>\n",
       "      <td>2013.0</td>\n",
       "      <td>Feb,May,Aug,Nov</td>\n",
       "    </tr>\n",
       "    <tr>\n",
       "      <th>494300</th>\n",
       "      <td>2014-07-08</td>\n",
       "      <td>267</td>\n",
       "      <td>2.0</td>\n",
       "      <td>1.0</td>\n",
       "      <td>0.0</td>\n",
       "      <td>0</td>\n",
       "      <td>0.0</td>\n",
       "      <td>c</td>\n",
       "      <td>a</td>\n",
       "      <td>2460.0</td>\n",
       "      <td>1.0</td>\n",
       "      <td>2012.0</td>\n",
       "      <td>0.0</td>\n",
       "      <td>NaN</td>\n",
       "      <td>NaN</td>\n",
       "      <td>NaN</td>\n",
       "    </tr>\n",
       "    <tr>\n",
       "      <th>417249</th>\n",
       "      <td>2014-04-08</td>\n",
       "      <td>734</td>\n",
       "      <td>2.0</td>\n",
       "      <td>1.0</td>\n",
       "      <td>0.0</td>\n",
       "      <td>0.0</td>\n",
       "      <td>0.0</td>\n",
       "      <td>a</td>\n",
       "      <td>a</td>\n",
       "      <td>220.0</td>\n",
       "      <td>NaN</td>\n",
       "      <td>NaN</td>\n",
       "      <td>1.0</td>\n",
       "      <td>36.0</td>\n",
       "      <td>2013.0</td>\n",
       "      <td>Mar,Jun,Sept,Dec</td>\n",
       "    </tr>\n",
       "    <tr>\n",
       "      <th>370025</th>\n",
       "      <td>2014-02-17</td>\n",
       "      <td>0</td>\n",
       "      <td>1.0</td>\n",
       "      <td>1.0</td>\n",
       "      <td>1.0</td>\n",
       "      <td>0.0</td>\n",
       "      <td>0.0</td>\n",
       "      <td>NaN</td>\n",
       "      <td>NaN</td>\n",
       "      <td>NaN</td>\n",
       "      <td>NaN</td>\n",
       "      <td>NaN</td>\n",
       "      <td>NaN</td>\n",
       "      <td>NaN</td>\n",
       "      <td>NaN</td>\n",
       "      <td>NaN</td>\n",
       "    </tr>\n",
       "    <tr>\n",
       "      <th>249373</th>\n",
       "      <td>2013-10-05</td>\n",
       "      <td>510</td>\n",
       "      <td>NaN</td>\n",
       "      <td>1.0</td>\n",
       "      <td>NaN</td>\n",
       "      <td>0</td>\n",
       "      <td>0.0</td>\n",
       "      <td>a</td>\n",
       "      <td>c</td>\n",
       "      <td>8260.0</td>\n",
       "      <td>NaN</td>\n",
       "      <td>NaN</td>\n",
       "      <td>0.0</td>\n",
       "      <td>NaN</td>\n",
       "      <td>NaN</td>\n",
       "      <td>NaN</td>\n",
       "    </tr>\n",
       "  </tbody>\n",
       "</table>\n",
       "</div>"
      ],
      "text/plain": [
       "              Date  Store  DayOfWeek  Open  Promo StateHoliday  SchoolHoliday  \\\n",
       "143140  2013-06-12    353        3.0   1.0    0.0            0            0.0   \n",
       "494300  2014-07-08    267        2.0   1.0    0.0            0            0.0   \n",
       "417249  2014-04-08    734        2.0   1.0    0.0          0.0            0.0   \n",
       "370025  2014-02-17      0        1.0   1.0    1.0          0.0            0.0   \n",
       "249373  2013-10-05    510        NaN   1.0    NaN            0            0.0   \n",
       "\n",
       "       StoreType Assortment  CompetitionDistance  CompetitionOpenSinceMonth  \\\n",
       "143140         b          b                900.0                        NaN   \n",
       "494300         c          a               2460.0                        1.0   \n",
       "417249         a          a                220.0                        NaN   \n",
       "370025       NaN        NaN                  NaN                        NaN   \n",
       "249373         a          c               8260.0                        NaN   \n",
       "\n",
       "        CompetitionOpenSinceYear  Promo2  Promo2SinceWeek  Promo2SinceYear  \\\n",
       "143140                       NaN     1.0             14.0           2013.0   \n",
       "494300                    2012.0     0.0              NaN              NaN   \n",
       "417249                       NaN     1.0             36.0           2013.0   \n",
       "370025                       NaN     NaN              NaN              NaN   \n",
       "249373                       NaN     0.0              NaN              NaN   \n",
       "\n",
       "           PromoInterval  \n",
       "143140   Feb,May,Aug,Nov  \n",
       "494300               NaN  \n",
       "417249  Mar,Jun,Sept,Dec  \n",
       "370025               NaN  \n",
       "249373               NaN  "
      ]
     },
     "execution_count": 20,
     "metadata": {},
     "output_type": "execute_result"
    }
   ],
   "source": [
    "print(f\"Our train set has {len(X_train)} samples\")\n",
    "print(f\"Our validation set has {len(X_validation)} samples\")\n",
    "print(f\"Our test set has {len(X_test)} samples\")\n",
    "X_train.head()"
   ]
  },
  {
   "cell_type": "markdown",
   "id": "d0d0fa5e",
   "metadata": {},
   "source": [
    "**When using trend+seasonality based models we need to split the data using a date-cutoff. This may be implemented later.**"
   ]
  },
  {
   "cell_type": "markdown",
   "id": "b097ff61",
   "metadata": {},
   "source": [
    "# Data profiling"
   ]
  },
  {
   "cell_type": "markdown",
   "id": "43f2849d",
   "metadata": {},
   "source": [
    "The cell below is commented out for faster running of this notebook. The resulting profile report can be found by following this link:\n",
    "\n",
    "**[Rossmann profile report](files/rossmann_profile_report.html)**"
   ]
  },
  {
   "cell_type": "code",
   "execution_count": 21,
   "id": "6703a170",
   "metadata": {},
   "outputs": [],
   "source": [
    "# profile = ProfileReport(X_train)\n",
    "# profile.to_file(output_file=\"rossmann_profile_report.html\")"
   ]
  },
  {
   "cell_type": "markdown",
   "id": "a11aa010",
   "metadata": {},
   "source": [
    "# Feature engineering"
   ]
  },
  {
   "cell_type": "markdown",
   "id": "dffb355f",
   "metadata": {},
   "source": [
    "### Check amount of features missing per sample. If 4 or more, meaning about 50%, try dropping entire row.\n",
    "\n",
    "### We also need to look into outliers!\n",
    "\n",
    "**Lilla**\n",
    "\n",
    "    Date -> datetime\n",
    "    split in year, month, week, day of week; drop the original\n",
    "    make sure weekday matches weekday from date; check for missing values and impute where necessary\n",
    "    encode all except year with sine+cosine! https://ianlondon.github.io/blog/encoding-cyclical-features-24hour-time/\n",
    "\n",
    "    DayOfWeek\n",
    "    drop, replace with values derived from Date\n",
    "\n",
    "    CompetitionDistance -> float\n",
    "    Try: median imputation\n",
    "    Try also: KNNImputer (sklearn)\n",
    "\n",
    "**Corstiaen**\n",
    "\n",
    "    Store\n",
    "    3 options:\n",
    "    * drop\n",
    "    * target encoding -> float\n",
    "    * frequency encoding -> int\n",
    "    test model to seae what works best\n",
    "   **MAKE SURE STORE FEATURE IS SAME dTYPE;\n",
    "   NEEDS 0 IMPUTING FOR THAT**\n",
    "\n",
    "    Open -> one-hot encode\n",
    "    3 categories, meaning 2 one-hot columns\n",
    "    Started with median imputing (1 for True)\n",
    "    \n",
    "    Promo -> one-hot encode\n",
    "    3 categories, meaning 2 one-hot columns\n",
    "    Started with median imputing (0 for False)\n",
    "    \n",
    "    StateHoliday -> one-hot encode\n",
    "    5 categories, meaning 4 one-hot columns\n",
    "    turn 0.0 into 0\n",
    "    ['0', 0.0, 'c', nan, 'a', 'b']\n",
    "    Started with median imputing (0 for No Holiday)\n",
    "    \n",
    "    SchoolHoliday -> one-hot encode\n",
    "    3 categories, meaning 2 one-hot columns\n",
    "    Started with median imputing (0 for No Holiday)\n",
    "    \n",
    "    StoreType -> label encode\n",
    "    Try label encoding first\n",
    "    Potentially try 5 categories, meaning 4 one-hot columns\n",
    "    Started with mode imputing\n",
    "    \n",
    "    Assortment -> label encode\n",
    "    Try label encoding first\n",
    "    Potentially try 4 categories, meaning 3 one-hot columns\n",
    "    Started with mode imputing\n",
    "    \n",
    "    \n",
    "**SAM**\n",
    "\n",
    "    CompetitionOpenSinceMonth -> new int or float\n",
    "    CompetitionOpenSinceYear -> new int or float\n",
    "    Merge and create new feature, giving temporal distance from 2015-07-31 or 2015-08-31\n",
    "    potentially use datetime for these calculations?\n",
    "    Try: median imputation\n",
    "    Try also: KNNImputer (sklearn)\n",
    "    \n",
    "    Promo2 -> one-hot encode\n",
    "    3 categories including NaN, 2 columns\n",
    "    make sure all missing in other Promo2 features are described by these three categories!\n",
    "    \n",
    "    Promo2SinceWeek -> new int or float\n",
    "    Promo2SinceYear -> new int or float\n",
    "    Merge and create new feature, giving temporal distance from 2015-07-31 or 2015-08-31\n",
    "    potentially use datetime for these calculations?\n",
    "    imputation with any value, this is caught by the boolean from Promo2 feature\n",
    "    \n",
    "    PromoInterval -> one-hot encode\n",
    "    3 categories, NaNs can be added to the mode category, these will again be described by the Promo2 feature\n",
    "    "
   ]
  },
  {
   "cell_type": "markdown",
   "id": "ec299397",
   "metadata": {},
   "source": [
    "### Imputing"
   ]
  },
  {
   "cell_type": "markdown",
   "id": "8419382b",
   "metadata": {},
   "source": [
    "**ATTENTION: After dropping all days with Sales=0, we only have days left where the store was opened, or where it was not known! Therefore changing NaNs for that feature to 0. We may completely delete the column later.**"
   ]
  },
  {
   "cell_type": "code",
   "execution_count": null,
   "id": "6647da25",
   "metadata": {},
   "outputs": [],
   "source": []
  },
  {
   "cell_type": "code",
   "execution_count": null,
   "id": "11692cc1",
   "metadata": {},
   "outputs": [],
   "source": []
  }
 ],
 "metadata": {
  "kernelspec": {
   "display_name": "Python 3 (ipykernel)",
   "language": "python",
   "name": "python3"
  },
  "language_info": {
   "codemirror_mode": {
    "name": "ipython",
    "version": 3
   },
   "file_extension": ".py",
   "mimetype": "text/x-python",
   "name": "python",
   "nbconvert_exporter": "python",
   "pygments_lexer": "ipython3",
   "version": "3.8.12"
  }
 },
 "nbformat": 4,
 "nbformat_minor": 5
}
